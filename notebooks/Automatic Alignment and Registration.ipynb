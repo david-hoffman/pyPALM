{
 "cells": [
  {
   "cell_type": "markdown",
   "metadata": {},
   "source": [
    "# Automatic alignment and registration\n",
    "\n",
    "The point of this notebook is to start developing code that will automatically align sets of fiducials. For example:\n",
    "\n",
    "1. Aligning different color channels via fiducial markers\n",
    "    - considering that we already are taking \"cross-over\" images (exciting in one channel and recording in the next redder channel) it seems like we may be able to do a simple cross correlation, SIFT or image intensity alignment without using fiducials.\n",
    "1. Aligning different modalities (SIM to PALM)\n",
    "1. Aligning PALM slabs to the scaffold\n",
    "\n",
    "In this notebook we assume that fiducials (including potentially spurious ones) have been identified previously.\n",
    "\n",
    "## Iterative closest point\n",
    "- https://en.wikipedia.org/wiki/Iterative_closest_point\n",
    "- http://www.morethantechnical.com/2010/06/06/iterative-closest-point-icp-with-opencv-w-code/\n",
    "- https://www.mrpt.org/Iterative_Closest_Point_%28ICP%29_and_other_matching_algorithms\n",
    "- https://www.thinkmind.org/download.php?articleid=intsys_v8_n12_2015_10\n",
    "- http://www.cs.princeton.edu/~smr/papers/fasticp/fasticp_paper.pdf\n",
    "\n",
    "## Affine from a set of points\n",
    "https://stackoverflow.com/questions/11687281/transformation-between-two-set-of-points"
   ]
  },
  {
   "cell_type": "code",
   "execution_count": null,
   "metadata": {
    "collapsed": true
   },
   "outputs": [],
   "source": []
  }
 ],
 "metadata": {
  "kernelspec": {
   "display_name": "Python 3",
   "language": "python",
   "name": "python3"
  },
  "language_info": {
   "codemirror_mode": {
    "name": "ipython",
    "version": 3
   },
   "file_extension": ".py",
   "mimetype": "text/x-python",
   "name": "python",
   "nbconvert_exporter": "python",
   "pygments_lexer": "ipython3",
   "version": "3.6.2"
  }
 },
 "nbformat": 4,
 "nbformat_minor": 2
}
