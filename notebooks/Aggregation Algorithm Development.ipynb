{
 "cells": [
  {
   "cell_type": "markdown",
   "metadata": {},
   "source": [
    "The point of this notebook is to make sure that the aggregation algorithm accurately aggregates the data.\n",
    "\n",
    "For this notebook we'll assume that the data has already been grouped."
   ]
  },
  {
   "cell_type": "code",
   "execution_count": 1,
   "metadata": {},
   "outputs": [
    {
     "name": "stdout",
     "output_type": "stream",
     "text": [
      "Populating the interactive namespace from numpy and matplotlib\n"
     ]
    },
    {
     "name": "stderr",
     "output_type": "stream",
     "text": [
      "/Users/david/anaconda3/lib/python3.6/importlib/_bootstrap.py:219: RuntimeWarning: numpy.dtype size changed, may indicate binary incompatibility. Expected 96, got 88\n",
      "  return f(*args, **kwds)\n",
      "/Users/david/anaconda3/lib/python3.6/importlib/_bootstrap.py:219: RuntimeWarning: numpy.dtype size changed, may indicate binary incompatibility. Expected 96, got 88\n",
      "  return f(*args, **kwds)\n",
      "/Users/david/anaconda3/lib/python3.6/importlib/_bootstrap.py:219: RuntimeWarning: numpy.dtype size changed, may indicate binary incompatibility. Expected 96, got 88\n",
      "  return f(*args, **kwds)\n",
      "/Users/david/anaconda3/lib/python3.6/importlib/_bootstrap.py:219: RuntimeWarning: numpy.dtype size changed, may indicate binary incompatibility. Expected 96, got 88\n",
      "  return f(*args, **kwds)\n",
      "/Users/david/anaconda3/lib/python3.6/importlib/_bootstrap.py:219: RuntimeWarning: numpy.dtype size changed, may indicate binary incompatibility. Expected 96, got 88\n",
      "  return f(*args, **kwds)\n",
      "/Users/david/anaconda3/lib/python3.6/site-packages/sklearn/ensemble/weight_boosting.py:29: DeprecationWarning: numpy.core.umath_tests is an internal NumPy module and should not be imported. It will be removed in a future NumPy release.\n",
      "  from numpy.core.umath_tests import inner1d\n",
      "/Users/david/Box Sync/Python/Scripts/palm_diagnostics.py:709: UserWarning: Calibration not available ...\n",
      "  warnings.warn(\"Calibration not available ...\")\n"
     ]
    }
   ],
   "source": [
    "%pylab inline\n",
    "import pandas as pd\n",
    "\n",
    "%load_ext autoreload\n",
    "%autoreload 2\n",
    "import palm_diagnostics as pdiag"
   ]
  },
  {
   "cell_type": "code",
   "execution_count": 2,
   "metadata": {},
   "outputs": [],
   "source": [
    "# original code\n",
    "def agg_groups(df_grouped):\n",
    "    \"\"\"Aggregate groups\n",
    "    \n",
    "    https://en.wikipedia.org/wiki/Weighted_arithmetic_mean#Weighted_sample_variance\n",
    "    \"\"\"\n",
    "    coords = [\"x\", \"y\", \"z\"]\n",
    "    \n",
    "    # save the labels for weighted coords and weights\n",
    "    w_coords = []\n",
    "    w_coords2 = []\n",
    "    weights = []\n",
    "    \n",
    "    # loop through coords generating weights and weighted coords\n",
    "    for c in coords:\n",
    "        # calculate weights\n",
    "        s = \"sigma_\" + c\n",
    "        df_grouped[s + \"_inv\"] = 1 / df_grouped[s] ** 2\n",
    "        weights.append(s + \"_inv\")\n",
    "        x = c + \"0\"\n",
    "        # weighted position\n",
    "        df_grouped[x + \"_w\"] = df_grouped[x].mul(df_grouped[s + \"_inv\"], \"index\")\n",
    "        w_coords.append(x + \"_w\")\n",
    "        # weighted position^2\n",
    "        df_grouped[x + \"_w2\"] = (df_grouped[x]**2).mul(df_grouped[s + \"_inv\"], \"index\")\n",
    "        w_coords2.append(x + \"_w2\")\n",
    "    \n",
    "    # groupby group_id and sum\n",
    "    temp_gb = df_grouped.groupby(\"group_id\")\n",
    "    \n",
    "    # calculate sum weights\n",
    "    sum_w = temp_gb[weights].sum().values\n",
    "    \n",
    "    # finish weighted mean\n",
    "    new_coords = temp_gb[w_coords].sum() / sum_w\n",
    "    \n",
    "    # doing this here to preserve order\n",
    "    new_coords2_values = (new_coords**2)[w_coords].values\n",
    "    new_coords.columns = [c.replace(\"_w\", \"\") for c in new_coords.columns]\n",
    "    \n",
    "    # calc new sigma\n",
    "    # basically the weighted std dev of the points added in quadrature to the \n",
    "    # std dev of the std dev of all points\n",
    "    # $$\n",
    "    # \\sqrt{\\frac{\\sum w_i (x_i - \\mu^*)^2}{\\sum w_i} + \\frac{1}{\\sum w_i}} \\\\\n",
    "    # \\sqrt{\\frac{\\sum w_i x_i^2}{\\sum w_i} - \\mu^{*2} + \\frac{1}{\\sum w_i}} \\\\\n",
    "    # \\sqrt{\\frac{\\sum w_i x_i^2 + 1}{\\sum w_i} - \\mu^{*2}} \\\\\n",
    "    # w_i = \\frac{1}{\\sigma_i^2}\n",
    "    # $$\n",
    "    new_sigmas = np.sqrt((temp_gb[w_coords2].sum() + 1) / sum_w -\n",
    "                         new_coords2_values)\n",
    "    new_sigmas.columns = [\"sigma_\" + c[0] for c in new_sigmas.columns]\n",
    "    \n",
    "    # calc new group params\n",
    "    new_amp = temp_gb[[\"amp\", \"nphotons\", \"chi2\"]].sum()\n",
    "    new_frame = temp_gb[[\"frame\"]].first()\n",
    "    groupsize = temp_gb.x0.count()\n",
    "    groupsize.name = \"groupsize\"\n",
    "    \n",
    "    # take the mean of all remaining columns\n",
    "    # figure out columns to drop\n",
    "    other_columns = [\"groupsize\"] + w_coords + w_coords2 + weights\n",
    "    for df in (new_coords, new_sigmas, new_amp, new_frame):\n",
    "        other_columns += df.columns.tolist()\n",
    "    other_columns += [\"group_id\"]\n",
    "    columns_to_mean = df_grouped.columns.difference(other_columns)\n",
    "    # take the mean\n",
    "    new_means = temp_gb[columns_to_mean].mean()\n",
    "    \n",
    "    # drop added columns from original data frame\n",
    "    df_grouped.drop(columns=w_coords + weights + w_coords2, inplace=True)\n",
    "    \n",
    "    # return new data frame\n",
    "    return pd.concat([new_coords, new_sigmas, new_amp, new_frame, groupsize, new_means], axis=1)"
   ]
  },
  {
   "cell_type": "markdown",
   "metadata": {},
   "source": [
    "https://en.wikipedia.org/wiki/Weighted_arithmetic_mean#Weighted_sample_variance\n",
    "\n",
    "calc new sigma\n",
    "basically the weighted std dev of the points added in quadrature to the \n",
    "std dev of the std dev of all points\n",
    "$$\n",
    "\\sqrt{\\frac{\\sum w_i (x_i - \\mu^*)^2}{\\sum w_i} + \\frac{1}{\\sum w_i}} \\\\\n",
    "\\sqrt{\\frac{\\sum w_i x_i^2}{\\sum w_i} - \\mu^{*2} + \\frac{1}{\\sum w_i}} \\\\\n",
    "\\sqrt{\\frac{\\sum w_i x_i^2 + 1}{\\sum w_i} - \\mu^{*2}} \\\\\n",
    "w_i = \\frac{1}{\\sigma_i^2}\n",
    "$$\n",
    "\n",
    "However, this is **wrong** as I can demonstrate with a bootstrapping method"
   ]
  },
  {
   "cell_type": "code",
   "execution_count": 3,
   "metadata": {},
   "outputs": [
    {
     "data": {
      "text/html": [
       "<div>\n",
       "<style scoped>\n",
       "    .dataframe tbody tr th:only-of-type {\n",
       "        vertical-align: middle;\n",
       "    }\n",
       "\n",
       "    .dataframe tbody tr th {\n",
       "        vertical-align: top;\n",
       "    }\n",
       "\n",
       "    .dataframe thead th {\n",
       "        text-align: right;\n",
       "    }\n",
       "</style>\n",
       "<table border=\"1\" class=\"dataframe\">\n",
       "  <thead>\n",
       "    <tr style=\"text-align: right;\">\n",
       "      <th></th>\n",
       "      <th>amp</th>\n",
       "      <th>nphotons</th>\n",
       "      <th>chi2</th>\n",
       "      <th>frame</th>\n",
       "      <th>offset</th>\n",
       "      <th>x0</th>\n",
       "      <th>y0</th>\n",
       "      <th>z0</th>\n",
       "      <th>sigma_x</th>\n",
       "      <th>sigma_y</th>\n",
       "      <th>sigma_z</th>\n",
       "      <th>group_id</th>\n",
       "    </tr>\n",
       "  </thead>\n",
       "  <tbody>\n",
       "    <tr>\n",
       "      <th>0</th>\n",
       "      <td>-0.348153</td>\n",
       "      <td>-1.049764</td>\n",
       "      <td>-0.712868</td>\n",
       "      <td>0.767803</td>\n",
       "      <td>-0.073160</td>\n",
       "      <td>523.228643</td>\n",
       "      <td>242.597982</td>\n",
       "      <td>-119.667086</td>\n",
       "      <td>361.228768</td>\n",
       "      <td>297.319612</td>\n",
       "      <td>299.025849</td>\n",
       "      <td>0</td>\n",
       "    </tr>\n",
       "    <tr>\n",
       "      <th>1</th>\n",
       "      <td>0.509572</td>\n",
       "      <td>-1.065322</td>\n",
       "      <td>-1.235250</td>\n",
       "      <td>-1.478324</td>\n",
       "      <td>1.493506</td>\n",
       "      <td>379.461524</td>\n",
       "      <td>-150.562166</td>\n",
       "      <td>616.171044</td>\n",
       "      <td>330.495865</td>\n",
       "      <td>301.976437</td>\n",
       "      <td>288.303807</td>\n",
       "      <td>0</td>\n",
       "    </tr>\n",
       "    <tr>\n",
       "      <th>2</th>\n",
       "      <td>1.967754</td>\n",
       "      <td>0.312150</td>\n",
       "      <td>-0.622208</td>\n",
       "      <td>-0.101142</td>\n",
       "      <td>-0.873286</td>\n",
       "      <td>-154.659711</td>\n",
       "      <td>7.678237</td>\n",
       "      <td>-107.734096</td>\n",
       "      <td>284.313610</td>\n",
       "      <td>269.441136</td>\n",
       "      <td>285.074870</td>\n",
       "      <td>0</td>\n",
       "    </tr>\n",
       "    <tr>\n",
       "      <th>3</th>\n",
       "      <td>-1.532953</td>\n",
       "      <td>0.758514</td>\n",
       "      <td>0.771878</td>\n",
       "      <td>-0.757151</td>\n",
       "      <td>-0.693969</td>\n",
       "      <td>-47.483740</td>\n",
       "      <td>-171.715767</td>\n",
       "      <td>147.303664</td>\n",
       "      <td>308.751289</td>\n",
       "      <td>309.357288</td>\n",
       "      <td>305.485998</td>\n",
       "      <td>0</td>\n",
       "    </tr>\n",
       "    <tr>\n",
       "      <th>4</th>\n",
       "      <td>0.992647</td>\n",
       "      <td>0.756353</td>\n",
       "      <td>0.299591</td>\n",
       "      <td>-1.100366</td>\n",
       "      <td>0.084843</td>\n",
       "      <td>353.548063</td>\n",
       "      <td>-305.553943</td>\n",
       "      <td>324.247186</td>\n",
       "      <td>331.507378</td>\n",
       "      <td>329.995601</td>\n",
       "      <td>328.640964</td>\n",
       "      <td>0</td>\n",
       "    </tr>\n",
       "  </tbody>\n",
       "</table>\n",
       "</div>"
      ],
      "text/plain": [
       "        amp  nphotons      chi2     frame    offset          x0          y0  \\\n",
       "0 -0.348153 -1.049764 -0.712868  0.767803 -0.073160  523.228643  242.597982   \n",
       "1  0.509572 -1.065322 -1.235250 -1.478324  1.493506  379.461524 -150.562166   \n",
       "2  1.967754  0.312150 -0.622208 -0.101142 -0.873286 -154.659711    7.678237   \n",
       "3 -1.532953  0.758514  0.771878 -0.757151 -0.693969  -47.483740 -171.715767   \n",
       "4  0.992647  0.756353  0.299591 -1.100366  0.084843  353.548063 -305.553943   \n",
       "\n",
       "           z0     sigma_x     sigma_y     sigma_z  group_id  \n",
       "0 -119.667086  361.228768  297.319612  299.025849         0  \n",
       "1  616.171044  330.495865  301.976437  288.303807         0  \n",
       "2 -107.734096  284.313610  269.441136  285.074870         0  \n",
       "3  147.303664  308.751289  309.357288  305.485998         0  \n",
       "4  324.247186  331.507378  329.995601  328.640964         0  "
      ]
     },
     "execution_count": 3,
     "metadata": {},
     "output_type": "execute_result"
    }
   ],
   "source": [
    "# generate data\n",
    "columns = [\"amp\", \"nphotons\", \"chi2\", \"frame\", \"offset\"]\n",
    "\n",
    "sigmas = [\"sigma_\" + c for c in \"xyz\"]\n",
    "coords = [c + \"0\" for c in \"xyz\"]\n",
    "\n",
    "num_localizations = 1000000\n",
    "\n",
    "columns += coords + sigmas\n",
    "# uniformly distributed data (space)\n",
    "# data = np.random.rand(num_localizations, len(columns)) - 0.5\n",
    "# normally distributed data (space)\n",
    "data = np.random.randn(num_localizations, len(columns))\n",
    "data = pd.DataFrame(data, columns=columns)\n",
    "# split into 1000 random groups\n",
    "data[\"group_id\"] = np.arange(len(data)) // 100\n",
    "# data[\"group_id\"] = (np.random.randn(num_localizations) * 100).astype(int)\n",
    "# data[\"group_id\"] = np.random.randint(1000, size=num_localizations)\n",
    "\n",
    "# equal weights\n",
    "# data[sigmas] = 1\n",
    "# non-equal weights\n",
    "data[sigmas] = np.random.chisquare(300, size= (num_localizations, 3))\n",
    "# this places coordinates according to their localization position\n",
    "data[coords] *= data[sigmas].values\n",
    "data.head()"
   ]
  },
  {
   "cell_type": "code",
   "execution_count": 4,
   "metadata": {},
   "outputs": [
    {
     "data": {
      "text/plain": [
       "array([[<matplotlib.axes._subplots.AxesSubplot object at 0x10773e828>]],\n",
       "      dtype=object)"
      ]
     },
     "execution_count": 4,
     "metadata": {},
     "output_type": "execute_result"
    },
    {
     "data": {
      "image/png": "[encoded data removed]",
      "text/plain": [
       "<Figure size 432x288 with 4 Axes>"
      ]
     },
     "metadata": {},
     "output_type": "display_data"
    },
    {
     "data": {
      "image/png": "[encoded data removed]",
      "text/plain": [
       "<Figure size 432x288 with 4 Axes>"
      ]
     },
     "metadata": {},
     "output_type": "display_data"
    },
    {
     "data": {
      "image/png": "[encoded data removed]",
      "text/plain": [
       "<Figure size 432x288 with 1 Axes>"
      ]
     },
     "metadata": {},
     "output_type": "display_data"
    }
   ],
   "source": [
    "data[sigmas].hist(bins=32)\n",
    "data[coords].hist(bins=32)\n",
    "data[[\"group_id\"]].hist(bins=np.arange(data.group_id.min(), data.group_id.max() + 1))"
   ]
  },
  {
   "cell_type": "code",
   "execution_count": 5,
   "metadata": {},
   "outputs": [],
   "source": [
    "def weighted_mean(df):\n",
    "    \"\"\"Weighted mean as defined here https://en.wikipedia.org/wiki/Weighted_arithmetic_mean#Statistical_properties\"\"\"\n",
    "    if len(df) == 1:\n",
    "        return df[coords]\n",
    "    weights = 1 / df[sigmas].values ** 2\n",
    "    new_coords = (df[coords].values * weights).sum(0, keepdims=True) / weights.sum(0)\n",
    "    return pd.DataFrame(new_coords, columns=coords)"
   ]
  },
  {
   "cell_type": "code",
   "execution_count": 6,
   "metadata": {},
   "outputs": [],
   "source": [
    "def weighted_variance(df):\n",
    "    \"\"\"https://en.wikipedia.org/wiki/Weighted_arithmetic_mean#Weighted_sample_variance\n",
    "    \n",
    "    Note that this is the estimated sample variance, **not** the variance of the mean\"\"\"\n",
    "    if len(df) == 1:\n",
    "        return df[sigmas]\n",
    "    weights = 1 / df[sigmas].values ** 2\n",
    "    V1 = weights.sum(0, keepdims=True)\n",
    "    V2 = (weights ** 2).sum(0, keepdims=True)\n",
    "    mu = weighted_mean(df)[coords].values\n",
    "    xi = df[coords].values\n",
    "    denominator = V1 - V2 / V1\n",
    "    s = (weights * (xi - mu) ** 2).sum(0, keepdims=True) / denominator\n",
    "    return pd.DataFrame(np.sqrt(s), columns=sigmas)"
   ]
  },
  {
   "cell_type": "code",
   "execution_count": 7,
   "metadata": {},
   "outputs": [],
   "source": [
    "# There is no generally accepted formula for the standard error of the weighted mean\n",
    "# However this paper https://www.cs.tufts.edu/~nr/cs257/archive/donald-gatz/weighted-standard-error.pdf\n",
    "# tests a few proposed formulas, this is the one they claim works the best which we'll\n",
    "# test in a boot strap method\n",
    "\n",
    "def weighted_variance2(df):\n",
    "    \"\"\"https://www.cs.tufts.edu/~nr/cs257/archive/donald-gatz/weighted-standard-error.pdf\"\"\"\n",
    "    if len(df) == 1:\n",
    "        return df[sigmas]\n",
    "    wi = 1 / df[sigmas].values ** 2\n",
    "    V1 = wi.sum(0, keepdims=True)\n",
    "    mu = weighted_mean(df)[coords].values\n",
    "    xi = df[coords].values\n",
    "    n = len(df)\n",
    "    A = n / ((n-1) * V1 ** 2)\n",
    "    a = (wi - V1)\n",
    "    b = (wi * xi - V1 * mu)\n",
    "    B = (b ** 2).sum(0, keepdims=True)\n",
    "    C = 2 * mu * (a * b).sum(0, keepdims=True)\n",
    "    D = (mu ** 2) * (a ** 2).sum(0, keepdims=True)\n",
    "    s = A * (B - C + D)\n",
    "    return pd.DataFrame(np.sqrt(s), columns=sigmas)"
   ]
  },
  {
   "cell_type": "markdown",
   "metadata": {},
   "source": [
    "The equation given in Gatz, Donald F., and Luther Smith. “The Standard Error of a Weighted Mean Concentration—I. Bootstrapping vs Other Methods.” Atmospheric Environment 29, no. 11 (June 1, 1995): 1185–93. https://doi.org/10.1016/1352-2310(94)00210-C. on page 1186 is\n",
    "\n",
    "$$\n",
    "(SEM_w)^2 = \\frac{n}{(n-1)\\left(\\sum P_i\\right)^2}  \\left[\\sum (P_i X_i - \\bar{P} \\bar{X}_w)^2 - \n",
    "2 \\bar{X}_w \\sum (P_i - \\bar{P})(P_i X_i - \\bar{P}\\bar{X}_w)\n",
    "+ \\bar{X}_w^2 \\sum (P_i - \\bar{P})^2 \\right]\n",
    "$$\n",
    "\n",
    "It is never stated but seems safe to assume that $\\bar{P} = \\sum P_i$. We can write this in more usual notation where $\\mu^* = \\sum w_i x_i / \\bar{w}$ where $\\bar{w} = \\sum w_i$ and $w_i$ are the weights of the measurement and $x_i$ are the measurements. Using this notation we have:\n",
    "\n",
    "$$\n",
    "(\\text{SEM}_w)^2 = \\frac{n}{(n-1)\\bar{w}^2}  \\left[\\sum (w_i x_i - \\bar{w} \\mu^*)^2 - \n",
    "2 \\mu^* \\sum (w_i - \\bar{w})(w_i x_i - \\bar{w}\\mu^*)\n",
    "+ \\mu^{*2} \\sum (w_i - \\bar{w})^2 \\right]\n",
    "$$\n",
    "\n",
    "It can be shown that this reduces to:\n",
    "$$\n",
    "(SEM_w)^2 = \\frac{n}{(n-1)\\bar{w}^2}  \\sum w_i^2(x_i - \\mu^*)^2\n",
    "$$\n",
    "\n",
    "Which is similar to the weighted sample variance\n",
    "\n",
    "$$\n",
    "s^2 = \\frac{\\sum w_i (x_i - \\mu^*)^2}{V_1 - (V_2 / V_1)}\n",
    "$$\n",
    "\n",
    "Where $V_1 = \\sum w_i = \\bar{w}$ and $V_2 = \\sum w_i^2$\n",
    "\n",
    "For computational purposes we can expand the equation to be\n",
    "\n",
    "$$\n",
    "(SEM_w)^2 = \\frac{n}{(n-1)\\bar{w}^2} \\left( \\sum w_i^2 x_i^2 - 2 \\mu^* \\sum w_i^2 x_i + \\mu^{*2} \\sum w_i^2 \\right)\n",
    "$$"
   ]
  },
  {
   "cell_type": "code",
   "execution_count": 8,
   "metadata": {},
   "outputs": [
    {
     "data": {
      "text/plain": [
       "10000"
      ]
     },
     "execution_count": 8,
     "metadata": {},
     "output_type": "execute_result"
    }
   ],
   "source": [
    "# split data into 1000 evenly sized groups\n",
    "gb = data.groupby(\"group_id\")\n",
    "len(gb)"
   ]
  },
  {
   "cell_type": "code",
   "execution_count": 9,
   "metadata": {},
   "outputs": [],
   "source": [
    "# calculate weighted mean of groups\n",
    "mu = gb.apply(weighted_mean)"
   ]
  },
  {
   "cell_type": "code",
   "execution_count": 10,
   "metadata": {},
   "outputs": [
    {
     "data": {
      "text/plain": [
       "x0    0.301194\n",
       "y0    0.301044\n",
       "z0    0.300888\n",
       "dtype: float64"
      ]
     },
     "execution_count": 10,
     "metadata": {},
     "output_type": "execute_result"
    }
   ],
   "source": [
    "# data standard error of the mean, we have so many points that this\n",
    "# will be accurate by virtue of the central limit theorem\n",
    "data[coords].sem()"
   ]
  },
  {
   "cell_type": "code",
   "execution_count": 11,
   "metadata": {},
   "outputs": [
    {
     "data": {
      "text/plain": [
       "x0    301.193885\n",
       "y0    301.044482\n",
       "z0    300.887668\n",
       "dtype: float64"
      ]
     },
     "execution_count": 11,
     "metadata": {},
     "output_type": "execute_result"
    }
   ],
   "source": [
    "# data standard deviation\n",
    "data[coords].std()"
   ]
  },
  {
   "cell_type": "code",
   "execution_count": 12,
   "metadata": {},
   "outputs": [
    {
     "data": {
      "text/plain": [
       "100"
      ]
     },
     "execution_count": 12,
     "metadata": {},
     "output_type": "execute_result"
    }
   ],
   "source": [
    "# group the weighted means into sub_groups of 100\n",
    "# so each weighted mean is a mean of 100 points, and each subgroup is 100 such means\n",
    "mu_gb = mu.groupby(np.arange(len(mu)) // 100)\n",
    "mu_gb.size().max()"
   ]
  },
  {
   "cell_type": "code",
   "execution_count": 13,
   "metadata": {},
   "outputs": [
    {
     "name": "stdout",
     "output_type": "stream",
     "text": [
      "100\n",
      "The average SEM:\n",
      " x0    29.857581\n",
      "y0    29.590157\n",
      "z0    29.492337\n",
      "dtype: float64\n",
      "The variance in SEM:\n"
     ]
    },
    {
     "data": {
      "text/plain": [
       "x0    1.984385\n",
       "y0    2.039222\n",
       "z0    1.895328\n",
       "dtype: float64"
      ]
     },
     "execution_count": 13,
     "metadata": {},
     "output_type": "execute_result"
    }
   ],
   "source": [
    "# Look at the std deviation of the grouped weighted means, this should\n",
    "# provide an estimate of the weighted means variance, or the standard\n",
    "# error of the weighted mean\n",
    "mu2 = mu_gb.std()\n",
    "print(len(mu2))\n",
    "print(\"The average SEM:\\n\", mu2.mean())\n",
    "print(\"The variance in SEM:\")\n",
    "mu2.std()"
   ]
  },
  {
   "cell_type": "code",
   "execution_count": 14,
   "metadata": {},
   "outputs": [
    {
     "name": "stdout",
     "output_type": "stream",
     "text": [
      "CPU times: user 30 s, sys: 618 ms, total: 30.6 s\n",
      "Wall time: 30.8 s\n",
      "CPU times: user 33.2 s, sys: 773 ms, total: 33.9 s\n",
      "Wall time: 34.3 s\n"
     ]
    }
   ],
   "source": [
    "%time s1 = gb.apply(weighted_variance)\n",
    "%time s2 = gb.apply(weighted_variance2)"
   ]
  },
  {
   "cell_type": "code",
   "execution_count": 15,
   "metadata": {},
   "outputs": [
    {
     "data": {
      "text/plain": [
       "(sigma_x    296.439118\n",
       " sigma_y    296.418056\n",
       " sigma_z    296.162570\n",
       " dtype: float64, sigma_x    21.407148\n",
       " sigma_y    21.212224\n",
       " sigma_z    21.399738\n",
       " dtype: float64)"
      ]
     },
     "execution_count": 15,
     "metadata": {},
     "output_type": "execute_result"
    }
   ],
   "source": [
    "# you can see that the formula we have been using has been estimating the\n",
    "# variance of the samples, _not_ the variance of the weighted mean!\n",
    "s1.mean(), s1.std()"
   ]
  },
  {
   "cell_type": "code",
   "execution_count": 16,
   "metadata": {},
   "outputs": [
    {
     "data": {
      "text/plain": [
       "(sigma_x    29.629764\n",
       " sigma_y    29.635993\n",
       " sigma_z    29.601937\n",
       " dtype: float64, sigma_x    2.170890\n",
       " sigma_y    2.150853\n",
       " sigma_z    2.166197\n",
       " dtype: float64)"
      ]
     },
     "execution_count": 16,
     "metadata": {},
     "output_type": "execute_result"
    }
   ],
   "source": [
    "# Gatz method reproduces nicely the mean and distribution\n",
    "s2.mean(), s2.std()"
   ]
  },
  {
   "cell_type": "code",
   "execution_count": 17,
   "metadata": {},
   "outputs": [],
   "source": [
    "def weighted_variance3(df):\n",
    "    \"\"\"https://www.cs.tufts.edu/~nr/cs257/archive/donald-gatz/weighted-standard-error.pdf\"\"\"\n",
    "    if len(df) == 1:\n",
    "        return df[sigmas]\n",
    "    wi = 1 / df[sigmas].values ** 2\n",
    "    wi_bar = wi.sum(0, keepdims=True)\n",
    "    wi2 = wi ** 2\n",
    "    mu = weighted_mean(df)[coords].values\n",
    "    xi = df[coords].values\n",
    "    n = len(df)\n",
    "    a = (wi2 * xi ** 2).sum(0, keepdims=True)\n",
    "    b = 2 * mu * (wi2 * xi).sum(0, keepdims=True)\n",
    "    c = mu ** 2 * wi2.sum(0, keepdims=True)\n",
    "    s = (n / ((n - 1) * wi_bar ** 2)) * (a - b + c)\n",
    "    return pd.DataFrame(np.sqrt(s), columns=sigmas)"
   ]
  },
  {
   "cell_type": "code",
   "execution_count": 18,
   "metadata": {},
   "outputs": [],
   "source": [
    "def weighted_variance4(df):\n",
    "    \"\"\"Wes' version\"\"\"\n",
    "    if len(df) == 1:\n",
    "        return df[sigmas]\n",
    "    wi = 1 / df[sigmas]**2\n",
    "    s = 1 / (wi.sum(0))\n",
    "    return np.sqrt(s)"
   ]
  },
  {
   "cell_type": "code",
   "execution_count": 19,
   "metadata": {},
   "outputs": [
    {
     "name": "stdout",
     "output_type": "stream",
     "text": [
      "CPU times: user 28.5 s, sys: 566 ms, total: 29 s\n",
      "Wall time: 29.2 s\n"
     ]
    }
   ],
   "source": [
    "%time s3 = gb.apply(weighted_variance3)"
   ]
  },
  {
   "cell_type": "code",
   "execution_count": 20,
   "metadata": {},
   "outputs": [
    {
     "data": {
      "text/plain": [
       "(sigma_x    29.629764\n",
       " sigma_y    29.635993\n",
       " sigma_z    29.601937\n",
       " dtype: float64, sigma_x    2.170890\n",
       " sigma_y    2.150853\n",
       " sigma_z    2.166197\n",
       " dtype: float64)"
      ]
     },
     "execution_count": 20,
     "metadata": {},
     "output_type": "execute_result"
    }
   ],
   "source": [
    "s3.mean(), s3.std()"
   ]
  },
  {
   "cell_type": "code",
   "execution_count": 21,
   "metadata": {},
   "outputs": [
    {
     "data": {
      "text/plain": [
       "True"
      ]
     },
     "execution_count": 21,
     "metadata": {},
     "output_type": "execute_result"
    }
   ],
   "source": [
    "# check that our mathematical manipulations work\n",
    "np.allclose(s3, s2)"
   ]
  },
  {
   "cell_type": "code",
   "execution_count": 22,
   "metadata": {},
   "outputs": [],
   "source": [
    "s4 = gb.apply(weighted_variance4)"
   ]
  },
  {
   "cell_type": "code",
   "execution_count": 23,
   "metadata": {},
   "outputs": [
    {
     "data": {
      "text/plain": [
       "(sigma_x    29.706295\n",
       " sigma_y    29.704006\n",
       " sigma_z    29.704136\n",
       " dtype: float64, sigma_x    0.247944\n",
       " sigma_y    0.249286\n",
       " sigma_z    0.244446\n",
       " dtype: float64)"
      ]
     },
     "execution_count": 23,
     "metadata": {},
     "output_type": "execute_result"
    }
   ],
   "source": [
    "s4.mean(), s4.std()"
   ]
  },
  {
   "cell_type": "code",
   "execution_count": 24,
   "metadata": {},
   "outputs": [
    {
     "data": {
      "text/plain": [
       "array([[<matplotlib.axes._subplots.AxesSubplot object at 0x12923c358>,\n",
       "        <matplotlib.axes._subplots.AxesSubplot object at 0x129250978>],\n",
       "       [<matplotlib.axes._subplots.AxesSubplot object at 0x1291e4048>,\n",
       "        <matplotlib.axes._subplots.AxesSubplot object at 0x1291fb6d8>]],\n",
       "      dtype=object)"
      ]
     },
     "execution_count": 24,
     "metadata": {},
     "output_type": "execute_result"
    },
    {
     "data": {
      "image/png": "[encoded data removed]",
      "text/plain": [
       "<Figure size 432x288 with 4 Axes>"
      ]
     },
     "metadata": {},
     "output_type": "display_data"
    },
    {
     "data": {
      "image/png": "[encoded data removed]",
      "text/plain": [
       "<Figure size 432x288 with 4 Axes>"
      ]
     },
     "metadata": {},
     "output_type": "display_data"
    },
    {
     "data": {
      "image/png": "[encoded data removed]",
      "text/plain": [
       "<Figure size 432x288 with 4 Axes>"
      ]
     },
     "metadata": {},
     "output_type": "display_data"
    },
    {
     "data": {
      "image/png": "[encoded data removed]",
      "text/plain": [
       "<Figure size 432x288 with 4 Axes>"
      ]
     },
     "metadata": {},
     "output_type": "display_data"
    }
   ],
   "source": [
    "bins = np.linspace(-1, 1, 32) * mu2.std().mean() * 3 + mu2.mean().mean()\n",
    "s2.sample(n=len(mu2)).hist(bins=bins)\n",
    "s3.sample(n=len(mu2)).hist(bins=bins)\n",
    "s4.sample(n=len(mu2)).hist(bins=bins)\n",
    "mu2.hist(bins=bins)"
   ]
  },
  {
   "cell_type": "code",
   "execution_count": 25,
   "metadata": {},
   "outputs": [],
   "source": [
    "# new code\n",
    "def agg_groups(df_grouped):\n",
    "    \"\"\"Aggregate groups, weighted mean as usual, and sigmas are standard error on the weighted\n",
    "    mean as calculated in the reference below.\n",
    "    \n",
    "    Gatz, Donald F., and Luther Smith.\n",
    "    “The Standard Error of a Weighted Mean Concentration—I. Bootstrapping vs Other Methods.”\n",
    "    Atmospheric Environment 29, no. 11 (June 1, 1995): 1185–93.\n",
    "    https://doi.org/10.1016/1352-2310(94)00210-C\n",
    "    \"\"\"\n",
    "    coords = [\"x\", \"y\", \"z\"]\n",
    "    \n",
    "    # turns out that its fastest to use pandas aggs built in functions at all\n",
    "    # costs, even more memory, so we need to build the columns we'll use\n",
    "    # later on\n",
    "    \n",
    "    # coordinates\n",
    "    sigmas = []\n",
    "    # coordinates\n",
    "    xi = []\n",
    "    # weights\n",
    "    wi = []\n",
    "    # square weights\n",
    "    wi2 = []\n",
    "    # weighted coordinates\n",
    "    wi_xi = []\n",
    "    # square weighted coordinates\n",
    "    wi2_xi = []\n",
    "    # square weighted squared coordinates\n",
    "    wi2_xi2 = []\n",
    "    \n",
    "    # loop through coords generating weights and weighted coords\n",
    "    for c in coords:\n",
    "        s = \"sigma_\" + c\n",
    "        sigmas.append(s)\n",
    "        x = c + \"0\"\n",
    "        xi.append(x)\n",
    "        # calculate weights\n",
    "        wi.append(\"wi_\" + c)\n",
    "        df_grouped[wi[-1]] = 1 / df_grouped[s] ** 2\n",
    "        # square weights\n",
    "        wi2.append(\"wi2_\" + c)\n",
    "        df_grouped[wi2[-1]] = 1 / df_grouped[s] ** 4\n",
    "        # weighted position\n",
    "        wi_xi.append(\"wi_xi_\" + c)\n",
    "        df_grouped[wi_xi[-1]] = df_grouped[x].mul(df_grouped[wi[-1]], \"index\")\n",
    "        # square weighted coordinates\n",
    "        wi2_xi.append(\"wi2_xi_\" + c)\n",
    "        df_grouped[wi2_xi[-1]] = df_grouped[x].mul(df_grouped[wi2[-1]], \"index\")\n",
    "        # square weighted squared coordinates\n",
    "        wi2_xi2.append(\"wi2_xi2_\" + c)\n",
    "        df_grouped[wi2_xi2[-1]] = (df_grouped[x] ** 2).mul(df_grouped[wi2[-1]], \"index\")\n",
    "        \n",
    "    \n",
    "    # groupby group_id and sum\n",
    "    temp_gb = df_grouped.groupby(\"group_id\")\n",
    "    \n",
    "    # calc new group params\n",
    "    new_amp = temp_gb[[\"amp\", \"nphotons\", \"chi2\"]].sum()\n",
    "    new_frame = temp_gb[[\"frame\"]].first()\n",
    "    groupsize = temp_gb.size()\n",
    "    groupsize.name = \"groupsize\"\n",
    "    \n",
    "    # calculate sum weights\n",
    "    wi_bar = temp_gb[wi].sum().values\n",
    "    \n",
    "    # finish weighted mean\n",
    "    mu = temp_gb[wi_xi].sum() / wi_bar\n",
    "    \n",
    "    # doing this here to preserve order\n",
    "    mu.columns = [c[-1] + \"0\" for c in mu.columns]\n",
    "    \n",
    "    # calc new sigma\n",
    "    new_sigmas = (temp_gb[wi2_xi2].sum().values\n",
    "                  - 2 * mu[xi] * temp_gb[wi2_xi].sum().values\n",
    "                  + (mu[xi] ** 2) * temp_gb[wi2].sum().values)\n",
    "    gsize = groupsize.values[:, None]\n",
    "    with np.errstate(divide='ignore', invalid='ignore'):\n",
    "        new_sigmas = np.sqrt((gsize / (gsize - 1)) * new_sigmas / wi_bar ** 2)\n",
    "    new_sigmas.columns = [\"sigma_\" + c[0] for c in xi]\n",
    "    nan_locs = new_sigmas.isna().any(1)\n",
    "    new_sigmas[nan_locs] = temp_gb[sigmas].first()[nan_locs]\n",
    "    \n",
    "    # take the mean of all remaining columns\n",
    "    # figure out columns to drop\n",
    "    extra_columns = wi + wi2 + wi_xi + wi2_xi + wi2_xi2\n",
    "    other_columns = [\"groupsize\"] + extra_columns\n",
    "    for df in (mu, new_sigmas, new_amp, new_frame):\n",
    "        other_columns += df.columns.tolist()\n",
    "    other_columns += [\"group_id\"]\n",
    "    columns_to_mean = df_grouped.columns.difference(other_columns)\n",
    "    # take the mean\n",
    "    new_means = temp_gb[columns_to_mean].mean()\n",
    "    \n",
    "    # drop added columns from original data frame\n",
    "    df_grouped.drop(columns=extra_columns, inplace=True)\n",
    "    \n",
    "    # return new data frame\n",
    "    df_agg = pd.concat([mu, new_sigmas, new_amp, new_frame, groupsize, new_means], axis=1)\n",
    "    return df_agg"
   ]
  },
  {
   "cell_type": "code",
   "execution_count": 26,
   "metadata": {},
   "outputs": [
    {
     "name": "stdout",
     "output_type": "stream",
     "text": [
      "663 ms ± 32.2 ms per loop (mean ± std. dev. of 7 runs, 1 loop each)\n",
      "620 ms ± 21.1 ms per loop (mean ± std. dev. of 7 runs, 1 loop each)\n"
     ]
    }
   ],
   "source": [
    "%timeit agg_groups(data)\n",
    "%timeit pdiag.agg_groups(data)"
   ]
  },
  {
   "cell_type": "code",
   "execution_count": 27,
   "metadata": {},
   "outputs": [
    {
     "data": {
      "text/plain": [
       "True"
      ]
     },
     "execution_count": 27,
     "metadata": {},
     "output_type": "execute_result"
    }
   ],
   "source": [
    "np.allclose(pdiag.agg_groups(data), agg_groups(data))"
   ]
  },
  {
   "cell_type": "code",
   "execution_count": 28,
   "metadata": {},
   "outputs": [
    {
     "data": {
      "text/plain": [
       "True"
      ]
     },
     "execution_count": 28,
     "metadata": {},
     "output_type": "execute_result"
    }
   ],
   "source": [
    "np.allclose(pdiag.agg_groups(data)[sigmas], s2)"
   ]
  },
  {
   "cell_type": "code",
   "execution_count": 29,
   "metadata": {},
   "outputs": [
    {
     "data": {
      "text/html": [
       "<div>\n",
       "<style scoped>\n",
       "    .dataframe tbody tr th:only-of-type {\n",
       "        vertical-align: middle;\n",
       "    }\n",
       "\n",
       "    .dataframe tbody tr th {\n",
       "        vertical-align: top;\n",
       "    }\n",
       "\n",
       "    .dataframe thead th {\n",
       "        text-align: right;\n",
       "    }\n",
       "</style>\n",
       "<table border=\"1\" class=\"dataframe\">\n",
       "  <thead>\n",
       "    <tr style=\"text-align: right;\">\n",
       "      <th></th>\n",
       "      <th>x0</th>\n",
       "      <th>y0</th>\n",
       "      <th>z0</th>\n",
       "      <th>sigma_x</th>\n",
       "      <th>sigma_y</th>\n",
       "      <th>sigma_z</th>\n",
       "      <th>amp</th>\n",
       "      <th>nphotons</th>\n",
       "      <th>chi2</th>\n",
       "      <th>frame</th>\n",
       "      <th>groupsize</th>\n",
       "      <th>offset</th>\n",
       "    </tr>\n",
       "    <tr>\n",
       "      <th>group_id</th>\n",
       "      <th></th>\n",
       "      <th></th>\n",
       "      <th></th>\n",
       "      <th></th>\n",
       "      <th></th>\n",
       "      <th></th>\n",
       "      <th></th>\n",
       "      <th></th>\n",
       "      <th></th>\n",
       "      <th></th>\n",
       "      <th></th>\n",
       "      <th></th>\n",
       "    </tr>\n",
       "  </thead>\n",
       "  <tbody>\n",
       "    <tr>\n",
       "      <th>0</th>\n",
       "      <td>32.659300</td>\n",
       "      <td>19.316811</td>\n",
       "      <td>51.641848</td>\n",
       "      <td>31.991642</td>\n",
       "      <td>30.383538</td>\n",
       "      <td>29.261273</td>\n",
       "      <td>14.584088</td>\n",
       "      <td>5.109504</td>\n",
       "      <td>6.645537</td>\n",
       "      <td>0.767803</td>\n",
       "      <td>100</td>\n",
       "      <td>0.137110</td>\n",
       "    </tr>\n",
       "    <tr>\n",
       "      <th>1</th>\n",
       "      <td>-17.262697</td>\n",
       "      <td>-22.005751</td>\n",
       "      <td>17.980266</td>\n",
       "      <td>29.633228</td>\n",
       "      <td>31.564594</td>\n",
       "      <td>31.294894</td>\n",
       "      <td>-7.433276</td>\n",
       "      <td>-6.319024</td>\n",
       "      <td>-14.356635</td>\n",
       "      <td>-0.620336</td>\n",
       "      <td>100</td>\n",
       "      <td>0.011306</td>\n",
       "    </tr>\n",
       "    <tr>\n",
       "      <th>2</th>\n",
       "      <td>-38.461048</td>\n",
       "      <td>-8.123777</td>\n",
       "      <td>-26.807065</td>\n",
       "      <td>31.861560</td>\n",
       "      <td>31.697290</td>\n",
       "      <td>29.840536</td>\n",
       "      <td>-1.271055</td>\n",
       "      <td>-4.155308</td>\n",
       "      <td>-6.490687</td>\n",
       "      <td>1.235556</td>\n",
       "      <td>100</td>\n",
       "      <td>-0.252562</td>\n",
       "    </tr>\n",
       "    <tr>\n",
       "      <th>3</th>\n",
       "      <td>-2.382682</td>\n",
       "      <td>14.434870</td>\n",
       "      <td>14.997849</td>\n",
       "      <td>25.697732</td>\n",
       "      <td>30.226772</td>\n",
       "      <td>32.955050</td>\n",
       "      <td>-14.459698</td>\n",
       "      <td>6.462104</td>\n",
       "      <td>3.724166</td>\n",
       "      <td>1.646732</td>\n",
       "      <td>100</td>\n",
       "      <td>-0.062641</td>\n",
       "    </tr>\n",
       "    <tr>\n",
       "      <th>4</th>\n",
       "      <td>22.694439</td>\n",
       "      <td>-1.044178</td>\n",
       "      <td>42.477282</td>\n",
       "      <td>31.160368</td>\n",
       "      <td>26.533157</td>\n",
       "      <td>28.245323</td>\n",
       "      <td>-4.975469</td>\n",
       "      <td>2.810174</td>\n",
       "      <td>-3.380814</td>\n",
       "      <td>0.368639</td>\n",
       "      <td>100</td>\n",
       "      <td>0.097967</td>\n",
       "    </tr>\n",
       "  </tbody>\n",
       "</table>\n",
       "</div>"
      ],
      "text/plain": [
       "                 x0         y0         z0    sigma_x    sigma_y    sigma_z  \\\n",
       "group_id                                                                     \n",
       "0         32.659300  19.316811  51.641848  31.991642  30.383538  29.261273   \n",
       "1        -17.262697 -22.005751  17.980266  29.633228  31.564594  31.294894   \n",
       "2        -38.461048  -8.123777 -26.807065  31.861560  31.697290  29.840536   \n",
       "3         -2.382682  14.434870  14.997849  25.697732  30.226772  32.955050   \n",
       "4         22.694439  -1.044178  42.477282  31.160368  26.533157  28.245323   \n",
       "\n",
       "                amp  nphotons       chi2     frame  groupsize    offset  \n",
       "group_id                                                                 \n",
       "0         14.584088  5.109504   6.645537  0.767803        100  0.137110  \n",
       "1         -7.433276 -6.319024 -14.356635 -0.620336        100  0.011306  \n",
       "2         -1.271055 -4.155308  -6.490687  1.235556        100 -0.252562  \n",
       "3        -14.459698  6.462104   3.724166  1.646732        100 -0.062641  \n",
       "4         -4.975469  2.810174  -3.380814  0.368639        100  0.097967  "
      ]
     },
     "execution_count": 29,
     "metadata": {},
     "output_type": "execute_result"
    }
   ],
   "source": [
    "agg = agg_groups(data)\n",
    "agg.head()"
   ]
  },
  {
   "cell_type": "code",
   "execution_count": 30,
   "metadata": {},
   "outputs": [
    {
     "data": {
      "text/plain": [
       "True"
      ]
     },
     "execution_count": 30,
     "metadata": {},
     "output_type": "execute_result"
    }
   ],
   "source": [
    "# make sure our new code works\n",
    "np.allclose(agg_groups(data)[sigmas], s2)"
   ]
  },
  {
   "cell_type": "code",
   "execution_count": 33,
   "metadata": {},
   "outputs": [
    {
     "name": "stdout",
     "output_type": "stream",
     "text": [
      "sigma_x    2.170890\n",
      "sigma_y    2.150853\n",
      "sigma_z    2.166197\n",
      "dtype: float64\n",
      "x0    1.984385\n",
      "y0    2.039222\n",
      "z0    1.895328\n",
      "dtype: float64\n",
      "sigma_x    29.629764\n",
      "sigma_y    29.635993\n",
      "sigma_z    29.601937\n",
      "dtype: float64\n"
     ]
    },
    {
     "data": {
      "text/plain": [
       "x0    29.857581\n",
       "y0    29.590157\n",
       "z0    29.492337\n",
       "dtype: float64"
      ]
     },
     "execution_count": 33,
     "metadata": {},
     "output_type": "execute_result"
    },
    {
     "data": {
      "image/png": "[encoded data removed]",
      "text/plain": [
       "<Figure size 432x288 with 4 Axes>"
      ]
     },
     "metadata": {},
     "output_type": "display_data"
    },
    {
     "data": {
      "image/png": "[encoded data removed]",
      "text/plain": [
       "<Figure size 432x288 with 4 Axes>"
      ]
     },
     "metadata": {},
     "output_type": "display_data"
    }
   ],
   "source": [
    "# check that bootstrapped and calculated distributions match\n",
    "bins = np.linspace(-1, 1, 32) * mu2.std().mean() * 3 + mu2.mean().mean()\n",
    "agg[sigmas].sample(n=len(mu2)).hist(bins=bins)\n",
    "mu2.hist(bins=bins)\n",
    "print(agg[sigmas].std())\n",
    "print(mu2.std())\n",
    "print(agg[sigmas].mean())\n",
    "mu2.mean()"
   ]
  },
  {
   "cell_type": "code",
   "execution_count": null,
   "metadata": {},
   "outputs": [],
   "source": []
  }
 ],
 "metadata": {
  "kernelspec": {
   "display_name": "Python 3",
   "language": "python",
   "name": "python3"
  },
  "language_info": {
   "codemirror_mode": {
    "name": "ipython",
    "version": 3
   },
   "file_extension": ".py",
   "mimetype": "text/x-python",
   "name": "python",
   "nbconvert_exporter": "python",
   "pygments_lexer": "ipython3",
   "version": "3.6.6"
  }
 },
 "nbformat": 4,
 "nbformat_minor": 2
}
