{
 "cells": [
  {
   "cell_type": "markdown",
   "metadata": {},
   "source": [
    "The point of this notebook is to make sure that the aggregation algorithm accurately aggregates the data.\n",
    "\n",
    "For this notebook we'll assume that the data has already been grouped."
   ]
  },
  {
   "cell_type": "code",
   "execution_count": 2,
   "metadata": {},
   "outputs": [
    {
     "name": "stdout",
     "output_type": "stream",
     "text": [
      "Populating the interactive namespace from numpy and matplotlib\n"
     ]
    },
    {
     "name": "stderr",
     "output_type": "stream",
     "text": [
      "/Users/david/anaconda3/lib/python3.6/importlib/_bootstrap.py:219: RuntimeWarning: numpy.dtype size changed, may indicate binary incompatibility. Expected 96, got 88\n",
      "  return f(*args, **kwds)\n",
      "/Users/david/anaconda3/lib/python3.6/site-packages/sklearn/ensemble/weight_boosting.py:29: DeprecationWarning: numpy.core.umath_tests is an internal NumPy module and should not be imported. It will be removed in a future NumPy release.\n",
      "  from numpy.core.umath_tests import inner1d\n",
      "/Users/david/Box Sync/Python/Scripts/palm_diagnostics.py:709: UserWarning: Calibration not available ...\n",
      "  warnings.warn(\"Calibration not available ...\")\n"
     ]
    }
   ],
   "source": [
    "%pylab inline\n",
    "import pandas as pd\n",
    "\n",
    "%load_ext autoreload\n",
    "%autoreload 2\n",
    "import palm_diagnostics as pdiag"
   ]
  },
  {
   "cell_type": "code",
   "execution_count": 3,
   "metadata": {},
   "outputs": [],
   "source": [
    "# original code\n",
    "def agg_groups(df_grouped):\n",
    "    \"\"\"Aggregate groups\n",
    "    \n",
    "    https://en.wikipedia.org/wiki/Weighted_arithmetic_mean#Weighted_sample_variance\n",
    "    \"\"\"\n",
    "    coords = [\"x\", \"y\", \"z\"]\n",
    "    \n",
    "    # save the labels for weighted coords and weights\n",
    "    w_coords = []\n",
    "    w_coords2 = []\n",
    "    weights = []\n",
    "    \n",
    "    # loop through coords generating weights and weighted coords\n",
    "    for c in coords:\n",
    "        # calculate weights\n",
    "        s = \"sigma_\" + c\n",
    "        df_grouped[s + \"_inv\"] = 1 / df_grouped[s] ** 2\n",
    "        weights.append(s + \"_inv\")\n",
    "        x = c + \"0\"\n",
    "        # weighted position\n",
    "        df_grouped[x + \"_w\"] = df_grouped[x].mul(df_grouped[s + \"_inv\"], \"index\")\n",
    "        w_coords.append(x + \"_w\")\n",
    "        # weighted position^2\n",
    "        df_grouped[x + \"_w2\"] = (df_grouped[x]**2).mul(df_grouped[s + \"_inv\"], \"index\")\n",
    "        w_coords2.append(x + \"_w2\")\n",
    "    \n",
    "    # groupby group_id and sum\n",
    "    temp_gb = df_grouped.groupby(\"group_id\")\n",
    "    \n",
    "    # calculate sum weights\n",
    "    sum_w = temp_gb[weights].sum().values\n",
    "    \n",
    "    # finish weighted mean\n",
    "    new_coords = temp_gb[w_coords].sum() / sum_w\n",
    "    \n",
    "    # doing this here to preserve order\n",
    "    new_coords2_values = (new_coords**2)[w_coords].values\n",
    "    new_coords.columns = [c.replace(\"_w\", \"\") for c in new_coords.columns]\n",
    "    \n",
    "    # calc new sigma\n",
    "    # basically the weighted std dev of the points added in quadrature to the \n",
    "    # std dev of the std dev of all points\n",
    "    # $$\n",
    "    # \\sqrt{\\frac{\\sum w_i (x_i - \\mu^*)^2}{\\sum w_i} + \\frac{1}{\\sum w_i}} \\\\\n",
    "    # \\sqrt{\\frac{\\sum w_i x_i^2}{\\sum w_i} - \\mu^{*2} + \\frac{1}{\\sum w_i}} \\\\\n",
    "    # \\sqrt{\\frac{\\sum w_i x_i^2 + 1}{\\sum w_i} - \\mu^{*2}} \\\\\n",
    "    # w_i = \\frac{1}{\\sigma_i^2}\n",
    "    # $$\n",
    "    new_sigmas = np.sqrt((temp_gb[w_coords2].sum() + 1) / sum_w -\n",
    "                         new_coords2_values)\n",
    "    new_sigmas.columns = [\"sigma_\" + c[0] for c in new_sigmas.columns]\n",
    "    \n",
    "    # calc new group params\n",
    "    new_amp = temp_gb[[\"amp\", \"nphotons\", \"chi2\"]].sum()\n",
    "    new_frame = temp_gb[[\"frame\"]].first()\n",
    "    groupsize = temp_gb.x0.count()\n",
    "    groupsize.name = \"groupsize\"\n",
    "    \n",
    "    # take the mean of all remaining columns\n",
    "    # figure out columns to drop\n",
    "    other_columns = [\"groupsize\"] + w_coords + w_coords2 + weights\n",
    "    for df in (new_coords, new_sigmas, new_amp, new_frame):\n",
    "        other_columns += df.columns.tolist()\n",
    "    other_columns += [\"group_id\"]\n",
    "    columns_to_mean = df_grouped.columns.difference(other_columns)\n",
    "    # take the mean\n",
    "    new_means = temp_gb[columns_to_mean].mean()\n",
    "    \n",
    "    # drop added columns from original data frame\n",
    "    df_grouped.drop(columns=w_coords + weights + w_coords2, inplace=True)\n",
    "    \n",
    "    # return new data frame\n",
    "    return pd.concat([new_coords, new_sigmas, new_amp, new_frame, groupsize, new_means], axis=1)"
   ]
  },
  {
   "cell_type": "markdown",
   "metadata": {},
   "source": [
    "https://en.wikipedia.org/wiki/Weighted_arithmetic_mean#Weighted_sample_variance\n",
    "\n",
    "calc new sigma\n",
    "basically the weighted std dev of the points added in quadrature to the \n",
    "std dev of the std dev of all points\n",
    "$$\n",
    "\\sqrt{\\frac{\\sum w_i (x_i - \\mu^*)^2}{\\sum w_i} + \\frac{1}{\\sum w_i}} \\\\\n",
    "\\sqrt{\\frac{\\sum w_i x_i^2}{\\sum w_i} - \\mu^{*2} + \\frac{1}{\\sum w_i}} \\\\\n",
    "\\sqrt{\\frac{\\sum w_i x_i^2 + 1}{\\sum w_i} - \\mu^{*2}} \\\\\n",
    "w_i = \\frac{1}{\\sigma_i^2}\n",
    "$$\n",
    "\n",
    "However, this is **wrong** as I can demonstrate with a bootstrapping method"
   ]
  },
  {
   "cell_type": "code",
   "execution_count": 4,
   "metadata": {},
   "outputs": [
    {
     "data": {
      "text/html": [
       "<div>\n",
       "<style scoped>\n",
       "    .dataframe tbody tr th:only-of-type {\n",
       "        vertical-align: middle;\n",
       "    }\n",
       "\n",
       "    .dataframe tbody tr th {\n",
       "        vertical-align: top;\n",
       "    }\n",
       "\n",
       "    .dataframe thead th {\n",
       "        text-align: right;\n",
       "    }\n",
       "</style>\n",
       "<table border=\"1\" class=\"dataframe\">\n",
       "  <thead>\n",
       "    <tr style=\"text-align: right;\">\n",
       "      <th></th>\n",
       "      <th>amp</th>\n",
       "      <th>nphotons</th>\n",
       "      <th>chi2</th>\n",
       "      <th>frame</th>\n",
       "      <th>offset</th>\n",
       "      <th>x0</th>\n",
       "      <th>y0</th>\n",
       "      <th>z0</th>\n",
       "      <th>sigma_x</th>\n",
       "      <th>sigma_y</th>\n",
       "      <th>sigma_z</th>\n",
       "      <th>group_id</th>\n",
       "    </tr>\n",
       "  </thead>\n",
       "  <tbody>\n",
       "    <tr>\n",
       "      <th>0</th>\n",
       "      <td>-0.815115</td>\n",
       "      <td>-0.240666</td>\n",
       "      <td>-0.128225</td>\n",
       "      <td>0.565256</td>\n",
       "      <td>-0.390441</td>\n",
       "      <td>-1.536083</td>\n",
       "      <td>141.725931</td>\n",
       "      <td>354.338826</td>\n",
       "      <td>272.065691</td>\n",
       "      <td>257.477713</td>\n",
       "      <td>303.283515</td>\n",
       "      <td>-15</td>\n",
       "    </tr>\n",
       "    <tr>\n",
       "      <th>1</th>\n",
       "      <td>0.162581</td>\n",
       "      <td>0.884513</td>\n",
       "      <td>1.148160</td>\n",
       "      <td>-1.211142</td>\n",
       "      <td>-0.905156</td>\n",
       "      <td>225.533138</td>\n",
       "      <td>368.584127</td>\n",
       "      <td>400.710547</td>\n",
       "      <td>282.755224</td>\n",
       "      <td>333.886046</td>\n",
       "      <td>313.288884</td>\n",
       "      <td>137</td>\n",
       "    </tr>\n",
       "    <tr>\n",
       "      <th>2</th>\n",
       "      <td>-0.103889</td>\n",
       "      <td>-0.839069</td>\n",
       "      <td>-3.365347</td>\n",
       "      <td>-1.048462</td>\n",
       "      <td>-0.830134</td>\n",
       "      <td>-63.776512</td>\n",
       "      <td>287.119218</td>\n",
       "      <td>9.674894</td>\n",
       "      <td>288.310939</td>\n",
       "      <td>297.064028</td>\n",
       "      <td>254.020445</td>\n",
       "      <td>46</td>\n",
       "    </tr>\n",
       "    <tr>\n",
       "      <th>3</th>\n",
       "      <td>-0.758560</td>\n",
       "      <td>-0.536116</td>\n",
       "      <td>1.087045</td>\n",
       "      <td>0.147440</td>\n",
       "      <td>0.747870</td>\n",
       "      <td>-240.218627</td>\n",
       "      <td>111.078527</td>\n",
       "      <td>144.176235</td>\n",
       "      <td>315.401140</td>\n",
       "      <td>320.958086</td>\n",
       "      <td>288.876422</td>\n",
       "      <td>16</td>\n",
       "    </tr>\n",
       "    <tr>\n",
       "      <th>4</th>\n",
       "      <td>-0.517824</td>\n",
       "      <td>1.310672</td>\n",
       "      <td>0.109591</td>\n",
       "      <td>-1.039661</td>\n",
       "      <td>0.561962</td>\n",
       "      <td>-192.160246</td>\n",
       "      <td>-42.973841</td>\n",
       "      <td>-264.499936</td>\n",
       "      <td>294.486698</td>\n",
       "      <td>299.232029</td>\n",
       "      <td>334.627457</td>\n",
       "      <td>7</td>\n",
       "    </tr>\n",
       "  </tbody>\n",
       "</table>\n",
       "</div>"
      ],
      "text/plain": [
       "        amp  nphotons      chi2     frame    offset          x0          y0  \\\n",
       "0 -0.815115 -0.240666 -0.128225  0.565256 -0.390441   -1.536083  141.725931   \n",
       "1  0.162581  0.884513  1.148160 -1.211142 -0.905156  225.533138  368.584127   \n",
       "2 -0.103889 -0.839069 -3.365347 -1.048462 -0.830134  -63.776512  287.119218   \n",
       "3 -0.758560 -0.536116  1.087045  0.147440  0.747870 -240.218627  111.078527   \n",
       "4 -0.517824  1.310672  0.109591 -1.039661  0.561962 -192.160246  -42.973841   \n",
       "\n",
       "           z0     sigma_x     sigma_y     sigma_z  group_id  \n",
       "0  354.338826  272.065691  257.477713  303.283515       -15  \n",
       "1  400.710547  282.755224  333.886046  313.288884       137  \n",
       "2    9.674894  288.310939  297.064028  254.020445        46  \n",
       "3  144.176235  315.401140  320.958086  288.876422        16  \n",
       "4 -264.499936  294.486698  299.232029  334.627457         7  "
      ]
     },
     "execution_count": 4,
     "metadata": {},
     "output_type": "execute_result"
    }
   ],
   "source": [
    "# generate data\n",
    "columns = [\"amp\", \"nphotons\", \"chi2\", \"frame\", \"offset\"]\n",
    "\n",
    "sigmas = [\"sigma_\" + c for c in \"xyz\"]\n",
    "coords = [c + \"0\" for c in \"xyz\"]\n",
    "\n",
    "num_localizations = 1000000\n",
    "\n",
    "columns += coords + sigmas\n",
    "# uniformly distributed data (space)\n",
    "# data = np.random.rand(num_localizations, len(columns)) - 0.5\n",
    "# normally distributed data (space)\n",
    "data = np.random.randn(num_localizations, len(columns))\n",
    "data = pd.DataFrame(data, columns=columns)\n",
    "# split into 1000 random groups\n",
    "# data[\"group_id\"] = np.arange(len(data)) // 100\n",
    "data[\"group_id\"] = (np.random.randn(num_localizations) * 100).astype(int)\n",
    "# data[\"group_id\"] = np.random.randint(1000, size=num_localizations)\n",
    "\n",
    "# equal weights\n",
    "# data[sigmas] = 1\n",
    "# non-equal weights\n",
    "data[sigmas] = np.random.chisquare(300, size= (num_localizations, 3))\n",
    "# this places coordinates according to their localization position\n",
    "data[coords] *= data[sigmas].values\n",
    "data.head()"
   ]
  },
  {
   "cell_type": "code",
   "execution_count": 5,
   "metadata": {},
   "outputs": [
    {
     "data": {
      "text/plain": [
       "array([[<matplotlib.axes._subplots.AxesSubplot object at 0x103bae4a8>]],\n",
       "      dtype=object)"
      ]
     },
     "execution_count": 5,
     "metadata": {},
     "output_type": "execute_result"
    },
    {
     "data": {
      "image/png": "[encoded data removed]",
      "text/plain": [
       "<Figure size 432x288 with 4 Axes>"
      ]
     },
     "metadata": {},
     "output_type": "display_data"
    },
    {
     "data": {
      "image/png": "[encoded data removed]",
      "text/plain": [
       "<Figure size 432x288 with 4 Axes>"
      ]
     },
     "metadata": {},
     "output_type": "display_data"
    },
    {
     "data": {
      "image/png": "[encoded data removed]",
      "text/plain": [
       "<Figure size 432x288 with 1 Axes>"
      ]
     },
     "metadata": {},
     "output_type": "display_data"
    }
   ],
   "source": [
    "data[sigmas].hist(bins=32)\n",
    "data[coords].hist(bins=32)\n",
    "data[[\"group_id\"]].hist(bins=np.arange(data.group_id.min(), data.group_id.max() + 1))"
   ]
  },
  {
   "cell_type": "code",
   "execution_count": 6,
   "metadata": {},
   "outputs": [],
   "source": [
    "def weighted_mean(df):\n",
    "    \"\"\"Weighted mean as defined here https://en.wikipedia.org/wiki/Weighted_arithmetic_mean#Statistical_properties\"\"\"\n",
    "    if len(df) == 1:\n",
    "        return df[coords]\n",
    "    weights = 1 / df[sigmas].values ** 2\n",
    "    new_coords = (df[coords].values * weights).sum(0, keepdims=True) / weights.sum(0)\n",
    "    return pd.DataFrame(new_coords, columns=coords)"
   ]
  },
  {
   "cell_type": "code",
   "execution_count": 7,
   "metadata": {},
   "outputs": [],
   "source": [
    "def weighted_variance(df):\n",
    "    \"\"\"https://en.wikipedia.org/wiki/Weighted_arithmetic_mean#Weighted_sample_variance\n",
    "    \n",
    "    Note that this is the estimated sample variance, **not** the variance of the mean\"\"\"\n",
    "    if len(df) == 1:\n",
    "        return df[sigmas]\n",
    "    weights = 1 / df[sigmas].values ** 2\n",
    "    V1 = weights.sum(0, keepdims=True)\n",
    "    V2 = (weights ** 2).sum(0, keepdims=True)\n",
    "    mu = weighted_mean(df)[coords].values\n",
    "    xi = df[coords].values\n",
    "    denominator = V1 - V2 / V1\n",
    "    s = (weights * (xi - mu) ** 2).sum(0, keepdims=True) / denominator\n",
    "    return pd.DataFrame(np.sqrt(s), columns=sigmas)"
   ]
  },
  {
   "cell_type": "code",
   "execution_count": 8,
   "metadata": {},
   "outputs": [],
   "source": [
    "# There is no generally accepted formula for the standard error of the weighted mean\n",
    "# However this paper https://www.cs.tufts.edu/~nr/cs257/archive/donald-gatz/weighted-standard-error.pdf\n",
    "# tests a few proposed formulas, this is the one they claim works the best which we'll\n",
    "# test in a boot strap method\n",
    "\n",
    "def weighted_variance2(df):\n",
    "    \"\"\"https://www.cs.tufts.edu/~nr/cs257/archive/donald-gatz/weighted-standard-error.pdf\"\"\"\n",
    "    if len(df) == 1:\n",
    "        return df[sigmas]\n",
    "    wi = 1 / df[sigmas].values ** 2\n",
    "    V1 = wi.sum(0, keepdims=True)\n",
    "    mu = weighted_mean(df)[coords].values\n",
    "    xi = df[coords].values\n",
    "    n = len(df)\n",
    "    A = n / ((n-1) * V1 ** 2)\n",
    "    a = (wi - V1)\n",
    "    b = (wi * xi - V1 * mu)\n",
    "    B = (b ** 2).sum(0, keepdims=True)\n",
    "    C = 2 * mu * (a * b).sum(0, keepdims=True)\n",
    "    D = (mu ** 2) * (a ** 2).sum(0, keepdims=True)\n",
    "    s = A * (B - C + D)\n",
    "    return pd.DataFrame(np.sqrt(s), columns=sigmas)"
   ]
  },
  {
   "cell_type": "markdown",
   "metadata": {},
   "source": [
    "The equation given in Gatz, Donald F., and Luther Smith. “The Standard Error of a Weighted Mean Concentration—I. Bootstrapping vs Other Methods.” Atmospheric Environment 29, no. 11 (June 1, 1995): 1185–93. https://doi.org/10.1016/1352-2310(94)00210-C. on page 1186 is\n",
    "\n",
    "$$\n",
    "(SEM_w)^2 = \\frac{n}{(n-1)\\left(\\sum P_i\\right)^2}  \\left[\\sum (P_i X_i - \\bar{P} \\bar{X}_w)^2 - \n",
    "2 \\bar{X}_w \\sum (P_i - \\bar{P})(P_i X_i - \\bar{P}\\bar{X}_w)\n",
    "+ \\bar{X}_w^2 \\sum (P_i - \\bar{P})^2 \\right]\n",
    "$$\n",
    "\n",
    "It is never stated but seems safe to assume that $\\bar{P} = \\sum P_i$. We can write this in more usual notation where $\\mu^* = \\sum w_i x_i / \\bar{w}$ where $\\bar{w} = \\sum w_i$ and $w_i$ are the weights of the measurement and $x_i$ are the measurements. Using this notation we have:\n",
    "\n",
    "$$\n",
    "(\\text{SEM}_w)^2 = \\frac{n}{(n-1)\\bar{w}^2}  \\left[\\sum (w_i x_i - \\bar{w} \\mu^*)^2 - \n",
    "2 \\mu^* \\sum (w_i - \\bar{w})(w_i x_i - \\bar{w}\\mu^*)\n",
    "+ \\mu^{*2} \\sum (w_i - \\bar{w})^2 \\right]\n",
    "$$\n",
    "\n",
    "It can be shown that this reduces to:\n",
    "$$\n",
    "(SEM_w)^2 = \\frac{n}{(n-1)\\bar{w}^2}  \\sum w_i^2(x_i - \\mu^*)^2\n",
    "$$\n",
    "\n",
    "Which is similar to the weighted sample variance\n",
    "\n",
    "$$\n",
    "s^2 = \\frac{\\sum w_i (x_i - \\mu^*)^2}{V_1 - (V_2 / V_1)}\n",
    "$$\n",
    "\n",
    "Where $V_1 = \\sum w_i = \\bar{w}$ and $V_2 = \\sum w_i^2$\n",
    "\n",
    "For computational purposes we can expand the equation to be\n",
    "\n",
    "$$\n",
    "(SEM_w)^2 = \\frac{n}{(n-1)\\bar{w}^2} \\left( \\sum w_i^2 x_i^2 - 2 \\mu^* \\sum w_i^2 x_i + \\mu^{*2} \\sum w_i^2 \\right)\n",
    "$$"
   ]
  },
  {
   "cell_type": "code",
   "execution_count": 9,
   "metadata": {},
   "outputs": [
    {
     "data": {
      "text/plain": [
       "833"
      ]
     },
     "execution_count": 9,
     "metadata": {},
     "output_type": "execute_result"
    }
   ],
   "source": [
    "# split data into 1000 evenly sized groups\n",
    "gb = data.groupby(\"group_id\")\n",
    "len(gb)"
   ]
  },
  {
   "cell_type": "code",
   "execution_count": 10,
   "metadata": {},
   "outputs": [],
   "source": [
    "# calculate weighted mean of groups\n",
    "mu = gb.apply(weighted_mean)"
   ]
  },
  {
   "cell_type": "code",
   "execution_count": 11,
   "metadata": {},
   "outputs": [
    {
     "data": {
      "text/plain": [
       "x0    0.300816\n",
       "y0    0.301142\n",
       "z0    0.300999\n",
       "dtype: float64"
      ]
     },
     "execution_count": 11,
     "metadata": {},
     "output_type": "execute_result"
    }
   ],
   "source": [
    "# data standard error of the mean, we have so many points that this\n",
    "# will be accurate by virtue of the central limit theorem\n",
    "data[coords].sem()"
   ]
  },
  {
   "cell_type": "code",
   "execution_count": 12,
   "metadata": {},
   "outputs": [
    {
     "data": {
      "text/plain": [
       "x0    300.816309\n",
       "y0    301.142381\n",
       "z0    300.999203\n",
       "dtype: float64"
      ]
     },
     "execution_count": 12,
     "metadata": {},
     "output_type": "execute_result"
    }
   ],
   "source": [
    "# data standard deviation\n",
    "data[coords].std()"
   ]
  },
  {
   "cell_type": "code",
   "execution_count": 13,
   "metadata": {},
   "outputs": [
    {
     "data": {
      "text/plain": [
       "100"
      ]
     },
     "execution_count": 13,
     "metadata": {},
     "output_type": "execute_result"
    }
   ],
   "source": [
    "# group the weighted means into sub_groups of 100\n",
    "# so each weighted mean is a mean of 100 points, and each subgroup is 100 such means\n",
    "mu_gb = mu.groupby(np.arange(len(mu)) // 100)\n",
    "mu_gb.size().max()"
   ]
  },
  {
   "cell_type": "code",
   "execution_count": 14,
   "metadata": {},
   "outputs": [
    {
     "name": "stdout",
     "output_type": "stream",
     "text": [
      "9\n",
      "The average SEM:\n",
      " x0    76.957274\n",
      "y0    73.343623\n",
      "z0    59.045143\n",
      "dtype: float64\n",
      "The variance in SEM:\n"
     ]
    },
    {
     "data": {
      "text/plain": [
       "x0    103.499195\n",
       "y0     98.144855\n",
       "z0     71.866842\n",
       "dtype: float64"
      ]
     },
     "execution_count": 14,
     "metadata": {},
     "output_type": "execute_result"
    }
   ],
   "source": [
    "# Look at the std deviation of the grouped weighted means, this should\n",
    "# provide an estimate of the weighted means variance, or the standard\n",
    "# error of the weighted mean\n",
    "mu2 = mu_gb.std()\n",
    "print(len(mu2))\n",
    "print(\"The average SEM:\\n\", mu2.mean())\n",
    "print(\"The variance in SEM:\")\n",
    "mu2.std()"
   ]
  },
  {
   "cell_type": "code",
   "execution_count": 15,
   "metadata": {},
   "outputs": [
    {
     "name": "stdout",
     "output_type": "stream",
     "text": [
      "CPU times: user 2.35 s, sys: 63.9 ms, total: 2.41 s\n",
      "Wall time: 2.42 s\n",
      "CPU times: user 2.26 s, sys: 57.5 ms, total: 2.32 s\n",
      "Wall time: 2.32 s\n"
     ]
    }
   ],
   "source": [
    "%time s1 = gb.apply(weighted_variance)\n",
    "%time s2 = gb.apply(weighted_variance2)"
   ]
  },
  {
   "cell_type": "code",
   "execution_count": 16,
   "metadata": {},
   "outputs": [
    {
     "data": {
      "text/plain": [
       "(sigma_x    291.595846\n",
       " sigma_y    292.613597\n",
       " sigma_z    296.461866\n",
       " dtype: float64, sigma_x    49.708721\n",
       " sigma_y    44.186107\n",
       " sigma_z    45.602548\n",
       " dtype: float64)"
      ]
     },
     "execution_count": 16,
     "metadata": {},
     "output_type": "execute_result"
    }
   ],
   "source": [
    "# you can see that the formula we have been using has been estimating the\n",
    "# variance of the samples, _not_ the variance of the weighted mean!\n",
    "s1.mean(), s1.std()"
   ]
  },
  {
   "cell_type": "code",
   "execution_count": 17,
   "metadata": {},
   "outputs": [
    {
     "data": {
      "text/plain": [
       "(sigma_x    47.441418\n",
       " sigma_y    47.451783\n",
       " sigma_z    49.232780\n",
       " dtype: float64, sigma_x    78.285660\n",
       " sigma_y    76.478692\n",
       " sigma_z    79.395198\n",
       " dtype: float64)"
      ]
     },
     "execution_count": 17,
     "metadata": {},
     "output_type": "execute_result"
    }
   ],
   "source": [
    "# Gatz method reproduces nicely the mean and distribution\n",
    "s2.mean(), s2.std()"
   ]
  },
  {
   "cell_type": "code",
   "execution_count": 18,
   "metadata": {},
   "outputs": [],
   "source": [
    "def weighted_variance3(df):\n",
    "    \"\"\"https://www.cs.tufts.edu/~nr/cs257/archive/donald-gatz/weighted-standard-error.pdf\"\"\"\n",
    "    if len(df) == 1:\n",
    "        return df[sigmas]\n",
    "    wi = 1 / df[sigmas].values ** 2\n",
    "    wi_bar = wi.sum(0, keepdims=True)\n",
    "    wi2 = wi ** 2\n",
    "    mu = weighted_mean(df)[coords].values\n",
    "    xi = df[coords].values\n",
    "    n = len(df)\n",
    "    a = (wi2 * xi ** 2).sum(0, keepdims=True)\n",
    "    b = 2 * mu * (wi2 * xi).sum(0, keepdims=True)\n",
    "    c = mu ** 2 * wi2.sum(0, keepdims=True)\n",
    "    s = (n / ((n - 1) * wi_bar ** 2)) * (a - b + c)\n",
    "    return pd.DataFrame(np.sqrt(s), columns=sigmas)"
   ]
  },
  {
   "cell_type": "code",
   "execution_count": 19,
   "metadata": {},
   "outputs": [],
   "source": [
    "def weighted_variance4(df):\n",
    "    \"\"\"Wes' version\"\"\"\n",
    "    if len(df) == 1:\n",
    "        return df[sigmas]\n",
    "    wi = 1 / df[sigmas]**2\n",
    "    s = 1 / (wi.sum(0))\n",
    "    return np.sqrt(s)"
   ]
  },
  {
   "cell_type": "code",
   "execution_count": 20,
   "metadata": {},
   "outputs": [
    {
     "name": "stdout",
     "output_type": "stream",
     "text": [
      "CPU times: user 2.35 s, sys: 66.5 ms, total: 2.41 s\n",
      "Wall time: 2.42 s\n"
     ]
    }
   ],
   "source": [
    "%time s3 = gb.apply(weighted_variance3)"
   ]
  },
  {
   "cell_type": "code",
   "execution_count": 21,
   "metadata": {},
   "outputs": [
    {
     "data": {
      "text/plain": [
       "(sigma_x    47.441418\n",
       " sigma_y    47.451783\n",
       " sigma_z    49.232780\n",
       " dtype: float64, sigma_x    78.285660\n",
       " sigma_y    76.478692\n",
       " sigma_z    79.395198\n",
       " dtype: float64)"
      ]
     },
     "execution_count": 21,
     "metadata": {},
     "output_type": "execute_result"
    }
   ],
   "source": [
    "s3.mean(), s3.std()"
   ]
  },
  {
   "cell_type": "code",
   "execution_count": 22,
   "metadata": {},
   "outputs": [
    {
     "data": {
      "text/plain": [
       "True"
      ]
     },
     "execution_count": 22,
     "metadata": {},
     "output_type": "execute_result"
    }
   ],
   "source": [
    "# check that our mathematical manipulations work\n",
    "np.allclose(s3, s2)"
   ]
  },
  {
   "cell_type": "code",
   "execution_count": 23,
   "metadata": {},
   "outputs": [
    {
     "name": "stderr",
     "output_type": "stream",
     "text": [
      "/Users/david/anaconda3/lib/python3.6/site-packages/pandas/core/indexes/api.py:69: RuntimeWarning: '<' not supported between instances of 'int' and 'str', sort order is undefined for incomparable objects\n",
      "  index = _union_indexes(indexes, sort=sort)\n",
      "/Users/david/anaconda3/lib/python3.6/site-packages/pandas/core/indexes/api.py:107: RuntimeWarning: '<' not supported between instances of 'int' and 'str', sort order is undefined for incomparable objects\n",
      "  result = result.union(other)\n"
     ]
    }
   ],
   "source": [
    "s4 = gb.apply(weighted_variance4)"
   ]
  },
  {
   "cell_type": "code",
   "execution_count": 24,
   "metadata": {},
   "outputs": [
    {
     "data": {
      "text/plain": [
       "(sigma_x    303.334269\n",
       " sigma_y    299.480384\n",
       " sigma_z    304.861873\n",
       " 0           35.248454\n",
       " dtype: float64, sigma_x    26.625153\n",
       " sigma_y    22.804230\n",
       " sigma_z    22.738583\n",
       " 0          48.205265\n",
       " dtype: float64)"
      ]
     },
     "execution_count": 24,
     "metadata": {},
     "output_type": "execute_result"
    }
   ],
   "source": [
    "s4.mean(), s4.std()"
   ]
  },
  {
   "cell_type": "code",
   "execution_count": 25,
   "metadata": {},
   "outputs": [
    {
     "data": {
      "text/plain": [
       "array([[<matplotlib.axes._subplots.AxesSubplot object at 0x1c29ac9128>,\n",
       "        <matplotlib.axes._subplots.AxesSubplot object at 0x1c29aed438>],\n",
       "       [<matplotlib.axes._subplots.AxesSubplot object at 0x1031fe748>,\n",
       "        <matplotlib.axes._subplots.AxesSubplot object at 0x103224a58>]],\n",
       "      dtype=object)"
      ]
     },
     "execution_count": 25,
     "metadata": {},
     "output_type": "execute_result"
    },
    {
     "data": {
      "image/png": "[encoded data removed]",
      "text/plain": [
       "<Figure size 432x288 with 4 Axes>"
      ]
     },
     "metadata": {},
     "output_type": "display_data"
    },
    {
     "data": {
      "image/png": "[encoded data removed]",
      "text/plain": [
       "<Figure size 432x288 with 4 Axes>"
      ]
     },
     "metadata": {},
     "output_type": "display_data"
    },
    {
     "data": {
      "image/png": "[encoded data removed]",
      "text/plain": [
       "<Figure size 432x288 with 4 Axes>"
      ]
     },
     "metadata": {},
     "output_type": "display_data"
    },
    {
     "data": {
      "image/png": "[encoded data removed]",
      "text/plain": [
       "<Figure size 432x288 with 4 Axes>"
      ]
     },
     "metadata": {},
     "output_type": "display_data"
    }
   ],
   "source": [
    "bins = np.linspace(-1, 1, 32) * mu2.std().mean() * 3 + mu2.mean().mean()\n",
    "s2.sample(n=len(mu2)).hist(bins=bins)\n",
    "s3.sample(n=len(mu2)).hist(bins=bins)\n",
    "s4.sample(n=len(mu2)).hist(bins=bins)\n",
    "mu2.hist(bins=bins)"
   ]
  },
  {
   "cell_type": "code",
   "execution_count": 42,
   "metadata": {},
   "outputs": [],
   "source": [
    "# new code\n",
    "def agg_groups(df_grouped):\n",
    "    \"\"\"Aggregate groups, weighted mean as usual, and sigmas are standard error on the weighted\n",
    "    mean as calculated in the reference below.\n",
    "    \n",
    "    Gatz, Donald F., and Luther Smith.\n",
    "    “The Standard Error of a Weighted Mean Concentration—I. Bootstrapping vs Other Methods.”\n",
    "    Atmospheric Environment 29, no. 11 (June 1, 1995): 1185–93.\n",
    "    https://doi.org/10.1016/1352-2310(94)00210-C\n",
    "    \"\"\"\n",
    "    coords = [\"x\", \"y\", \"z\"]\n",
    "    \n",
    "    # turns out that its fastest to use pandas aggs built in functions at all\n",
    "    # costs, even more memory, so we need to build the columns we'll use\n",
    "    # later on\n",
    "    \n",
    "    # coordinates\n",
    "    sigmas = []\n",
    "    # coordinates\n",
    "    xi = []\n",
    "    # weights\n",
    "    wi = []\n",
    "    # square weights\n",
    "    wi2 = []\n",
    "    # weighted coordinates\n",
    "    wi_xi = []\n",
    "    # square weighted coordinates\n",
    "    wi2_xi = []\n",
    "    # square weighted squared coordinates\n",
    "    wi2_xi2 = []\n",
    "    \n",
    "    # loop through coords generating weights and weighted coords\n",
    "    for c in coords:\n",
    "        s = \"sigma_\" + c\n",
    "        sigmas.append(s)\n",
    "        x = c + \"0\"\n",
    "        xi.append(x)\n",
    "        # calculate weights\n",
    "        wi.append(\"wi_\" + c)\n",
    "        df_grouped[wi[-1]] = 1 / df_grouped[s] ** 2\n",
    "        # square weights\n",
    "        wi2.append(\"wi2_\" + c)\n",
    "        df_grouped[wi2[-1]] = 1 / df_grouped[s] ** 4\n",
    "        # weighted position\n",
    "        wi_xi.append(\"wi_xi_\" + c)\n",
    "        df_grouped[wi_xi[-1]] = df_grouped[x].mul(df_grouped[wi[-1]], \"index\")\n",
    "        # square weighted coordinates\n",
    "        wi2_xi.append(\"wi2_xi_\" + c)\n",
    "        df_grouped[wi2_xi[-1]] = df_grouped[x].mul(df_grouped[wi2[-1]], \"index\")\n",
    "        # square weighted squared coordinates\n",
    "        wi2_xi2.append(\"wi2_xi2_\" + c)\n",
    "        df_grouped[wi2_xi2[-1]] = (df_grouped[x] ** 2).mul(df_grouped[wi2[-1]], \"index\")\n",
    "        \n",
    "    \n",
    "    # groupby group_id and sum\n",
    "    temp_gb = df_grouped.groupby(\"group_id\")\n",
    "    \n",
    "    # calc new group params\n",
    "    new_amp = temp_gb[[\"amp\", \"nphotons\", \"chi2\"]].sum()\n",
    "    new_frame = temp_gb[[\"frame\"]].first()\n",
    "    groupsize = temp_gb.size()\n",
    "    groupsize.name = \"groupsize\"\n",
    "    \n",
    "    # calculate sum weights\n",
    "    wi_bar = temp_gb[wi].sum().values\n",
    "    \n",
    "    # finish weighted mean\n",
    "    mu = temp_gb[wi_xi].sum() / wi_bar\n",
    "    \n",
    "    # doing this here to preserve order\n",
    "    mu.columns = [c[-1] + \"0\" for c in mu.columns]\n",
    "    \n",
    "    # calc new sigma\n",
    "    new_sigmas = (temp_gb[wi2_xi2].sum().values\n",
    "                  - 2 * mu[xi] * temp_gb[wi2_xi].sum().values\n",
    "                  + (mu[xi] ** 2) * temp_gb[wi2].sum().values)\n",
    "    gsize = groupsize.values[:, None]\n",
    "    with np.errstate(divide='ignore', invalid='ignore'):\n",
    "        new_sigmas = np.sqrt((gsize / (gsize - 1)) * new_sigmas / wi_bar ** 2)\n",
    "    new_sigmas.columns = [\"sigma_\" + c[0] for c in xi]\n",
    "    nan_locs = ~np.isfinite(new_sigmas).all(1)\n",
    "    new_sigmas[nan_locs] = temp_gb[sigmas].first()[nan_locs]\n",
    "    \n",
    "    # take the mean of all remaining columns\n",
    "    # figure out columns to drop\n",
    "    extra_columns = wi + wi2 + wi_xi + wi2_xi + wi2_xi2\n",
    "    other_columns = [\"groupsize\"] + extra_columns\n",
    "    for df in (mu, new_sigmas, new_amp, new_frame):\n",
    "        other_columns += df.columns.tolist()\n",
    "    other_columns += [\"group_id\"]\n",
    "    columns_to_mean = df_grouped.columns.difference(other_columns)\n",
    "    # take the mean\n",
    "    new_means = temp_gb[columns_to_mean].mean()\n",
    "    \n",
    "    # drop added columns from original data frame\n",
    "    df_grouped.drop(columns=extra_columns, inplace=True)\n",
    "    \n",
    "    # return new data frame\n",
    "    df_agg = pd.concat([mu, new_sigmas, new_amp, new_frame, groupsize, new_means], axis=1)\n",
    "    return df_agg"
   ]
  },
  {
   "cell_type": "code",
   "execution_count": 43,
   "metadata": {},
   "outputs": [
    {
     "name": "stdout",
     "output_type": "stream",
     "text": [
      "498 ms ± 12.5 ms per loop (mean ± std. dev. of 7 runs, 1 loop each)\n",
      "544 ms ± 26.4 ms per loop (mean ± std. dev. of 7 runs, 1 loop each)\n"
     ]
    }
   ],
   "source": [
    "%timeit agg_groups(data)\n",
    "%timeit pdiag.agg_groups(data)"
   ]
  },
  {
   "cell_type": "code",
   "execution_count": 44,
   "metadata": {},
   "outputs": [
    {
     "data": {
      "text/plain": [
       "True"
      ]
     },
     "execution_count": 44,
     "metadata": {},
     "output_type": "execute_result"
    }
   ],
   "source": [
    "np.allclose(pdiag.agg_groups(data), agg_groups(data))"
   ]
  },
  {
   "cell_type": "code",
   "execution_count": 45,
   "metadata": {},
   "outputs": [
    {
     "data": {
      "text/plain": [
       "True"
      ]
     },
     "execution_count": 45,
     "metadata": {},
     "output_type": "execute_result"
    }
   ],
   "source": [
    "np.allclose(pdiag.agg_groups(data)[sigmas], s2)"
   ]
  },
  {
   "cell_type": "code",
   "execution_count": 46,
   "metadata": {},
   "outputs": [
    {
     "data": {
      "text/html": [
       "<div>\n",
       "<style scoped>\n",
       "    .dataframe tbody tr th:only-of-type {\n",
       "        vertical-align: middle;\n",
       "    }\n",
       "\n",
       "    .dataframe tbody tr th {\n",
       "        vertical-align: top;\n",
       "    }\n",
       "\n",
       "    .dataframe thead th {\n",
       "        text-align: right;\n",
       "    }\n",
       "</style>\n",
       "<table border=\"1\" class=\"dataframe\">\n",
       "  <thead>\n",
       "    <tr style=\"text-align: right;\">\n",
       "      <th></th>\n",
       "      <th>x0</th>\n",
       "      <th>y0</th>\n",
       "      <th>z0</th>\n",
       "      <th>sigma_x</th>\n",
       "      <th>sigma_y</th>\n",
       "      <th>sigma_z</th>\n",
       "      <th>amp</th>\n",
       "      <th>nphotons</th>\n",
       "      <th>chi2</th>\n",
       "      <th>frame</th>\n",
       "      <th>groupsize</th>\n",
       "      <th>offset</th>\n",
       "    </tr>\n",
       "    <tr>\n",
       "      <th>group_id</th>\n",
       "      <th></th>\n",
       "      <th></th>\n",
       "      <th></th>\n",
       "      <th></th>\n",
       "      <th></th>\n",
       "      <th></th>\n",
       "      <th></th>\n",
       "      <th></th>\n",
       "      <th></th>\n",
       "      <th></th>\n",
       "      <th></th>\n",
       "      <th></th>\n",
       "    </tr>\n",
       "  </thead>\n",
       "  <tbody>\n",
       "    <tr>\n",
       "      <th>-546</th>\n",
       "      <td>36.812747</td>\n",
       "      <td>-323.717347</td>\n",
       "      <td>329.519362</td>\n",
       "      <td>324.876217</td>\n",
       "      <td>282.142304</td>\n",
       "      <td>312.525604</td>\n",
       "      <td>-1.745548</td>\n",
       "      <td>0.220190</td>\n",
       "      <td>1.118870</td>\n",
       "      <td>-0.597209</td>\n",
       "      <td>1</td>\n",
       "      <td>-0.445652</td>\n",
       "    </tr>\n",
       "    <tr>\n",
       "      <th>-463</th>\n",
       "      <td>-47.666622</td>\n",
       "      <td>-5.760682</td>\n",
       "      <td>-178.831439</td>\n",
       "      <td>21.968467</td>\n",
       "      <td>34.090580</td>\n",
       "      <td>81.477090</td>\n",
       "      <td>-1.042937</td>\n",
       "      <td>-0.087241</td>\n",
       "      <td>-2.048392</td>\n",
       "      <td>1.706636</td>\n",
       "      <td>2</td>\n",
       "      <td>-0.088703</td>\n",
       "    </tr>\n",
       "    <tr>\n",
       "      <th>-449</th>\n",
       "      <td>299.826395</td>\n",
       "      <td>-57.297838</td>\n",
       "      <td>-321.670523</td>\n",
       "      <td>307.951315</td>\n",
       "      <td>354.476403</td>\n",
       "      <td>276.415307</td>\n",
       "      <td>0.431714</td>\n",
       "      <td>-0.824119</td>\n",
       "      <td>0.513141</td>\n",
       "      <td>-1.079956</td>\n",
       "      <td>1</td>\n",
       "      <td>2.001400</td>\n",
       "    </tr>\n",
       "    <tr>\n",
       "      <th>-446</th>\n",
       "      <td>228.651787</td>\n",
       "      <td>-478.208150</td>\n",
       "      <td>175.126075</td>\n",
       "      <td>348.729174</td>\n",
       "      <td>267.348999</td>\n",
       "      <td>303.936047</td>\n",
       "      <td>-0.460499</td>\n",
       "      <td>-2.428943</td>\n",
       "      <td>0.585660</td>\n",
       "      <td>-0.779343</td>\n",
       "      <td>1</td>\n",
       "      <td>0.814452</td>\n",
       "    </tr>\n",
       "    <tr>\n",
       "      <th>-445</th>\n",
       "      <td>10.093731</td>\n",
       "      <td>-524.150788</td>\n",
       "      <td>92.041369</td>\n",
       "      <td>257.290775</td>\n",
       "      <td>299.101327</td>\n",
       "      <td>307.043601</td>\n",
       "      <td>-0.151634</td>\n",
       "      <td>-1.004684</td>\n",
       "      <td>-2.116836</td>\n",
       "      <td>-0.872124</td>\n",
       "      <td>1</td>\n",
       "      <td>0.946876</td>\n",
       "    </tr>\n",
       "  </tbody>\n",
       "</table>\n",
       "</div>"
      ],
      "text/plain": [
       "                  x0          y0          z0     sigma_x     sigma_y  \\\n",
       "group_id                                                               \n",
       "-546       36.812747 -323.717347  329.519362  324.876217  282.142304   \n",
       "-463      -47.666622   -5.760682 -178.831439   21.968467   34.090580   \n",
       "-449      299.826395  -57.297838 -321.670523  307.951315  354.476403   \n",
       "-446      228.651787 -478.208150  175.126075  348.729174  267.348999   \n",
       "-445       10.093731 -524.150788   92.041369  257.290775  299.101327   \n",
       "\n",
       "             sigma_z       amp  nphotons      chi2     frame  groupsize  \\\n",
       "group_id                                                                  \n",
       "-546      312.525604 -1.745548  0.220190  1.118870 -0.597209          1   \n",
       "-463       81.477090 -1.042937 -0.087241 -2.048392  1.706636          2   \n",
       "-449      276.415307  0.431714 -0.824119  0.513141 -1.079956          1   \n",
       "-446      303.936047 -0.460499 -2.428943  0.585660 -0.779343          1   \n",
       "-445      307.043601 -0.151634 -1.004684 -2.116836 -0.872124          1   \n",
       "\n",
       "            offset  \n",
       "group_id            \n",
       "-546     -0.445652  \n",
       "-463     -0.088703  \n",
       "-449      2.001400  \n",
       "-446      0.814452  \n",
       "-445      0.946876  "
      ]
     },
     "execution_count": 46,
     "metadata": {},
     "output_type": "execute_result"
    }
   ],
   "source": [
    "agg = agg_groups(data)\n",
    "agg.head()"
   ]
  },
  {
   "cell_type": "code",
   "execution_count": 47,
   "metadata": {},
   "outputs": [
    {
     "data": {
      "text/plain": [
       "True"
      ]
     },
     "execution_count": 47,
     "metadata": {},
     "output_type": "execute_result"
    }
   ],
   "source": [
    "np.isfinite(agg).all(1).all()"
   ]
  },
  {
   "cell_type": "code",
   "execution_count": 48,
   "metadata": {},
   "outputs": [
    {
     "data": {
      "text/plain": [
       "True"
      ]
     },
     "execution_count": 48,
     "metadata": {},
     "output_type": "execute_result"
    }
   ],
   "source": [
    "# make sure our new code works\n",
    "np.allclose(agg_groups(data)[sigmas], s2)"
   ]
  },
  {
   "cell_type": "code",
   "execution_count": 33,
   "metadata": {},
   "outputs": [
    {
     "name": "stdout",
     "output_type": "stream",
     "text": [
      "sigma_x    2.170890\n",
      "sigma_y    2.150853\n",
      "sigma_z    2.166197\n",
      "dtype: float64\n",
      "x0    1.984385\n",
      "y0    2.039222\n",
      "z0    1.895328\n",
      "dtype: float64\n",
      "sigma_x    29.629764\n",
      "sigma_y    29.635993\n",
      "sigma_z    29.601937\n",
      "dtype: float64\n"
     ]
    },
    {
     "data": {
      "text/plain": [
       "x0    29.857581\n",
       "y0    29.590157\n",
       "z0    29.492337\n",
       "dtype: float64"
      ]
     },
     "execution_count": 33,
     "metadata": {},
     "output_type": "execute_result"
    },
    {
     "data": {
      "image/png": "[encoded data removed]",
      "text/plain": [
       "<Figure size 432x288 with 4 Axes>"
      ]
     },
     "metadata": {},
     "output_type": "display_data"
    },
    {
     "data": {
      "image/png": "[encoded data removed]",
      "text/plain": [
       "<Figure size 432x288 with 4 Axes>"
      ]
     },
     "metadata": {},
     "output_type": "display_data"
    }
   ],
   "source": [
    "# check that bootstrapped and calculated distributions match\n",
    "bins = np.linspace(-1, 1, 32) * mu2.std().mean() * 3 + mu2.mean().mean()\n",
    "agg[sigmas].sample(n=len(mu2)).hist(bins=bins)\n",
    "mu2.hist(bins=bins)\n",
    "print(agg[sigmas].std())\n",
    "print(mu2.std())\n",
    "print(agg[sigmas].mean())\n",
    "mu2.mean()"
   ]
  },
  {
   "cell_type": "code",
   "execution_count": null,
   "metadata": {},
   "outputs": [],
   "source": [
    "agg.dropna()"
   ]
  }
 ],
 "metadata": {
  "kernelspec": {
   "display_name": "Python 3",
   "language": "python",
   "name": "python3"
  },
  "language_info": {
   "codemirror_mode": {
    "name": "ipython",
    "version": 3
   },
   "file_extension": ".py",
   "mimetype": "text/x-python",
   "name": "python",
   "nbconvert_exporter": "python",
   "pygments_lexer": "ipython3",
   "version": "3.6.6"
  }
 },
 "nbformat": 4,
 "nbformat_minor": 2
}
