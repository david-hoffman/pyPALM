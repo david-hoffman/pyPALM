{
 "cells": [
  {
   "cell_type": "code",
   "execution_count": 1,
   "metadata": {
    "collapsed": true
   },
   "outputs": [],
   "source": [
    "%matplotlib inline\n",
    "import pandas as pd\n",
    "import tqdm\n",
    "import numpy as np\n",
    "from skimage.filters import threshold_otsu\n",
    "%load_ext autoreload\n",
    "%autoreload 2\n",
    "import palm_utils as pu\n",
    "from peaks.peakfinder import PeakFinder\n",
    "import matplotlib.pyplot as plt\n",
    "from matplotlib.colors import LogNorm, PowerNorm\n",
    "import glob"
   ]
  },
  {
   "cell_type": "code",
   "execution_count": 2,
   "metadata": {
    "collapsed": true
   },
   "outputs": [],
   "source": [
    "def palm_hist(df, yx_shape, subsampling=1):\n",
    "    bins = [np.arange(s + subsampling, step=subsampling) - subsampling / 2 for s in yx_shape]\n",
    "    # ungrouped 2d histogram to find peaks, ungrouped to make beads really stand out\n",
    "    return np.histogramdd(df[[\"y0\", \"x0\"]].values, bins=bins)[0]"
   ]
  },
  {
   "cell_type": "code",
   "execution_count": 3,
   "metadata": {
    "collapsed": true
   },
   "outputs": [],
   "source": [
    "data_dict = {path:pd.read_hdf(path, \"dc\") for path in glob.iglob(\"Localizations/*.h5\")}"
   ]
  },
  {
   "cell_type": "code",
   "execution_count": 9,
   "metadata": {},
   "outputs": [
    {
     "name": "stderr",
     "output_type": "stream",
     "text": [
      "C:\\Users\\hoffmand\\AppData\\Local\\Continuum\\Anaconda3\\lib\\site-packages\\numpy\\lib\\function_base.py:973: RuntimeWarning: invalid value encountered in greater_equal\n",
      "  not_smaller_than_edge = (sample[:, i] >= edges[i][-1])\n"
     ]
    },
    {
     "name": "stdout",
     "output_type": "stream",
     "text": [
      "Wall time: 39.7 s\n"
     ]
    }
   ],
   "source": [
    "%time hists = {k:palm_hist(v, (512, 512), 0.1) for k, v in data_dict.items()}"
   ]
  },
  {
   "cell_type": "code",
   "execution_count": 8,
   "metadata": {
    "collapsed": true
   },
   "outputs": [],
   "source": [
    "import skimage.external.tifffile as tif"
   ]
  },
  {
   "cell_type": "code",
   "execution_count": 11,
   "metadata": {
    "collapsed": true
   },
   "outputs": [],
   "source": [
    "for k, v in hists.items():\n",
    "    tif.imsave(k.replace(\".h5\",\".tif\"), v.astype(np.uint32))"
   ]
  },
  {
   "cell_type": "code",
   "execution_count": 5,
   "metadata": {
    "collapsed": true
   },
   "outputs": [],
   "source": [
    "def palm_hist3d(df, yx_shape, zrange, subsampling=1, zstep=1):\n",
    "    bins = [np.arange(s + subsampling, step=subsampling) - subsampling / 2 for s in yx_shape]\n",
    "    bins = [np.arange(*zrange, zstep)] + bins\n",
    "    # ungrouped 2d histogram to find peaks, ungrouped to make beads really stand out\n",
    "    return np.histogramdd(df[[\"z0\", \"y0\", \"x0\"]].values, bins=bins)[0]"
   ]
  },
  {
   "cell_type": "code",
   "execution_count": 6,
   "metadata": {},
   "outputs": [
    {
     "name": "stderr",
     "output_type": "stream",
     "text": [
      "C:\\Users\\hoffmand\\AppData\\Local\\Continuum\\Anaconda3\\lib\\site-packages\\numpy\\lib\\function_base.py:973: RuntimeWarning: invalid value encountered in greater_equal\n",
      "  not_smaller_than_edge = (sample[:, i] >= edges[i][-1])\n"
     ]
    }
   ],
   "source": [
    "hists3d = {k:palm_hist3d(v, (512, 512), (-20, 20), 0.1, 2) for k, v in data_dict.items()}"
   ]
  },
  {
   "cell_type": "code",
   "execution_count": 12,
   "metadata": {},
   "outputs": [],
   "source": [
    "for k, v in hists3d.items():\n",
    "    if v.max() < 2**16:\n",
    "        tif.imsave(\"E:\\\\Junk\\\\\" + k.replace(\".h5\",\".tif\"), v.astype(np.uint16), resolution=(0.013, 0.013))\n",
    "    else:\n",
    "        tif.imsave(\"E:\\\\Junk\\\\\" + k.replace(\".h5\",\".tif\"), v.astype(np.uint32), resolution=(0.013, 0.013))"
   ]
  },
  {
   "cell_type": "code",
   "execution_count": null,
   "metadata": {
    "collapsed": true
   },
   "outputs": [],
   "source": []
  }
 ],
 "metadata": {
  "kernelspec": {
   "display_name": "Python 3",
   "language": "python",
   "name": "python3"
  },
  "language_info": {
   "codemirror_mode": {
    "name": "ipython",
    "version": 3
   },
   "file_extension": ".py",
   "mimetype": "text/x-python",
   "name": "python",
   "nbconvert_exporter": "python",
   "pygments_lexer": "ipython3",
   "version": "3.6.2"
  }
 },
 "nbformat": 4,
 "nbformat_minor": 2
}
