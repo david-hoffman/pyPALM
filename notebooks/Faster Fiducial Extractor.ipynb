{
 "cells": [
  {
   "cell_type": "code",
   "execution_count": 1,
   "metadata": {},
   "outputs": [
    {
     "name": "stdout",
     "output_type": "stream",
     "text": [
      "Populating the interactive namespace from numpy and matplotlib\n"
     ]
    }
   ],
   "source": [
    "%pylab inline\n",
    "import pandas as pd\n",
    "from scipy.spatial import cKDTree"
   ]
  },
  {
   "cell_type": "code",
   "execution_count": 138,
   "metadata": {},
   "outputs": [],
   "source": [
    "# old code\n",
    "def extract_fiducials(df, blobs, radius, diagnostics=False):\n",
    "    \"\"\"Do the actual filtering\n",
    "    \n",
    "    We're doing it sequentially because we may run out of memory.\n",
    "    If initial DataFrame is 18 GB (1 GB per column) and we have 200 \"\"\"\n",
    "    fiducials_dfs = [df[np.sqrt((df.x0 - x) ** 2 + (df.y0 - y) ** 2) < radius]\n",
    "                     for y, x in blobs]\n",
    "    return fiducials_dfs"
   ]
  },
  {
   "cell_type": "code",
   "execution_count": 125,
   "metadata": {},
   "outputs": [],
   "source": [
    "data = pd.DataFrame(rand(1000000, 3)*100, columns=[c + \"0\" for c in \"xyz\"])\n",
    "test_points = pd.DataFrame(rand(1000, 2)*100, columns=[c + \"0\" for c in \"xy\"])"
   ]
  },
  {
   "cell_type": "code",
   "execution_count": 77,
   "metadata": {},
   "outputs": [
    {
     "data": {
      "text/html": [
       "<div>\n",
       "<style scoped>\n",
       "    .dataframe tbody tr th:only-of-type {\n",
       "        vertical-align: middle;\n",
       "    }\n",
       "\n",
       "    .dataframe tbody tr th {\n",
       "        vertical-align: top;\n",
       "    }\n",
       "\n",
       "    .dataframe thead th {\n",
       "        text-align: right;\n",
       "    }\n",
       "</style>\n",
       "<table border=\"1\" class=\"dataframe\">\n",
       "  <thead>\n",
       "    <tr style=\"text-align: right;\">\n",
       "      <th></th>\n",
       "      <th>x0</th>\n",
       "      <th>y0</th>\n",
       "      <th>z0</th>\n",
       "    </tr>\n",
       "  </thead>\n",
       "  <tbody>\n",
       "    <tr>\n",
       "      <th>0</th>\n",
       "      <td>66.603890</td>\n",
       "      <td>70.022372</td>\n",
       "      <td>65.922838</td>\n",
       "    </tr>\n",
       "    <tr>\n",
       "      <th>1</th>\n",
       "      <td>63.498939</td>\n",
       "      <td>92.099948</td>\n",
       "      <td>69.462033</td>\n",
       "    </tr>\n",
       "    <tr>\n",
       "      <th>2</th>\n",
       "      <td>2.459055</td>\n",
       "      <td>35.651718</td>\n",
       "      <td>10.962859</td>\n",
       "    </tr>\n",
       "    <tr>\n",
       "      <th>3</th>\n",
       "      <td>81.724244</td>\n",
       "      <td>42.629706</td>\n",
       "      <td>50.450649</td>\n",
       "    </tr>\n",
       "    <tr>\n",
       "      <th>4</th>\n",
       "      <td>82.121892</td>\n",
       "      <td>6.642010</td>\n",
       "      <td>19.540001</td>\n",
       "    </tr>\n",
       "  </tbody>\n",
       "</table>\n",
       "</div>"
      ],
      "text/plain": [
       "          x0         y0         z0\n",
       "0  66.603890  70.022372  65.922838\n",
       "1  63.498939  92.099948  69.462033\n",
       "2   2.459055  35.651718  10.962859\n",
       "3  81.724244  42.629706  50.450649\n",
       "4  82.121892   6.642010  19.540001"
      ]
     },
     "execution_count": 77,
     "metadata": {},
     "output_type": "execute_result"
    }
   ],
   "source": [
    "data.head()"
   ]
  },
  {
   "cell_type": "code",
   "execution_count": 108,
   "metadata": {},
   "outputs": [
    {
     "data": {
      "text/plain": [
       "{0: {'x0': 66.60388962803867,\n",
       "  'y0': 70.02237241495686,\n",
       "  'z0': 65.92283797733938},\n",
       " 1: {'x0': 63.49893871121613,\n",
       "  'y0': 92.09994847053868,\n",
       "  'z0': 69.46203271824403},\n",
       " 2: {'x0': 2.459054622111456,\n",
       "  'y0': 35.651717891860436,\n",
       "  'z0': 10.962858670049947},\n",
       " 3: {'x0': 81.72424389551612,\n",
       "  'y0': 42.62970629015187,\n",
       "  'z0': 50.45064898223244},\n",
       " 4: {'x0': 82.12189185788644,\n",
       "  'y0': 6.642009718684417,\n",
       "  'z0': 19.540000781028688}}"
      ]
     },
     "execution_count": 108,
     "metadata": {},
     "output_type": "execute_result"
    }
   ],
   "source": []
  },
  {
   "cell_type": "code",
   "execution_count": 116,
   "metadata": {},
   "outputs": [],
   "source": [
    "data.index = np.arange(len(data))"
   ]
  },
  {
   "cell_type": "code",
   "execution_count": 117,
   "metadata": {},
   "outputs": [
    {
     "data": {
      "text/plain": [
       "Int64Index([   0,    1,    2,    3,    4,    5,    6,    7,    8,    9,\n",
       "            ...\n",
       "            9990, 9991, 9992, 9993, 9994, 9995, 9996, 9997, 9998, 9999],\n",
       "           dtype='int64', length=10000)"
      ]
     },
     "execution_count": 117,
     "metadata": {},
     "output_type": "execute_result"
    }
   ],
   "source": [
    "data.index"
   ]
  },
  {
   "cell_type": "code",
   "execution_count": null,
   "metadata": {},
   "outputs": [],
   "source": [
    "# new code\n",
    "def extract_fiducials2(df, blobs, radius):\n",
    "    \"\"\"Extract fiducials from point cloud\"\"\"\n",
    "    # build tree\n",
    "    tree = cKDTree(df[[\"y0\", \"x0\"]].values)\n",
    "    # extract matches\n",
    "    matches = tree.query_ball_point(blobs, radius)\n",
    "    return [df.iloc[m] for m in matches]"
   ]
  },
  {
   "cell_type": "code",
   "execution_count": 80,
   "metadata": {},
   "outputs": [
    {
     "name": "stdout",
     "output_type": "stream",
     "text": [
      "The line_profiler extension is already loaded. To reload it, use:\n",
      "  %reload_ext line_profiler\n"
     ]
    }
   ],
   "source": [
    "%load_ext line_profiler"
   ]
  },
  {
   "cell_type": "code",
   "execution_count": null,
   "metadata": {},
   "outputs": [],
   "source": [
    "data.iat[]"
   ]
  },
  {
   "cell_type": "code",
   "execution_count": 126,
   "metadata": {},
   "outputs": [
    {
     "data": {
      "text/plain": [
       "Timer unit: 1e-06 s\n",
       "\n",
       "Total time: 1.63577 s\n",
       "File: <ipython-input-123-db68e7be6539>\n",
       "Function: extract_fiducials2 at line 1\n",
       "\n",
       "Line #      Hits         Time  Per Hit   % Time  Line Contents\n",
       "==============================================================\n",
       "     1                                           def extract_fiducials2(df, blobs, radius):\n",
       "     2         1    1254103.0 1254103.0     76.7      tree = cKDTree(df[[\"y0\", \"x0\"]].values)\n",
       "     3         1      10296.0  10296.0      0.6      matches = tree.query_ball_point(blobs, radius)\n",
       "     4         1     371368.0 371368.0     22.7      return [df.iloc[m] for m in matches]"
      ]
     },
     "metadata": {},
     "output_type": "display_data"
    }
   ],
   "source": [
    "%lprun -f extract_fiducials2 extract_fiducials2(data, test_points[[\"y0\", \"x0\"]].values, 0.25)"
   ]
  },
  {
   "cell_type": "code",
   "execution_count": 127,
   "metadata": {},
   "outputs": [
    {
     "data": {
      "text/plain": [
       "Timer unit: 1e-06 s\n",
       "\n",
       "Total time: 42.5768 s\n",
       "File: <ipython-input-21-8d69ef4928c2>\n",
       "Function: extract_fiducials at line 2\n",
       "\n",
       "Line #      Hits         Time  Per Hit   % Time  Line Contents\n",
       "==============================================================\n",
       "     2                                           def extract_fiducials(df, blobs, radius, diagnostics=False):\n",
       "     3                                               \"\"\"Do the actual filtering\n",
       "     4                                               \n",
       "     5                                               We're doing it sequentially because we may run out of memory.\n",
       "     6                                               If initial DataFrame is 18 GB (1 GB per column) and we have 200 \"\"\"\n",
       "     7         1          2.0      2.0      0.0      fiducials_dfs = [df[np.sqrt((df.x0 - x) ** 2 + (df.y0 - y) ** 2) < radius]\n",
       "     8         1   42576800.0 42576800.0    100.0                       for y, x in blobs]\n",
       "     9         1          1.0      1.0      0.0      return fiducials_dfs"
      ]
     },
     "metadata": {},
     "output_type": "display_data"
    }
   ],
   "source": [
    "%lprun -f extract_fiducials extract_fiducials(data, test_points[[\"y0\", \"x0\"]].values, 0.25)"
   ]
  },
  {
   "cell_type": "code",
   "execution_count": 143,
   "metadata": {},
   "outputs": [
    {
     "name": "stdout",
     "output_type": "stream",
     "text": [
      "1.44 ms ± 32.8 µs per loop (mean ± std. dev. of 7 runs, 1000 loops each)\n",
      "3.64 ms ± 178 µs per loop (mean ± std. dev. of 7 runs, 100 loops each)\n",
      "1.42 ms ± 48.1 µs per loop (mean ± std. dev. of 7 runs, 1000 loops each)\n",
      "3.65 ms ± 180 µs per loop (mean ± std. dev. of 7 runs, 100 loops each)\n",
      "10.1 ms ± 270 µs per loop (mean ± std. dev. of 7 runs, 100 loops each)\n",
      "5.43 ms ± 151 µs per loop (mean ± std. dev. of 7 runs, 100 loops each)\n",
      "10.2 ms ± 245 µs per loop (mean ± std. dev. of 7 runs, 100 loops each)\n",
      "5.34 ms ± 89.1 µs per loop (mean ± std. dev. of 7 runs, 100 loops each)\n",
      "101 ms ± 4.44 ms per loop (mean ± std. dev. of 7 runs, 10 loops each)\n",
      "24.9 ms ± 499 µs per loop (mean ± std. dev. of 7 runs, 10 loops each)\n",
      "94.2 ms ± 615 µs per loop (mean ± std. dev. of 7 runs, 10 loops each)\n",
      "23 ms ± 189 µs per loop (mean ± std. dev. of 7 runs, 10 loops each)\n",
      "987 ms ± 33.7 ms per loop (mean ± std. dev. of 7 runs, 1 loop each)\n",
      "205 ms ± 2.89 ms per loop (mean ± std. dev. of 7 runs, 1 loop each)\n",
      "955 ms ± 28.6 ms per loop (mean ± std. dev. of 7 runs, 1 loop each)\n",
      "204 ms ± 4.98 ms per loop (mean ± std. dev. of 7 runs, 1 loop each)\n",
      "5.99 ms ± 173 µs per loop (mean ± std. dev. of 7 runs, 100 loops each)\n",
      "36.3 ms ± 413 µs per loop (mean ± std. dev. of 7 runs, 10 loops each)\n",
      "5.22 ms ± 222 µs per loop (mean ± std. dev. of 7 runs, 100 loops each)\n",
      "35 ms ± 538 µs per loop (mean ± std. dev. of 7 runs, 10 loops each)\n",
      "53.5 ms ± 1.75 ms per loop (mean ± std. dev. of 7 runs, 10 loops each)\n",
      "37.9 ms ± 1.4 ms per loop (mean ± std. dev. of 7 runs, 10 loops each)\n",
      "56.7 ms ± 1.92 ms per loop (mean ± std. dev. of 7 runs, 10 loops each)\n",
      "37.6 ms ± 433 µs per loop (mean ± std. dev. of 7 runs, 10 loops each)\n",
      "529 ms ± 17 ms per loop (mean ± std. dev. of 7 runs, 1 loop each)\n",
      "58.1 ms ± 1.19 ms per loop (mean ± std. dev. of 7 runs, 10 loops each)\n",
      "550 ms ± 15.8 ms per loop (mean ± std. dev. of 7 runs, 1 loop each)\n",
      "56.3 ms ± 1.03 ms per loop (mean ± std. dev. of 7 runs, 10 loops each)\n",
      "5.55 s ± 98.9 ms per loop (mean ± std. dev. of 7 runs, 1 loop each)\n",
      "241 ms ± 1.31 ms per loop (mean ± std. dev. of 7 runs, 1 loop each)\n",
      "5.35 s ± 46.6 ms per loop (mean ± std. dev. of 7 runs, 1 loop each)\n",
      "247 ms ± 2.28 ms per loop (mean ± std. dev. of 7 runs, 1 loop each)\n",
      "50.1 ms ± 1.11 ms per loop (mean ± std. dev. of 7 runs, 10 loops each)\n",
      "805 ms ± 28.4 ms per loop (mean ± std. dev. of 7 runs, 1 loop each)\n",
      "22.7 ms ± 361 µs per loop (mean ± std. dev. of 7 runs, 10 loops each)\n",
      "798 ms ± 25.9 ms per loop (mean ± std. dev. of 7 runs, 1 loop each)\n",
      "442 ms ± 7.63 ms per loop (mean ± std. dev. of 7 runs, 1 loop each)\n",
      "1.04 s ± 35.9 ms per loop (mean ± std. dev. of 7 runs, 1 loop each)\n",
      "417 ms ± 9.48 ms per loop (mean ± std. dev. of 7 runs, 1 loop each)\n",
      "961 ms ± 21.2 ms per loop (mean ± std. dev. of 7 runs, 1 loop each)\n",
      "4.12 s ± 188 ms per loop (mean ± std. dev. of 7 runs, 1 loop each)\n",
      "850 ms ± 8.76 ms per loop (mean ± std. dev. of 7 runs, 1 loop each)\n",
      "4.08 s ± 89.2 ms per loop (mean ± std. dev. of 7 runs, 1 loop each)\n",
      "1.07 s ± 91.6 ms per loop (mean ± std. dev. of 7 runs, 1 loop each)\n",
      "42 s ± 1.78 s per loop (mean ± std. dev. of 7 runs, 1 loop each)\n",
      "1.2 s ± 53.4 ms per loop (mean ± std. dev. of 7 runs, 1 loop each)\n",
      "40 s ± 682 ms per loop (mean ± std. dev. of 7 runs, 1 loop each)\n",
      "1.31 s ± 58.2 ms per loop (mean ± std. dev. of 7 runs, 1 loop each)\n",
      "349 ms ± 4.89 ms per loop (mean ± std. dev. of 7 runs, 1 loop each)\n",
      "21.7 s ± 842 ms per loop (mean ± std. dev. of 7 runs, 1 loop each)\n",
      "380 ms ± 8.7 ms per loop (mean ± std. dev. of 7 runs, 1 loop each)\n",
      "24 s ± 391 ms per loop (mean ± std. dev. of 7 runs, 1 loop each)\n",
      "3.66 s ± 45.7 ms per loop (mean ± std. dev. of 7 runs, 1 loop each)\n",
      "17.2 s ± 361 ms per loop (mean ± std. dev. of 7 runs, 1 loop each)\n",
      "3.37 s ± 19 ms per loop (mean ± std. dev. of 7 runs, 1 loop each)\n",
      "20.4 s ± 536 ms per loop (mean ± std. dev. of 7 runs, 1 loop each)\n",
      "36.6 s ± 260 ms per loop (mean ± std. dev. of 7 runs, 1 loop each)\n",
      "23.5 s ± 637 ms per loop (mean ± std. dev. of 7 runs, 1 loop each)\n",
      "35.3 s ± 375 ms per loop (mean ± std. dev. of 7 runs, 1 loop each)\n",
      "16.6 s ± 255 ms per loop (mean ± std. dev. of 7 runs, 1 loop each)\n",
      "5min 45s ± 4.91 s per loop (mean ± std. dev. of 7 runs, 1 loop each)\n",
      "20.7 s ± 658 ms per loop (mean ± std. dev. of 7 runs, 1 loop each)\n",
      "5min 41s ± 2.1 s per loop (mean ± std. dev. of 7 runs, 1 loop each)\n",
      "20.3 s ± 789 ms per loop (mean ± std. dev. of 7 runs, 1 loop each)\n"
     ]
    }
   ],
   "source": [
    "times1 = []\n",
    "times2 = []\n",
    "for num_data in (10000, 100000, 1000000, 10000000):\n",
    "    nd1 = []\n",
    "    nd2 = []\n",
    "    for num_test in (1, 10, 100, 1000):\n",
    "        nt1 = []\n",
    "        nt2 = []\n",
    "        data = pd.DataFrame(rand(num_data, 3) * 100, columns=[c + \"0\" for c in \"xyz\"])\n",
    "        test_points = pd.DataFrame(rand(num_test, 2) * 100, columns=[c + \"0\" for c in \"xy\"])\n",
    "        for r in (0.2, 0.5):\n",
    "            t1 = %timeit -o extract_fiducials(data, test_points[[\"y0\", \"x0\"]].values, r)\n",
    "            t2 = %timeit -o extract_fiducials2(data, test_points[[\"y0\", \"x0\"]].values, r)\n",
    "            blobs1 = extract_fiducials(data, test_points[[\"y0\", \"x0\"]].values, r)\n",
    "            blobs2 = extract_fiducials2(data, test_points[[\"y0\", \"x0\"]].values, r)\n",
    "            \n",
    "            assert all([np.array_equal(b1, b2) for b1, b2 in zip(blobs1, blobs2)])\n",
    "            \n",
    "            nt1.append(t1.timings)\n",
    "            nt2.append(t2.timings)\n",
    "        nd1.append(nt1)\n",
    "        nd2.append(nt2)\n",
    "    times1.append(nd1)\n",
    "    times2.append(nd2)"
   ]
  },
  {
   "cell_type": "code",
   "execution_count": 166,
   "metadata": {},
   "outputs": [],
   "source": [
    "times1a = np.array(times1)\n",
    "times2a = np.array(times2)"
   ]
  },
  {
   "cell_type": "code",
   "execution_count": 167,
   "metadata": {},
   "outputs": [
    {
     "data": {
      "text/plain": [
       "(4, 4, 2, 7)"
      ]
     },
     "execution_count": 167,
     "metadata": {},
     "output_type": "execute_result"
    }
   ],
   "source": [
    "times1a.shape"
   ]
  },
  {
   "cell_type": "code",
   "execution_count": 171,
   "metadata": {},
   "outputs": [
    {
     "data": {
      "text/plain": [
       "array([[ 2.91386419,  2.53820805,  4.64188295,  3.6026067 ],\n",
       "       [ 7.70830796,  4.43587753,  3.60318983,  2.29152055],\n",
       "       [37.70853987,  3.4716795 ,  3.61937765,  4.08817543],\n",
       "       [ 4.67988425,  4.19476845,  2.00399227,  1.24142149]])"
      ]
     },
     "execution_count": 171,
     "metadata": {},
     "output_type": "execute_result"
    }
   ],
   "source": [
    "times1a.std((-2, -1)) / times1a.mean((-2, -1)) * 100"
   ]
  },
  {
   "cell_type": "code",
   "execution_count": 170,
   "metadata": {},
   "outputs": [
    {
     "data": {
      "text/plain": [
       "array([[ 4.91679473,  2.44135842,  4.27042714,  1.99722254],\n",
       "       [ 2.25290119,  2.76782294,  2.55003142,  1.42895742],\n",
       "       [ 3.42013517,  4.85141846, 13.40642381,  6.19129128],\n",
       "       [ 5.75695418,  9.01119964, 17.39077921,  3.65049896]])"
      ]
     },
     "execution_count": 170,
     "metadata": {},
     "output_type": "execute_result"
    }
   ],
   "source": [
    "times2a.std((-2, -1)) / times2a.mean((-2, -1)) * 100"
   ]
  },
  {
   "cell_type": "code",
   "execution_count": 159,
   "metadata": {},
   "outputs": [
    {
     "data": {
      "text/plain": [
       "array([0.00143005, 0.01015157, 0.0974426 , 0.9710901 ])"
      ]
     },
     "execution_count": 159,
     "metadata": {},
     "output_type": "execute_result"
    }
   ],
   "source": [
    "times1a.mean((-1,-2))[0]"
   ]
  },
  {
   "cell_type": "code",
   "execution_count": 164,
   "metadata": {},
   "outputs": [],
   "source": [
    "from matplotlib.colors import LogNorm"
   ]
  },
  {
   "cell_type": "code",
   "execution_count": 186,
   "metadata": {},
   "outputs": [
    {
     "data": {
      "text/plain": [
       "<matplotlib.colorbar.Colorbar at 0x617550630>"
      ]
     },
     "execution_count": 186,
     "metadata": {},
     "output_type": "execute_result"
    },
    {
     "data": {
      "image/png": "[encoded data removed]",
      "text/plain": [
       "<Figure size 288x288 with 2 Axes>"
      ]
     },
     "metadata": {},
     "output_type": "display_data"
    }
   ],
   "source": [
    "plt.matshow(times1a.mean((-1,-2)), norm=LogNorm(), cmap=\"plasma\")\n",
    "plt.colorbar()"
   ]
  },
  {
   "cell_type": "code",
   "execution_count": 184,
   "metadata": {},
   "outputs": [
    {
     "data": {
      "text/plain": [
       "<matplotlib.colorbar.Colorbar at 0x617da89b0>"
      ]
     },
     "execution_count": 184,
     "metadata": {},
     "output_type": "execute_result"
    },
    {
     "data": {
      "image/png": "[encoded data removed]",
      "text/plain": [
       "<Figure size 288x288 with 2 Axes>"
      ]
     },
     "metadata": {},
     "output_type": "display_data"
    }
   ],
   "source": [
    "plt.matshow(times2a.mean((-1,-2)), norm=LogNorm(), cmap=\"plasma\")\n",
    "plt.colorbar()"
   ]
  },
  {
   "cell_type": "code",
   "execution_count": 205,
   "metadata": {},
   "outputs": [
    {
     "data": {
      "text/plain": [
       "Text(0,0.5,'Size of point cloud')"
      ]
     },
     "execution_count": 205,
     "metadata": {},
     "output_type": "execute_result"
    },
    {
     "data": {
      "image/png": "[encoded data removed]",
      "text/plain": [
       "<Figure size 288x288 with 2 Axes>"
      ]
     },
     "metadata": {},
     "output_type": "display_data"
    }
   ],
   "source": [
    "plt.matshow(times1a.mean((-1,-2)) / times2a.mean((-1,-2)), norm=LogNorm(), cmap=\"seismic\")\n",
    "plt.colorbar()\n",
    "ax = plt.gca()\n",
    "ax.set_xticklabels((None, \"1\", \"10\", \"100\", \"1000\"))\n",
    "ax.set_yticklabels((None, \"$10^4$\", \"$10^5$\", \"$10^6$\", \"$10^7$\"))\n",
    "ax.set_xlabel(\"Number of test points\")\n",
    "ax.set_ylabel(\"Size of point cloud\")"
   ]
  },
  {
   "cell_type": "code",
   "execution_count": null,
   "metadata": {},
   "outputs": [],
   "source": [
    "a.set_xticklabels()"
   ]
  }
 ],
 "metadata": {
  "kernelspec": {
   "display_name": "Python 3",
   "language": "python",
   "name": "python3"
  },
  "language_info": {
   "codemirror_mode": {
    "name": "ipython",
    "version": 3
   },
   "file_extension": ".py",
   "mimetype": "text/x-python",
   "name": "python",
   "nbconvert_exporter": "python",
   "pygments_lexer": "ipython3",
   "version": "3.6.6"
  }
 },
 "nbformat": 4,
 "nbformat_minor": 2
}
