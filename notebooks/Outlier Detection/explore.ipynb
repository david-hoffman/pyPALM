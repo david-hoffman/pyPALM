{
 "cells": [
  {
   "cell_type": "code",
   "execution_count": 55,
   "metadata": {},
   "outputs": [],
   "source": [
    "%matplotlib inline\n",
    "import h5py\n",
    "import pandas as pd\n",
    "from sklearn import manifold\n",
    "\n",
    "from matplotlib import pyplot as plt\n",
    "from matplotlib.ticker import NullFormatter\n",
    "import seaborn as sns\n",
    "sns.set()\n",
    "\n",
    "random_seed = 42"
   ]
  },
  {
   "cell_type": "code",
   "execution_count": 191,
   "metadata": {},
   "outputs": [
    {
     "name": "stdout",
     "output_type": "stream",
     "text": [
      "CPython 3.6.4\n",
      "IPython 6.2.1\n",
      "\n",
      "numpy 1.14.2\n",
      "pandas 0.22.0\n",
      "xgboost 0.7.post3\n",
      "tpot 0.9.2\n",
      "\n",
      "compiler   : GCC 4.8.2 20140120 (Red Hat 4.8.2-15)\n",
      "system     : Linux\n",
      "release    : 4.9.0-6-amd64\n",
      "machine    : x86_64\n",
      "processor  : \n",
      "CPU cores  : 32\n",
      "interpreter: 64bit\n",
      "Git hash   :\n"
     ]
    }
   ],
   "source": [
    "%load_ext watermark\n",
    "%watermark -v -m -p numpy,pandas,xgboost,tpot -g"
   ]
  },
  {
   "cell_type": "code",
   "execution_count": 8,
   "metadata": {},
   "outputs": [
    {
     "data": {
      "text/plain": [
       "['fid_data', 'good_data', 'mixed_data']"
      ]
     },
     "execution_count": 8,
     "metadata": {},
     "output_type": "execute_result"
    }
   ],
   "source": [
    "%%sh"
   ]
  },
  {
   "cell_type": "code",
   "execution_count": 85,
   "metadata": {},
   "outputs": [],
   "source": [
    "bad = (pd.read_hdf('ISMS_PALM_data_dump.h5', 'fid_data')\n",
    "       .assign(good=0)\n",
    "       .sample(n=300000, random_state=random_seed))\n",
    "       \n",
    "good = (pd.read_hdf('ISMS_PALM_data_dump.h5', 'good_data')\n",
    "        .assign(good=1)\n",
    "        .sample(n=300000, random_state=random_seed))\n",
    "\n",
    "df = pd.concat([bad, good]).sample(frac=1.0)  # put them together and then shuffle\n",
    "\n",
    "feature_cols = ['nphotons', 'sigma_x', 'sigma_y', 'sigma_z', 'offset', 'amp', 'chi2']\n",
    "X = df.loc[:, feature_cols]\n",
    "y = df.good"
   ]
  },
  {
   "cell_type": "code",
   "execution_count": 86,
   "metadata": {},
   "outputs": [
    {
     "data": {
      "text/html": [
       "<div>\n",
       "<style scoped>\n",
       "    .dataframe tbody tr th:only-of-type {\n",
       "        vertical-align: middle;\n",
       "    }\n",
       "\n",
       "    .dataframe tbody tr th {\n",
       "        vertical-align: top;\n",
       "    }\n",
       "\n",
       "    .dataframe thead th {\n",
       "        text-align: right;\n",
       "    }\n",
       "</style>\n",
       "<table border=\"1\" class=\"dataframe\">\n",
       "  <thead>\n",
       "    <tr style=\"text-align: right;\">\n",
       "      <th></th>\n",
       "      <th>nphotons</th>\n",
       "      <th>sigma_x</th>\n",
       "      <th>sigma_y</th>\n",
       "      <th>sigma_z</th>\n",
       "      <th>offset</th>\n",
       "      <th>amp</th>\n",
       "      <th>chi2</th>\n",
       "    </tr>\n",
       "  </thead>\n",
       "  <tbody>\n",
       "    <tr>\n",
       "      <th>5454980</th>\n",
       "      <td>1647.0</td>\n",
       "      <td>0.054149</td>\n",
       "      <td>0.055213</td>\n",
       "      <td>44.686230</td>\n",
       "      <td>71.646240</td>\n",
       "      <td>177.189423</td>\n",
       "      <td>516.517273</td>\n",
       "    </tr>\n",
       "    <tr>\n",
       "      <th>5528341</th>\n",
       "      <td>12450.0</td>\n",
       "      <td>0.012665</td>\n",
       "      <td>0.012396</td>\n",
       "      <td>9.354234</td>\n",
       "      <td>57.842274</td>\n",
       "      <td>1335.017334</td>\n",
       "      <td>880.020813</td>\n",
       "    </tr>\n",
       "    <tr>\n",
       "      <th>10024252</th>\n",
       "      <td>565.0</td>\n",
       "      <td>0.093971</td>\n",
       "      <td>0.098288</td>\n",
       "      <td>72.574249</td>\n",
       "      <td>31.856213</td>\n",
       "      <td>61.119827</td>\n",
       "      <td>292.584290</td>\n",
       "    </tr>\n",
       "    <tr>\n",
       "      <th>5980119</th>\n",
       "      <td>2287.0</td>\n",
       "      <td>0.059448</td>\n",
       "      <td>0.042550</td>\n",
       "      <td>59.383900</td>\n",
       "      <td>62.590393</td>\n",
       "      <td>189.133575</td>\n",
       "      <td>726.310364</td>\n",
       "    </tr>\n",
       "    <tr>\n",
       "      <th>3229255</th>\n",
       "      <td>656.0</td>\n",
       "      <td>0.082335</td>\n",
       "      <td>0.091846</td>\n",
       "      <td>66.839844</td>\n",
       "      <td>35.247017</td>\n",
       "      <td>71.023918</td>\n",
       "      <td>222.232803</td>\n",
       "    </tr>\n",
       "    <tr>\n",
       "      <th>7896992</th>\n",
       "      <td>8814.0</td>\n",
       "      <td>0.013645</td>\n",
       "      <td>0.027530</td>\n",
       "      <td>19.784918</td>\n",
       "      <td>49.643887</td>\n",
       "      <td>674.865234</td>\n",
       "      <td>596.348511</td>\n",
       "    </tr>\n",
       "    <tr>\n",
       "      <th>6375976</th>\n",
       "      <td>13530.0</td>\n",
       "      <td>0.012877</td>\n",
       "      <td>0.011684</td>\n",
       "      <td>9.478099</td>\n",
       "      <td>55.144283</td>\n",
       "      <td>1421.523560</td>\n",
       "      <td>801.165527</td>\n",
       "    </tr>\n",
       "    <tr>\n",
       "      <th>8227170</th>\n",
       "      <td>617.0</td>\n",
       "      <td>0.080501</td>\n",
       "      <td>0.115715</td>\n",
       "      <td>76.930168</td>\n",
       "      <td>31.688951</td>\n",
       "      <td>61.321278</td>\n",
       "      <td>185.843506</td>\n",
       "    </tr>\n",
       "    <tr>\n",
       "      <th>8473534</th>\n",
       "      <td>791.0</td>\n",
       "      <td>0.079055</td>\n",
       "      <td>0.072759</td>\n",
       "      <td>62.919807</td>\n",
       "      <td>33.590023</td>\n",
       "      <td>83.812576</td>\n",
       "      <td>180.519516</td>\n",
       "    </tr>\n",
       "    <tr>\n",
       "      <th>7752060</th>\n",
       "      <td>675.0</td>\n",
       "      <td>0.077323</td>\n",
       "      <td>0.093204</td>\n",
       "      <td>66.080345</td>\n",
       "      <td>32.473724</td>\n",
       "      <td>72.563255</td>\n",
       "      <td>156.831009</td>\n",
       "    </tr>\n",
       "  </tbody>\n",
       "</table>\n",
       "</div>"
      ],
      "text/plain": [
       "          nphotons   sigma_x   sigma_y    sigma_z     offset          amp  \\\n",
       "5454980     1647.0  0.054149  0.055213  44.686230  71.646240   177.189423   \n",
       "5528341    12450.0  0.012665  0.012396   9.354234  57.842274  1335.017334   \n",
       "10024252     565.0  0.093971  0.098288  72.574249  31.856213    61.119827   \n",
       "5980119     2287.0  0.059448  0.042550  59.383900  62.590393   189.133575   \n",
       "3229255      656.0  0.082335  0.091846  66.839844  35.247017    71.023918   \n",
       "7896992     8814.0  0.013645  0.027530  19.784918  49.643887   674.865234   \n",
       "6375976    13530.0  0.012877  0.011684   9.478099  55.144283  1421.523560   \n",
       "8227170      617.0  0.080501  0.115715  76.930168  31.688951    61.321278   \n",
       "8473534      791.0  0.079055  0.072759  62.919807  33.590023    83.812576   \n",
       "7752060      675.0  0.077323  0.093204  66.080345  32.473724    72.563255   \n",
       "\n",
       "                chi2  \n",
       "5454980   516.517273  \n",
       "5528341   880.020813  \n",
       "10024252  292.584290  \n",
       "5980119   726.310364  \n",
       "3229255   222.232803  \n",
       "7896992   596.348511  \n",
       "6375976   801.165527  \n",
       "8227170   185.843506  \n",
       "8473534   180.519516  \n",
       "7752060   156.831009  "
      ]
     },
     "execution_count": 86,
     "metadata": {},
     "output_type": "execute_result"
    }
   ],
   "source": [
    "X.head(10)"
   ]
  },
  {
   "cell_type": "markdown",
   "metadata": {},
   "source": [
    "Summary stats"
   ]
  },
  {
   "cell_type": "code",
   "execution_count": 46,
   "metadata": {},
   "outputs": [
    {
     "data": {
      "text/html": [
       "<div>\n",
       "<style scoped>\n",
       "    .dataframe tbody tr th:only-of-type {\n",
       "        vertical-align: middle;\n",
       "    }\n",
       "\n",
       "    .dataframe tbody tr th {\n",
       "        vertical-align: top;\n",
       "    }\n",
       "\n",
       "    .dataframe thead th {\n",
       "        text-align: right;\n",
       "    }\n",
       "</style>\n",
       "<table border=\"1\" class=\"dataframe\">\n",
       "  <thead>\n",
       "    <tr style=\"text-align: right;\">\n",
       "      <th></th>\n",
       "      <th>nphotons</th>\n",
       "      <th>sigma_x</th>\n",
       "      <th>sigma_y</th>\n",
       "      <th>sigma_z</th>\n",
       "      <th>offset</th>\n",
       "      <th>amp</th>\n",
       "      <th>chi2</th>\n",
       "    </tr>\n",
       "  </thead>\n",
       "  <tbody>\n",
       "    <tr>\n",
       "      <th>count</th>\n",
       "      <td>600000.000000</td>\n",
       "      <td>600000.000000</td>\n",
       "      <td>600000.000000</td>\n",
       "      <td>600000.000000</td>\n",
       "      <td>600000.000000</td>\n",
       "      <td>600000.000000</td>\n",
       "      <td>600000.000000</td>\n",
       "    </tr>\n",
       "    <tr>\n",
       "      <th>mean</th>\n",
       "      <td>5230.885438</td>\n",
       "      <td>0.054990</td>\n",
       "      <td>0.065291</td>\n",
       "      <td>51.791564</td>\n",
       "      <td>46.584478</td>\n",
       "      <td>502.148625</td>\n",
       "      <td>566.552945</td>\n",
       "    </tr>\n",
       "    <tr>\n",
       "      <th>std</th>\n",
       "      <td>7676.040465</td>\n",
       "      <td>0.036977</td>\n",
       "      <td>0.043759</td>\n",
       "      <td>35.367183</td>\n",
       "      <td>19.822368</td>\n",
       "      <td>743.828376</td>\n",
       "      <td>596.173199</td>\n",
       "    </tr>\n",
       "    <tr>\n",
       "      <th>min</th>\n",
       "      <td>500.000000</td>\n",
       "      <td>0.003493</td>\n",
       "      <td>0.003852</td>\n",
       "      <td>2.955715</td>\n",
       "      <td>0.006650</td>\n",
       "      <td>50.000080</td>\n",
       "      <td>83.454880</td>\n",
       "    </tr>\n",
       "    <tr>\n",
       "      <th>25%</th>\n",
       "      <td>664.000000</td>\n",
       "      <td>0.014367</td>\n",
       "      <td>0.019590</td>\n",
       "      <td>13.248857</td>\n",
       "      <td>31.906822</td>\n",
       "      <td>65.480406</td>\n",
       "      <td>203.879444</td>\n",
       "    </tr>\n",
       "    <tr>\n",
       "      <th>50%</th>\n",
       "      <td>1125.000000</td>\n",
       "      <td>0.060857</td>\n",
       "      <td>0.066356</td>\n",
       "      <td>55.316990</td>\n",
       "      <td>43.821569</td>\n",
       "      <td>110.677330</td>\n",
       "      <td>356.539169</td>\n",
       "    </tr>\n",
       "    <tr>\n",
       "      <th>75%</th>\n",
       "      <td>8833.000000</td>\n",
       "      <td>0.083618</td>\n",
       "      <td>0.099500</td>\n",
       "      <td>78.232935</td>\n",
       "      <td>53.791242</td>\n",
       "      <td>852.451401</td>\n",
       "      <td>743.720383</td>\n",
       "    </tr>\n",
       "    <tr>\n",
       "      <th>max</th>\n",
       "      <td>114269.000000</td>\n",
       "      <td>0.249763</td>\n",
       "      <td>0.248705</td>\n",
       "      <td>246.504898</td>\n",
       "      <td>511.695892</td>\n",
       "      <td>12033.718750</td>\n",
       "      <td>10297.985352</td>\n",
       "    </tr>\n",
       "  </tbody>\n",
       "</table>\n",
       "</div>"
      ],
      "text/plain": [
       "            nphotons        sigma_x        sigma_y        sigma_z  \\\n",
       "count  600000.000000  600000.000000  600000.000000  600000.000000   \n",
       "mean     5230.885438       0.054990       0.065291      51.791564   \n",
       "std      7676.040465       0.036977       0.043759      35.367183   \n",
       "min       500.000000       0.003493       0.003852       2.955715   \n",
       "25%       664.000000       0.014367       0.019590      13.248857   \n",
       "50%      1125.000000       0.060857       0.066356      55.316990   \n",
       "75%      8833.000000       0.083618       0.099500      78.232935   \n",
       "max    114269.000000       0.249763       0.248705     246.504898   \n",
       "\n",
       "              offset            amp           chi2  \n",
       "count  600000.000000  600000.000000  600000.000000  \n",
       "mean       46.584478     502.148625     566.552945  \n",
       "std        19.822368     743.828376     596.173199  \n",
       "min         0.006650      50.000080      83.454880  \n",
       "25%        31.906822      65.480406     203.879444  \n",
       "50%        43.821569     110.677330     356.539169  \n",
       "75%        53.791242     852.451401     743.720383  \n",
       "max       511.695892   12033.718750   10297.985352  "
      ]
     },
     "execution_count": 46,
     "metadata": {},
     "output_type": "execute_result"
    }
   ],
   "source": [
    "X.describe()"
   ]
  },
  {
   "cell_type": "markdown",
   "metadata": {},
   "source": [
    "Correlation"
   ]
  },
  {
   "cell_type": "code",
   "execution_count": 176,
   "metadata": {},
   "outputs": [
    {
     "data": {
      "text/html": [
       "<div>\n",
       "<style scoped>\n",
       "    .dataframe tbody tr th:only-of-type {\n",
       "        vertical-align: middle;\n",
       "    }\n",
       "\n",
       "    .dataframe tbody tr th {\n",
       "        vertical-align: top;\n",
       "    }\n",
       "\n",
       "    .dataframe thead th {\n",
       "        text-align: right;\n",
       "    }\n",
       "</style>\n",
       "<table border=\"1\" class=\"dataframe\">\n",
       "  <thead>\n",
       "    <tr style=\"text-align: right;\">\n",
       "      <th></th>\n",
       "      <th>nphotons</th>\n",
       "      <th>sigma_x</th>\n",
       "      <th>sigma_y</th>\n",
       "      <th>sigma_z</th>\n",
       "      <th>offset</th>\n",
       "      <th>amp</th>\n",
       "      <th>chi2</th>\n",
       "    </tr>\n",
       "  </thead>\n",
       "  <tbody>\n",
       "    <tr>\n",
       "      <th>nphotons</th>\n",
       "      <td>1.000000</td>\n",
       "      <td>-0.675072</td>\n",
       "      <td>-0.654934</td>\n",
       "      <td>-0.659092</td>\n",
       "      <td>0.677235</td>\n",
       "      <td>0.987815</td>\n",
       "      <td>0.899265</td>\n",
       "    </tr>\n",
       "    <tr>\n",
       "      <th>sigma_x</th>\n",
       "      <td>-0.675072</td>\n",
       "      <td>1.000000</td>\n",
       "      <td>0.841006</td>\n",
       "      <td>0.949682</td>\n",
       "      <td>-0.386932</td>\n",
       "      <td>-0.667188</td>\n",
       "      <td>-0.571736</td>\n",
       "    </tr>\n",
       "    <tr>\n",
       "      <th>sigma_y</th>\n",
       "      <td>-0.654934</td>\n",
       "      <td>0.841006</td>\n",
       "      <td>1.000000</td>\n",
       "      <td>0.904465</td>\n",
       "      <td>-0.401427</td>\n",
       "      <td>-0.655001</td>\n",
       "      <td>-0.579353</td>\n",
       "    </tr>\n",
       "    <tr>\n",
       "      <th>sigma_z</th>\n",
       "      <td>-0.659092</td>\n",
       "      <td>0.949682</td>\n",
       "      <td>0.904465</td>\n",
       "      <td>1.000000</td>\n",
       "      <td>-0.348163</td>\n",
       "      <td>-0.660407</td>\n",
       "      <td>-0.548419</td>\n",
       "    </tr>\n",
       "    <tr>\n",
       "      <th>offset</th>\n",
       "      <td>0.677235</td>\n",
       "      <td>-0.386932</td>\n",
       "      <td>-0.401427</td>\n",
       "      <td>-0.348163</td>\n",
       "      <td>1.000000</td>\n",
       "      <td>0.665127</td>\n",
       "      <td>0.765688</td>\n",
       "    </tr>\n",
       "    <tr>\n",
       "      <th>amp</th>\n",
       "      <td>0.987815</td>\n",
       "      <td>-0.667188</td>\n",
       "      <td>-0.655001</td>\n",
       "      <td>-0.660407</td>\n",
       "      <td>0.665127</td>\n",
       "      <td>1.000000</td>\n",
       "      <td>0.870322</td>\n",
       "    </tr>\n",
       "    <tr>\n",
       "      <th>chi2</th>\n",
       "      <td>0.899265</td>\n",
       "      <td>-0.571736</td>\n",
       "      <td>-0.579353</td>\n",
       "      <td>-0.548419</td>\n",
       "      <td>0.765688</td>\n",
       "      <td>0.870322</td>\n",
       "      <td>1.000000</td>\n",
       "    </tr>\n",
       "  </tbody>\n",
       "</table>\n",
       "</div>"
      ],
      "text/plain": [
       "          nphotons   sigma_x   sigma_y   sigma_z    offset       amp      chi2\n",
       "nphotons  1.000000 -0.675072 -0.654934 -0.659092  0.677235  0.987815  0.899265\n",
       "sigma_x  -0.675072  1.000000  0.841006  0.949682 -0.386932 -0.667188 -0.571736\n",
       "sigma_y  -0.654934  0.841006  1.000000  0.904465 -0.401427 -0.655001 -0.579353\n",
       "sigma_z  -0.659092  0.949682  0.904465  1.000000 -0.348163 -0.660407 -0.548419\n",
       "offset    0.677235 -0.386932 -0.401427 -0.348163  1.000000  0.665127  0.765688\n",
       "amp       0.987815 -0.667188 -0.655001 -0.660407  0.665127  1.000000  0.870322\n",
       "chi2      0.899265 -0.571736 -0.579353 -0.548419  0.765688  0.870322  1.000000"
      ]
     },
     "execution_count": 176,
     "metadata": {},
     "output_type": "execute_result"
    }
   ],
   "source": [
    "X.corr()"
   ]
  },
  {
   "cell_type": "markdown",
   "metadata": {},
   "source": [
    "Counts of good vs. bad"
   ]
  },
  {
   "cell_type": "code",
   "execution_count": 45,
   "metadata": {},
   "outputs": [
    {
     "data": {
      "text/plain": [
       "1    300000\n",
       "0    300000\n",
       "Name: good, dtype: int64"
      ]
     },
     "execution_count": 45,
     "metadata": {},
     "output_type": "execute_result"
    }
   ],
   "source": [
    "y.value_counts()"
   ]
  },
  {
   "cell_type": "markdown",
   "metadata": {},
   "source": [
    "Check no missing values"
   ]
  },
  {
   "cell_type": "code",
   "execution_count": 49,
   "metadata": {},
   "outputs": [],
   "source": [
    "assert X.isnull().values.ravel().sum() == 0"
   ]
  },
  {
   "cell_type": "markdown",
   "metadata": {},
   "source": [
    "### Visualize"
   ]
  },
  {
   "cell_type": "code",
   "execution_count": 80,
   "metadata": {},
   "outputs": [
    {
     "name": "stdout",
     "output_type": "stream",
     "text": [
      "CPU times: user 0 ns, sys: 0 ns, total: 0 ns\n",
      "Wall time: 986 µs\n"
     ]
    }
   ],
   "source": [
    "%%time\n",
    "\n",
    "n_components = 2\n",
    "tsne_sample_size = 5000\n",
    "xx = X.head(tsne_sample_size)\n",
    "yy = y[:tsne_sample_size]\n",
    "tsne = manifold.TSNE(n_components=n_components, init='pca', random_state=0)\n",
    "zz = tsne.fit_transform(xx)"
   ]
  },
  {
   "cell_type": "code",
   "execution_count": 83,
   "metadata": {},
   "outputs": [],
   "source": [
    "fig, ax = plt.subplots()\n",
    "ax.scatter(zz[yy == 1, 0], zz[yy == 1, 1], s=2, c='b', alpha=0.5, label='good')\n",
    "ax.scatter(zz[yy == 0, 0], zz[yy == 0, 1], s=2, c='r', alpha=0.5, label='bad')\n",
    "ax.xaxis.set_major_formatter(NullFormatter())\n",
    "ax.yaxis.set_major_formatter(NullFormatter()) \n",
    "plt.legend()\n",
    "plt.show()"
   ]
  },
  {
   "cell_type": "markdown",
   "metadata": {},
   "source": [
    "### Models"
   ]
  },
  {
   "cell_type": "markdown",
   "metadata": {},
   "source": [
    "Train/test split"
   ]
  },
  {
   "cell_type": "code",
   "execution_count": 157,
   "metadata": {},
   "outputs": [],
   "source": [
    "from sklearn.model_selection import train_test_split\n",
    "\n",
    "X_train, X_test, y_train, y_test = train_test_split(X, y, test_size=0.2, random_state=random_seed)"
   ]
  },
  {
   "cell_type": "code",
   "execution_count": 158,
   "metadata": {},
   "outputs": [
    {
     "data": {
      "text/plain": [
       "((480000, 7), (480000,))"
      ]
     },
     "execution_count": 158,
     "metadata": {},
     "output_type": "execute_result"
    }
   ],
   "source": [
    "X_train.shape, y_train.shape"
   ]
  },
  {
   "cell_type": "code",
   "execution_count": 159,
   "metadata": {},
   "outputs": [
    {
     "data": {
      "text/plain": [
       "((120000, 7), (120000,))"
      ]
     },
     "execution_count": 159,
     "metadata": {},
     "output_type": "execute_result"
    }
   ],
   "source": [
    "X_test.shape, y_test.shape"
   ]
  },
  {
   "cell_type": "code",
   "execution_count": 185,
   "metadata": {},
   "outputs": [],
   "source": [
    "from sklearn.metrics import *\n",
    "from sklearn.metrics.classification import *\n",
    "\n",
    "def evaluate_preds(y_hat):\n",
    "    return pd.Series({\n",
    "        'precision': precision_score(y_test, y_hat),\n",
    "        'recall': recall_score(y_test, y_hat),\n",
    "        'f1': f1_score(y_test, y_hat),\n",
    "        'accuracy': accuracy_score(y_test, y_hat),\n",
    "        'roc_auc': roc_auc_score(y_test, y_hat)\n",
    "    })\n",
    "\n",
    "def evaluate(clf):\n",
    "    y_hat = clf.predict(X_test)\n",
    "    return evaluate_preds(y_hat)\n",
    "\n",
    "def feature_importances(clf):\n",
    "    pd.Series(dict(zip(X.columns, clf.feature_importances_))).sort_index().plot.bar()\n",
    "    plt.show()"
   ]
  },
  {
   "cell_type": "markdown",
   "metadata": {},
   "source": [
    "#### K Nearest Neighbors"
   ]
  },
  {
   "cell_type": "code",
   "execution_count": 161,
   "metadata": {},
   "outputs": [
    {
     "data": {
      "text/plain": [
       "KNeighborsClassifier(algorithm='auto', leaf_size=30, metric='minkowski',\n",
       "           metric_params=None, n_jobs=1, n_neighbors=5, p=2,\n",
       "           weights='uniform')"
      ]
     },
     "execution_count": 161,
     "metadata": {},
     "output_type": "execute_result"
    }
   ],
   "source": [
    "from sklearn.neighbors import KNeighborsClassifier\n",
    "\n",
    "knn = KNeighborsClassifier(n_neighbors=5)\n",
    "knn.fit(X_train, y_train)"
   ]
  },
  {
   "cell_type": "code",
   "execution_count": 162,
   "metadata": {},
   "outputs": [
    {
     "data": {
      "text/plain": [
       "accuracy     0.983508\n",
       "f1           0.983620\n",
       "precision    0.979267\n",
       "recall       0.988011\n",
       "roc_auc      0.983498\n",
       "dtype: float64"
      ]
     },
     "execution_count": 162,
     "metadata": {},
     "output_type": "execute_result"
    }
   ],
   "source": [
    "evaluate(knn)"
   ]
  },
  {
   "cell_type": "markdown",
   "metadata": {},
   "source": [
    "#### Random forest"
   ]
  },
  {
   "cell_type": "code",
   "execution_count": 163,
   "metadata": {},
   "outputs": [
    {
     "data": {
      "text/plain": [
       "RandomForestClassifier(bootstrap=True, class_weight=None, criterion='gini',\n",
       "            max_depth=None, max_features='auto', max_leaf_nodes=None,\n",
       "            min_impurity_decrease=0.0, min_impurity_split=None,\n",
       "            min_samples_leaf=1, min_samples_split=2,\n",
       "            min_weight_fraction_leaf=0.0, n_estimators=10, n_jobs=1,\n",
       "            oob_score=False, random_state=None, verbose=0,\n",
       "            warm_start=False)"
      ]
     },
     "execution_count": 163,
     "metadata": {},
     "output_type": "execute_result"
    }
   ],
   "source": [
    "from sklearn.ensemble import RandomForestClassifier\n",
    "\n",
    "rf = RandomForestClassifier()\n",
    "rf.fit(X_train, y_train)"
   ]
  },
  {
   "cell_type": "code",
   "execution_count": 164,
   "metadata": {},
   "outputs": [
    {
     "data": {
      "text/plain": [
       "accuracy     0.986450\n",
       "f1           0.986525\n",
       "precision    0.983395\n",
       "recall       0.989674\n",
       "roc_auc      0.986442\n",
       "dtype: float64"
      ]
     },
     "execution_count": 164,
     "metadata": {},
     "output_type": "execute_result"
    }
   ],
   "source": [
    "evaluate(rf)"
   ]
  },
  {
   "cell_type": "code",
   "execution_count": 165,
   "metadata": {},
   "outputs": [
    {
     "data": {
      "image/png": "[encoded data removed]",
      "text/plain": [
       "<Figure size 432x288 with 1 Axes>"
      ]
     },
     "metadata": {},
     "output_type": "display_data"
    }
   ],
   "source": [
    "feature_importances(rf)"
   ]
  },
  {
   "cell_type": "markdown",
   "metadata": {},
   "source": [
    "### Naive Bayes"
   ]
  },
  {
   "cell_type": "code",
   "execution_count": 166,
   "metadata": {},
   "outputs": [
    {
     "data": {
      "text/plain": [
       "GaussianNB(priors=None)"
      ]
     },
     "execution_count": 166,
     "metadata": {},
     "output_type": "execute_result"
    }
   ],
   "source": [
    "from sklearn.naive_bayes import GaussianNB\n",
    "\n",
    "nb = GaussianNB()\n",
    "nb.fit(X_train, y_train)"
   ]
  },
  {
   "cell_type": "code",
   "execution_count": 167,
   "metadata": {},
   "outputs": [
    {
     "data": {
      "text/plain": [
       "accuracy     0.959408\n",
       "f1           0.960098\n",
       "precision    0.946186\n",
       "recall       0.974426\n",
       "roc_auc      0.959373\n",
       "dtype: float64"
      ]
     },
     "execution_count": 167,
     "metadata": {},
     "output_type": "execute_result"
    }
   ],
   "source": [
    "evaluate(nb)"
   ]
  },
  {
   "cell_type": "markdown",
   "metadata": {},
   "source": [
    "### XGBoost"
   ]
  },
  {
   "cell_type": "code",
   "execution_count": 168,
   "metadata": {},
   "outputs": [
    {
     "data": {
      "text/plain": [
       "XGBClassifier(base_score=0.5, booster='gbtree', colsample_bylevel=1,\n",
       "       colsample_bytree=1, gamma=0, learning_rate=0.1, max_delta_step=0,\n",
       "       max_depth=5, min_child_weight=1, missing=None, n_estimators=100,\n",
       "       n_jobs=1, nthread=16, objective='binary:logistic', random_state=0,\n",
       "       reg_alpha=0, reg_lambda=1, scale_pos_weight=1, seed=None,\n",
       "       silent=True, subsample=1)"
      ]
     },
     "execution_count": 168,
     "metadata": {},
     "output_type": "execute_result"
    }
   ],
   "source": [
    "from xgboost import XGBClassifier\n",
    "\n",
    "xgb = XGBClassifier(max_depth=5, n_estimators=100, nthread=16)\n",
    "xgb.fit(X_train, y_train)"
   ]
  },
  {
   "cell_type": "code",
   "execution_count": 169,
   "metadata": {},
   "outputs": [
    {
     "name": "stderr",
     "output_type": "stream",
     "text": [
      "/home/isaac/miniconda3/envs/data/lib/python3.6/site-packages/sklearn/preprocessing/label.py:151: DeprecationWarning: The truth value of an empty array is ambiguous. Returning False, but in future this will result in an error. Use `array.size > 0` to check that an array is not empty.\n",
      "  if diff:\n"
     ]
    },
    {
     "data": {
      "text/plain": [
       "accuracy     0.986458\n",
       "f1           0.986566\n",
       "precision    0.981043\n",
       "recall       0.992152\n",
       "roc_auc      0.986445\n",
       "dtype: float64"
      ]
     },
     "execution_count": 169,
     "metadata": {},
     "output_type": "execute_result"
    }
   ],
   "source": [
    "evaluate(xgb)"
   ]
  },
  {
   "cell_type": "code",
   "execution_count": 170,
   "metadata": {},
   "outputs": [
    {
     "data": {
      "image/png": "[encoded data removed]",
      "text/plain": [
       "<Figure size 432x288 with 1 Axes>"
      ]
     },
     "metadata": {},
     "output_type": "display_data"
    }
   ],
   "source": [
    "feature_importances(xgb)"
   ]
  },
  {
   "cell_type": "markdown",
   "metadata": {},
   "source": [
    "#### Logistic regression\n",
    "\n",
    "(This does amazingly well for a fast-to-train linear model.)"
   ]
  },
  {
   "cell_type": "code",
   "execution_count": 171,
   "metadata": {},
   "outputs": [
    {
     "data": {
      "text/plain": [
       "LogisticRegressionCV(Cs=10, class_weight=None, cv=None, dual=False,\n",
       "           fit_intercept=True, intercept_scaling=1.0, max_iter=100,\n",
       "           multi_class='ovr', n_jobs=16, penalty='l2', random_state=None,\n",
       "           refit=True, scoring=None, solver='lbfgs', tol=0.0001, verbose=0)"
      ]
     },
     "execution_count": 171,
     "metadata": {},
     "output_type": "execute_result"
    }
   ],
   "source": [
    "from sklearn.linear_model import LogisticRegressionCV\n",
    "\n",
    "lr = LogisticRegressionCV(n_jobs=16)\n",
    "lr.fit(X_train, y_train)"
   ]
  },
  {
   "cell_type": "code",
   "execution_count": 172,
   "metadata": {},
   "outputs": [
    {
     "data": {
      "text/plain": [
       "accuracy     0.972675\n",
       "f1           0.972997\n",
       "precision    0.963846\n",
       "recall       0.982325\n",
       "roc_auc      0.972652\n",
       "dtype: float64"
      ]
     },
     "execution_count": 172,
     "metadata": {},
     "output_type": "execute_result"
    }
   ],
   "source": [
    "evaluate(lr)"
   ]
  },
  {
   "cell_type": "markdown",
   "metadata": {},
   "source": [
    "#### Big guns: TPOT"
   ]
  },
  {
   "cell_type": "code",
   "execution_count": 132,
   "metadata": {},
   "outputs": [
    {
     "name": "stderr",
     "output_type": "stream",
     "text": [
      "Optimization Progress: 139pipeline [19:14, 248.78s/pipeline]"
     ]
    },
    {
     "name": "stdout",
     "output_type": "stream",
     "text": [
      "Generation 1 - Current best internal CV score: 0.9874708347645444\n"
     ]
    },
    {
     "name": "stderr",
     "output_type": "stream",
     "text": []
    },
    {
     "name": "stdout",
     "output_type": "stream",
     "text": [
      "\n",
      "19.357010333333335 minutes have elapsed. TPOT will close down.\n",
      "TPOT closed prematurely. Will use the current best pipeline.\n",
      "\n",
      "Best pipeline: XGBClassifier(RobustScaler(input_matrix), learning_rate=0.5, max_depth=4, min_child_weight=6, n_estimators=100, nthread=1, subsample=0.7000000000000001)\n"
     ]
    },
    {
     "data": {
      "text/plain": [
       "TPOTClassifier(config_dict={'sklearn.naive_bayes.GaussianNB': {}, 'sklearn.naive_bayes.BernoulliNB': {'alpha': [0.001, 0.01, 0.1, 1.0, 10.0, 100.0], 'fit_prior': [True, False]}, 'sklearn.naive_bayes.MultinomialNB': {'alpha': [0.001, 0.01, 0.1, 1.0, 10.0, 100.0], 'fit_prior': [True, False]}, 'sklearn.tree.DecisionT....3 , 0.35, 0.4 , 0.45, 0.5 , 0.55,\n",
       "       0.6 , 0.65, 0.7 , 0.75, 0.8 , 0.85, 0.9 , 0.95, 1.  ])}}}},\n",
       "        crossover_rate=0.1, cv=5, disable_update_check=False,\n",
       "        early_stop=None, generations=1000000, max_eval_time_mins=5,\n",
       "        max_time_mins=15, memory=None, mutation_rate=0.9, n_jobs=24,\n",
       "        offspring_size=50, periodic_checkpoint_folder=None,\n",
       "        population_size=50, random_state=None, scoring=None, subsample=1.0,\n",
       "        verbosity=2, warm_start=False)"
      ]
     },
     "execution_count": 132,
     "metadata": {},
     "output_type": "execute_result"
    }
   ],
   "source": [
    "from tpot import TPOTClassifier\n",
    "\n",
    "tp = TPOTClassifier(generations=5, max_time_mins=15, population_size=50, n_jobs=24, verbosity=2)\n",
    "tp.fit(X_train, y_train)"
   ]
  },
  {
   "cell_type": "markdown",
   "metadata": {},
   "source": [
    "Turns out TPOT ended up with just a XGBoost classifier with a Robust Scaler for the inputs before they go in."
   ]
  },
  {
   "cell_type": "code",
   "execution_count": 133,
   "metadata": {},
   "outputs": [
    {
     "data": {
      "text/plain": [
       "True"
      ]
     },
     "execution_count": 133,
     "metadata": {},
     "output_type": "execute_result"
    }
   ],
   "source": [
    "tp.export('tpot_pipeline.py')"
   ]
  },
  {
   "cell_type": "code",
   "execution_count": 134,
   "metadata": {},
   "outputs": [
    {
     "name": "stderr",
     "output_type": "stream",
     "text": [
      "/home/isaac/miniconda3/envs/data/lib/python3.6/site-packages/sklearn/preprocessing/label.py:151: DeprecationWarning: The truth value of an empty array is ambiguous. Returning False, but in future this will result in an error. Use `array.size > 0` to check that an array is not empty.\n",
      "  if diff:\n"
     ]
    },
    {
     "data": {
      "text/plain": [
       "accuracy     0.988100\n",
       "f1           0.988103\n",
       "precision    0.983302\n",
       "recall       0.992951\n",
       "roc_auc      0.988122\n",
       "dtype: float64"
      ]
     },
     "execution_count": 134,
     "metadata": {},
     "output_type": "execute_result"
    }
   ],
   "source": [
    "evaluate(tp)"
   ]
  },
  {
   "cell_type": "code",
   "execution_count": 136,
   "metadata": {},
   "outputs": [
    {
     "data": {
      "image/png": "[encoded data removed]",
      "text/plain": [
       "<Figure size 432x288 with 1 Axes>"
      ]
     },
     "metadata": {},
     "output_type": "display_data"
    }
   ],
   "source": [
    "feature_importances(tp.fitted_pipeline_.steps[-1][1])"
   ]
  },
  {
   "cell_type": "markdown",
   "metadata": {},
   "source": [
    "<hr>"
   ]
  },
  {
   "cell_type": "markdown",
   "metadata": {},
   "source": [
    "## Voting classifier (ensemble of above)"
   ]
  },
  {
   "cell_type": "code",
   "execution_count": 183,
   "metadata": {},
   "outputs": [
    {
     "name": "stderr",
     "output_type": "stream",
     "text": [
      "/home/isaac/miniconda3/envs/data/lib/python3.6/site-packages/sklearn/preprocessing/label.py:151: DeprecationWarning: The truth value of an empty array is ambiguous. Returning False, but in future this will result in an error. Use `array.size > 0` to check that an array is not empty.\n",
      "  if diff:\n"
     ]
    }
   ],
   "source": [
    "from sklearn.ensemble import VotingClassifier\n",
    "\n",
    "estimators = [\n",
    "    ('rf', rf),\n",
    "    ('lr', lr),\n",
    "    ('knn', knn),\n",
    "    ('nb', nb),\n",
    "    ('xgb', tp),\n",
    "]\n",
    "\n",
    "predictions = (pd.DataFrame({name: model.predict(X_test) for name, model in estimators})\n",
    "               .assign(vote_ratio=lambda x: x.sum(axis=1) / len(estimators))\n",
    "               .assign(y_hat=lambda x: (x.vote_ratio > 0.5).astype(np.int)))"
   ]
  },
  {
   "cell_type": "code",
   "execution_count": 184,
   "metadata": {},
   "outputs": [
    {
     "data": {
      "text/html": [
       "<div>\n",
       "<style scoped>\n",
       "    .dataframe tbody tr th:only-of-type {\n",
       "        vertical-align: middle;\n",
       "    }\n",
       "\n",
       "    .dataframe tbody tr th {\n",
       "        vertical-align: top;\n",
       "    }\n",
       "\n",
       "    .dataframe thead th {\n",
       "        text-align: right;\n",
       "    }\n",
       "</style>\n",
       "<table border=\"1\" class=\"dataframe\">\n",
       "  <thead>\n",
       "    <tr style=\"text-align: right;\">\n",
       "      <th></th>\n",
       "      <th>knn</th>\n",
       "      <th>lr</th>\n",
       "      <th>nb</th>\n",
       "      <th>rf</th>\n",
       "      <th>xgb</th>\n",
       "      <th>vote_ratio</th>\n",
       "      <th>y_hat</th>\n",
       "    </tr>\n",
       "  </thead>\n",
       "  <tbody>\n",
       "    <tr>\n",
       "      <th>0</th>\n",
       "      <td>0</td>\n",
       "      <td>0</td>\n",
       "      <td>0</td>\n",
       "      <td>0</td>\n",
       "      <td>0</td>\n",
       "      <td>0.0</td>\n",
       "      <td>0</td>\n",
       "    </tr>\n",
       "    <tr>\n",
       "      <th>1</th>\n",
       "      <td>1</td>\n",
       "      <td>1</td>\n",
       "      <td>1</td>\n",
       "      <td>1</td>\n",
       "      <td>1</td>\n",
       "      <td>1.0</td>\n",
       "      <td>1</td>\n",
       "    </tr>\n",
       "    <tr>\n",
       "      <th>2</th>\n",
       "      <td>0</td>\n",
       "      <td>0</td>\n",
       "      <td>0</td>\n",
       "      <td>0</td>\n",
       "      <td>0</td>\n",
       "      <td>0.0</td>\n",
       "      <td>0</td>\n",
       "    </tr>\n",
       "    <tr>\n",
       "      <th>3</th>\n",
       "      <td>1</td>\n",
       "      <td>1</td>\n",
       "      <td>1</td>\n",
       "      <td>1</td>\n",
       "      <td>1</td>\n",
       "      <td>1.0</td>\n",
       "      <td>1</td>\n",
       "    </tr>\n",
       "    <tr>\n",
       "      <th>4</th>\n",
       "      <td>0</td>\n",
       "      <td>0</td>\n",
       "      <td>0</td>\n",
       "      <td>0</td>\n",
       "      <td>0</td>\n",
       "      <td>0.0</td>\n",
       "      <td>0</td>\n",
       "    </tr>\n",
       "    <tr>\n",
       "      <th>5</th>\n",
       "      <td>0</td>\n",
       "      <td>0</td>\n",
       "      <td>0</td>\n",
       "      <td>0</td>\n",
       "      <td>0</td>\n",
       "      <td>0.0</td>\n",
       "      <td>0</td>\n",
       "    </tr>\n",
       "    <tr>\n",
       "      <th>6</th>\n",
       "      <td>0</td>\n",
       "      <td>0</td>\n",
       "      <td>0</td>\n",
       "      <td>0</td>\n",
       "      <td>0</td>\n",
       "      <td>0.0</td>\n",
       "      <td>0</td>\n",
       "    </tr>\n",
       "    <tr>\n",
       "      <th>7</th>\n",
       "      <td>1</td>\n",
       "      <td>1</td>\n",
       "      <td>1</td>\n",
       "      <td>1</td>\n",
       "      <td>1</td>\n",
       "      <td>1.0</td>\n",
       "      <td>1</td>\n",
       "    </tr>\n",
       "    <tr>\n",
       "      <th>8</th>\n",
       "      <td>1</td>\n",
       "      <td>1</td>\n",
       "      <td>1</td>\n",
       "      <td>1</td>\n",
       "      <td>1</td>\n",
       "      <td>1.0</td>\n",
       "      <td>1</td>\n",
       "    </tr>\n",
       "    <tr>\n",
       "      <th>9</th>\n",
       "      <td>0</td>\n",
       "      <td>0</td>\n",
       "      <td>0</td>\n",
       "      <td>0</td>\n",
       "      <td>0</td>\n",
       "      <td>0.0</td>\n",
       "      <td>0</td>\n",
       "    </tr>\n",
       "  </tbody>\n",
       "</table>\n",
       "</div>"
      ],
      "text/plain": [
       "   knn  lr  nb  rf  xgb  vote_ratio  y_hat\n",
       "0    0   0   0   0    0         0.0      0\n",
       "1    1   1   1   1    1         1.0      1\n",
       "2    0   0   0   0    0         0.0      0\n",
       "3    1   1   1   1    1         1.0      1\n",
       "4    0   0   0   0    0         0.0      0\n",
       "5    0   0   0   0    0         0.0      0\n",
       "6    0   0   0   0    0         0.0      0\n",
       "7    1   1   1   1    1         1.0      1\n",
       "8    1   1   1   1    1         1.0      1\n",
       "9    0   0   0   0    0         0.0      0"
      ]
     },
     "execution_count": 184,
     "metadata": {},
     "output_type": "execute_result"
    }
   ],
   "source": [
    "predictions.head(10)"
   ]
  },
  {
   "cell_type": "code",
   "execution_count": 179,
   "metadata": {},
   "outputs": [
    {
     "data": {
      "text/plain": [
       "<matplotlib.axes._subplots.AxesSubplot at 0x7f3ee53efe10>"
      ]
     },
     "execution_count": 179,
     "metadata": {},
     "output_type": "execute_result"
    },
    {
     "data": {
      "image/png": "[encoded data removed]",
      "text/plain": [
       "<Figure size 432x288 with 1 Axes>"
      ]
     },
     "metadata": {},
     "output_type": "display_data"
    }
   ],
   "source": [
    "predictions.votes.plot.hist()"
   ]
  },
  {
   "cell_type": "code",
   "execution_count": 186,
   "metadata": {},
   "outputs": [
    {
     "data": {
      "text/plain": [
       "accuracy     0.985725\n",
       "f1           0.985849\n",
       "precision    0.979578\n",
       "recall       0.992202\n",
       "roc_auc      0.985710\n",
       "dtype: float64"
      ]
     },
     "execution_count": 186,
     "metadata": {},
     "output_type": "execute_result"
    }
   ],
   "source": [
    "evaluate_preds(predictions.y_hat)"
   ]
  },
  {
   "cell_type": "code",
   "execution_count": null,
   "metadata": {},
   "outputs": [],
   "source": []
  }
 ],
 "metadata": {
  "kernelspec": {
   "display_name": "Python 3",
   "language": "python",
   "name": "python3"
  },
  "language_info": {
   "codemirror_mode": {
    "name": "ipython",
    "version": 3
   },
   "file_extension": ".py",
   "mimetype": "text/x-python",
   "name": "python",
   "nbconvert_exporter": "python",
   "pygments_lexer": "ipython3",
   "version": "3.6.4"
  }
 },
 "nbformat": 4,
 "nbformat_minor": 2
}
