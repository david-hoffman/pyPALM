{
 "cells": [
  {
   "cell_type": "code",
   "execution_count": 1,
   "metadata": {},
   "outputs": [
    {
     "name": "stderr",
     "output_type": "stream",
     "text": [
      "C:\\Users\\hoffmand\\AppData\\Local\\Continuum\\Anaconda3\\lib\\site-packages\\h5py\\__init__.py:36: FutureWarning: Conversion of the second argument of issubdtype from `float` to `np.floating` is deprecated. In future, it will be treated as `np.float64 == np.dtype(float).type`.\n",
      "  from ._conv import register_converters as _register_converters\n"
     ]
    }
   ],
   "source": [
    "%matplotlib inline\n",
    "import h5py\n",
    "import pandas as pd\n",
    "from sklearn import manifold\n",
    "\n",
    "from matplotlib import pyplot as plt\n",
    "from matplotlib.ticker import NullFormatter\n",
    "import seaborn as sns\n",
    "sns.set()\n",
    "\n",
    "random_seed = 42"
   ]
  },
  {
   "cell_type": "code",
   "execution_count": 2,
   "metadata": {},
   "outputs": [
    {
     "name": "stdout",
     "output_type": "stream",
     "text": [
      "CPython 3.6.4\n",
      "IPython 6.2.1\n",
      "\n",
      "numpy 1.14.2\n",
      "pandas 0.22.0\n",
      "xgboost 0.7\n",
      "tpot 0.9.2\n",
      "\n",
      "compiler   : MSC v.1900 64 bit (AMD64)\n",
      "system     : Windows\n",
      "release    : 10\n",
      "machine    : AMD64\n",
      "processor  : Intel64 Family 6 Model 63 Stepping 2, GenuineIntel\n",
      "CPU cores  : 48\n",
      "interpreter: 64bit\n",
      "Git hash   : 5da2a53dd14d4c2c411e0586f87182e4240934a6\n"
     ]
    }
   ],
   "source": [
    "%load_ext watermark\n",
    "%watermark -v -m -p numpy,pandas,xgboost,tpot -g"
   ]
  },
  {
   "cell_type": "code",
   "execution_count": 173,
   "metadata": {},
   "outputs": [],
   "source": [
    "mixed_data = pd.read_hdf('ISMS_PALM_data_dump.h5', 'mixed_data')"
   ]
  },
  {
   "cell_type": "code",
   "execution_count": 141,
   "metadata": {},
   "outputs": [],
   "source": [
    "bad = (pd.read_hdf('ISMS_PALM_data_dump.h5', 'fid_data')\n",
    "       .assign(good=0).sample(n=300000, random_state=random_seed))\n",
    "       \n",
    "good = (pd.read_hdf('ISMS_PALM_data_dump.h5', 'good_data')\n",
    "        .assign(good=1).sample(n=300000, random_state=random_seed))\n",
    "\n",
    "df = pd.concat([bad, good]).sample(frac=1.0)  # put them together and then shuffle\n",
    "\n",
    "feature_cols = ['nphotons', 'sigma_x', 'sigma_y', 'sigma_z', 'offset', 'amp', 'chi2']\n",
    "# feature_cols = ['sigma_z', 'offset', 'amp', 'chi2']\n",
    "X = df.loc[:, feature_cols]\n",
    "y = df.good"
   ]
  },
  {
   "cell_type": "code",
   "execution_count": 142,
   "metadata": {},
   "outputs": [
    {
     "data": {
      "text/html": [
       "<div>\n",
       "<style scoped>\n",
       "    .dataframe tbody tr th:only-of-type {\n",
       "        vertical-align: middle;\n",
       "    }\n",
       "\n",
       "    .dataframe tbody tr th {\n",
       "        vertical-align: top;\n",
       "    }\n",
       "\n",
       "    .dataframe thead th {\n",
       "        text-align: right;\n",
       "    }\n",
       "</style>\n",
       "<table border=\"1\" class=\"dataframe\">\n",
       "  <thead>\n",
       "    <tr style=\"text-align: right;\">\n",
       "      <th></th>\n",
       "      <th>nphotons</th>\n",
       "      <th>sigma_x</th>\n",
       "      <th>sigma_y</th>\n",
       "      <th>sigma_z</th>\n",
       "      <th>offset</th>\n",
       "      <th>amp</th>\n",
       "      <th>chi2</th>\n",
       "    </tr>\n",
       "  </thead>\n",
       "  <tbody>\n",
       "    <tr>\n",
       "      <th>7565231</th>\n",
       "      <td>510.0</td>\n",
       "      <td>0.091890</td>\n",
       "      <td>0.124912</td>\n",
       "      <td>85.758133</td>\n",
       "      <td>31.174608</td>\n",
       "      <td>53.264317</td>\n",
       "      <td>138.155228</td>\n",
       "    </tr>\n",
       "    <tr>\n",
       "      <th>12941485</th>\n",
       "      <td>641.0</td>\n",
       "      <td>0.082246</td>\n",
       "      <td>0.085224</td>\n",
       "      <td>66.306908</td>\n",
       "      <td>28.417042</td>\n",
       "      <td>69.360329</td>\n",
       "      <td>167.251846</td>\n",
       "    </tr>\n",
       "    <tr>\n",
       "      <th>5023069</th>\n",
       "      <td>15155.0</td>\n",
       "      <td>0.011806</td>\n",
       "      <td>0.011021</td>\n",
       "      <td>8.618854</td>\n",
       "      <td>60.429749</td>\n",
       "      <td>1607.788452</td>\n",
       "      <td>844.144714</td>\n",
       "    </tr>\n",
       "    <tr>\n",
       "      <th>13012336</th>\n",
       "      <td>7494.0</td>\n",
       "      <td>0.015002</td>\n",
       "      <td>0.019864</td>\n",
       "      <td>12.553834</td>\n",
       "      <td>48.964481</td>\n",
       "      <td>784.753418</td>\n",
       "      <td>573.018555</td>\n",
       "    </tr>\n",
       "    <tr>\n",
       "      <th>6367203</th>\n",
       "      <td>13813.0</td>\n",
       "      <td>0.012562</td>\n",
       "      <td>0.011555</td>\n",
       "      <td>9.121896</td>\n",
       "      <td>58.454971</td>\n",
       "      <td>1461.130127</td>\n",
       "      <td>803.766418</td>\n",
       "    </tr>\n",
       "    <tr>\n",
       "      <th>7573711</th>\n",
       "      <td>14176.0</td>\n",
       "      <td>0.011699</td>\n",
       "      <td>0.011855</td>\n",
       "      <td>8.625972</td>\n",
       "      <td>59.562458</td>\n",
       "      <td>1528.159058</td>\n",
       "      <td>956.928833</td>\n",
       "    </tr>\n",
       "    <tr>\n",
       "      <th>6190717</th>\n",
       "      <td>1155.0</td>\n",
       "      <td>0.066008</td>\n",
       "      <td>0.068276</td>\n",
       "      <td>54.727058</td>\n",
       "      <td>56.667728</td>\n",
       "      <td>123.849266</td>\n",
       "      <td>796.021362</td>\n",
       "    </tr>\n",
       "    <tr>\n",
       "      <th>1447913</th>\n",
       "      <td>803.0</td>\n",
       "      <td>0.150201</td>\n",
       "      <td>0.100808</td>\n",
       "      <td>170.610809</td>\n",
       "      <td>70.360863</td>\n",
       "      <td>64.078911</td>\n",
       "      <td>398.290802</td>\n",
       "    </tr>\n",
       "    <tr>\n",
       "      <th>7885379</th>\n",
       "      <td>829.0</td>\n",
       "      <td>0.066686</td>\n",
       "      <td>0.076577</td>\n",
       "      <td>54.405781</td>\n",
       "      <td>30.232323</td>\n",
       "      <td>89.585854</td>\n",
       "      <td>185.989685</td>\n",
       "    </tr>\n",
       "    <tr>\n",
       "      <th>15826348</th>\n",
       "      <td>846.0</td>\n",
       "      <td>0.078781</td>\n",
       "      <td>0.066664</td>\n",
       "      <td>63.282421</td>\n",
       "      <td>32.617538</td>\n",
       "      <td>87.555901</td>\n",
       "      <td>331.494904</td>\n",
       "    </tr>\n",
       "  </tbody>\n",
       "</table>\n",
       "</div>"
      ],
      "text/plain": [
       "          nphotons   sigma_x   sigma_y     sigma_z     offset          amp  \\\n",
       "7565231      510.0  0.091890  0.124912   85.758133  31.174608    53.264317   \n",
       "12941485     641.0  0.082246  0.085224   66.306908  28.417042    69.360329   \n",
       "5023069    15155.0  0.011806  0.011021    8.618854  60.429749  1607.788452   \n",
       "13012336    7494.0  0.015002  0.019864   12.553834  48.964481   784.753418   \n",
       "6367203    13813.0  0.012562  0.011555    9.121896  58.454971  1461.130127   \n",
       "7573711    14176.0  0.011699  0.011855    8.625972  59.562458  1528.159058   \n",
       "6190717     1155.0  0.066008  0.068276   54.727058  56.667728   123.849266   \n",
       "1447913      803.0  0.150201  0.100808  170.610809  70.360863    64.078911   \n",
       "7885379      829.0  0.066686  0.076577   54.405781  30.232323    89.585854   \n",
       "15826348     846.0  0.078781  0.066664   63.282421  32.617538    87.555901   \n",
       "\n",
       "                chi2  \n",
       "7565231   138.155228  \n",
       "12941485  167.251846  \n",
       "5023069   844.144714  \n",
       "13012336  573.018555  \n",
       "6367203   803.766418  \n",
       "7573711   956.928833  \n",
       "6190717   796.021362  \n",
       "1447913   398.290802  \n",
       "7885379   185.989685  \n",
       "15826348  331.494904  "
      ]
     },
     "execution_count": 142,
     "metadata": {},
     "output_type": "execute_result"
    }
   ],
   "source": [
    "X.head(10)"
   ]
  },
  {
   "cell_type": "markdown",
   "metadata": {},
   "source": [
    "Summary stats"
   ]
  },
  {
   "cell_type": "code",
   "execution_count": 143,
   "metadata": {},
   "outputs": [
    {
     "data": {
      "text/html": [
       "<div>\n",
       "<style scoped>\n",
       "    .dataframe tbody tr th:only-of-type {\n",
       "        vertical-align: middle;\n",
       "    }\n",
       "\n",
       "    .dataframe tbody tr th {\n",
       "        vertical-align: top;\n",
       "    }\n",
       "\n",
       "    .dataframe thead th {\n",
       "        text-align: right;\n",
       "    }\n",
       "</style>\n",
       "<table border=\"1\" class=\"dataframe\">\n",
       "  <thead>\n",
       "    <tr style=\"text-align: right;\">\n",
       "      <th></th>\n",
       "      <th>nphotons</th>\n",
       "      <th>sigma_x</th>\n",
       "      <th>sigma_y</th>\n",
       "      <th>sigma_z</th>\n",
       "      <th>offset</th>\n",
       "      <th>amp</th>\n",
       "      <th>chi2</th>\n",
       "    </tr>\n",
       "  </thead>\n",
       "  <tbody>\n",
       "    <tr>\n",
       "      <th>count</th>\n",
       "      <td>600000.000000</td>\n",
       "      <td>600000.000000</td>\n",
       "      <td>600000.000000</td>\n",
       "      <td>600000.000000</td>\n",
       "      <td>600000.000000</td>\n",
       "      <td>600000.000000</td>\n",
       "      <td>600000.000000</td>\n",
       "    </tr>\n",
       "    <tr>\n",
       "      <th>mean</th>\n",
       "      <td>5230.885438</td>\n",
       "      <td>0.054990</td>\n",
       "      <td>0.065291</td>\n",
       "      <td>51.791564</td>\n",
       "      <td>46.584478</td>\n",
       "      <td>502.148625</td>\n",
       "      <td>566.552945</td>\n",
       "    </tr>\n",
       "    <tr>\n",
       "      <th>std</th>\n",
       "      <td>7676.040465</td>\n",
       "      <td>0.036977</td>\n",
       "      <td>0.043759</td>\n",
       "      <td>35.367183</td>\n",
       "      <td>19.822368</td>\n",
       "      <td>743.828376</td>\n",
       "      <td>596.173199</td>\n",
       "    </tr>\n",
       "    <tr>\n",
       "      <th>min</th>\n",
       "      <td>500.000000</td>\n",
       "      <td>0.003493</td>\n",
       "      <td>0.003852</td>\n",
       "      <td>2.955715</td>\n",
       "      <td>0.006650</td>\n",
       "      <td>50.000080</td>\n",
       "      <td>83.454880</td>\n",
       "    </tr>\n",
       "    <tr>\n",
       "      <th>25%</th>\n",
       "      <td>664.000000</td>\n",
       "      <td>0.014367</td>\n",
       "      <td>0.019590</td>\n",
       "      <td>13.248857</td>\n",
       "      <td>31.906822</td>\n",
       "      <td>65.480406</td>\n",
       "      <td>203.879444</td>\n",
       "    </tr>\n",
       "    <tr>\n",
       "      <th>50%</th>\n",
       "      <td>1125.000000</td>\n",
       "      <td>0.060857</td>\n",
       "      <td>0.066356</td>\n",
       "      <td>55.316990</td>\n",
       "      <td>43.821569</td>\n",
       "      <td>110.677330</td>\n",
       "      <td>356.539169</td>\n",
       "    </tr>\n",
       "    <tr>\n",
       "      <th>75%</th>\n",
       "      <td>8833.000000</td>\n",
       "      <td>0.083618</td>\n",
       "      <td>0.099500</td>\n",
       "      <td>78.232935</td>\n",
       "      <td>53.791242</td>\n",
       "      <td>852.451401</td>\n",
       "      <td>743.720383</td>\n",
       "    </tr>\n",
       "    <tr>\n",
       "      <th>max</th>\n",
       "      <td>114269.000000</td>\n",
       "      <td>0.249763</td>\n",
       "      <td>0.248705</td>\n",
       "      <td>246.504898</td>\n",
       "      <td>511.695892</td>\n",
       "      <td>12033.718750</td>\n",
       "      <td>10297.985352</td>\n",
       "    </tr>\n",
       "  </tbody>\n",
       "</table>\n",
       "</div>"
      ],
      "text/plain": [
       "            nphotons        sigma_x        sigma_y        sigma_z  \\\n",
       "count  600000.000000  600000.000000  600000.000000  600000.000000   \n",
       "mean     5230.885438       0.054990       0.065291      51.791564   \n",
       "std      7676.040465       0.036977       0.043759      35.367183   \n",
       "min       500.000000       0.003493       0.003852       2.955715   \n",
       "25%       664.000000       0.014367       0.019590      13.248857   \n",
       "50%      1125.000000       0.060857       0.066356      55.316990   \n",
       "75%      8833.000000       0.083618       0.099500      78.232935   \n",
       "max    114269.000000       0.249763       0.248705     246.504898   \n",
       "\n",
       "              offset            amp           chi2  \n",
       "count  600000.000000  600000.000000  600000.000000  \n",
       "mean       46.584478     502.148625     566.552945  \n",
       "std        19.822368     743.828376     596.173199  \n",
       "min         0.006650      50.000080      83.454880  \n",
       "25%        31.906822      65.480406     203.879444  \n",
       "50%        43.821569     110.677330     356.539169  \n",
       "75%        53.791242     852.451401     743.720383  \n",
       "max       511.695892   12033.718750   10297.985352  "
      ]
     },
     "execution_count": 143,
     "metadata": {},
     "output_type": "execute_result"
    }
   ],
   "source": [
    "X.describe()"
   ]
  },
  {
   "cell_type": "markdown",
   "metadata": {},
   "source": [
    "Correlation"
   ]
  },
  {
   "cell_type": "code",
   "execution_count": 144,
   "metadata": {},
   "outputs": [
    {
     "data": {
      "text/html": [
       "<div>\n",
       "<style scoped>\n",
       "    .dataframe tbody tr th:only-of-type {\n",
       "        vertical-align: middle;\n",
       "    }\n",
       "\n",
       "    .dataframe tbody tr th {\n",
       "        vertical-align: top;\n",
       "    }\n",
       "\n",
       "    .dataframe thead th {\n",
       "        text-align: right;\n",
       "    }\n",
       "</style>\n",
       "<table border=\"1\" class=\"dataframe\">\n",
       "  <thead>\n",
       "    <tr style=\"text-align: right;\">\n",
       "      <th></th>\n",
       "      <th>nphotons</th>\n",
       "      <th>sigma_x</th>\n",
       "      <th>sigma_y</th>\n",
       "      <th>sigma_z</th>\n",
       "      <th>offset</th>\n",
       "      <th>amp</th>\n",
       "      <th>chi2</th>\n",
       "    </tr>\n",
       "  </thead>\n",
       "  <tbody>\n",
       "    <tr>\n",
       "      <th>nphotons</th>\n",
       "      <td>1.000000</td>\n",
       "      <td>-0.675072</td>\n",
       "      <td>-0.654934</td>\n",
       "      <td>-0.659092</td>\n",
       "      <td>0.677235</td>\n",
       "      <td>0.987815</td>\n",
       "      <td>0.899265</td>\n",
       "    </tr>\n",
       "    <tr>\n",
       "      <th>sigma_x</th>\n",
       "      <td>-0.675072</td>\n",
       "      <td>1.000000</td>\n",
       "      <td>0.841006</td>\n",
       "      <td>0.949682</td>\n",
       "      <td>-0.386932</td>\n",
       "      <td>-0.667188</td>\n",
       "      <td>-0.571736</td>\n",
       "    </tr>\n",
       "    <tr>\n",
       "      <th>sigma_y</th>\n",
       "      <td>-0.654934</td>\n",
       "      <td>0.841006</td>\n",
       "      <td>1.000000</td>\n",
       "      <td>0.904465</td>\n",
       "      <td>-0.401427</td>\n",
       "      <td>-0.655001</td>\n",
       "      <td>-0.579353</td>\n",
       "    </tr>\n",
       "    <tr>\n",
       "      <th>sigma_z</th>\n",
       "      <td>-0.659092</td>\n",
       "      <td>0.949682</td>\n",
       "      <td>0.904465</td>\n",
       "      <td>1.000000</td>\n",
       "      <td>-0.348163</td>\n",
       "      <td>-0.660407</td>\n",
       "      <td>-0.548419</td>\n",
       "    </tr>\n",
       "    <tr>\n",
       "      <th>offset</th>\n",
       "      <td>0.677235</td>\n",
       "      <td>-0.386932</td>\n",
       "      <td>-0.401427</td>\n",
       "      <td>-0.348163</td>\n",
       "      <td>1.000000</td>\n",
       "      <td>0.665127</td>\n",
       "      <td>0.765688</td>\n",
       "    </tr>\n",
       "    <tr>\n",
       "      <th>amp</th>\n",
       "      <td>0.987815</td>\n",
       "      <td>-0.667188</td>\n",
       "      <td>-0.655001</td>\n",
       "      <td>-0.660407</td>\n",
       "      <td>0.665127</td>\n",
       "      <td>1.000000</td>\n",
       "      <td>0.870322</td>\n",
       "    </tr>\n",
       "    <tr>\n",
       "      <th>chi2</th>\n",
       "      <td>0.899265</td>\n",
       "      <td>-0.571736</td>\n",
       "      <td>-0.579353</td>\n",
       "      <td>-0.548419</td>\n",
       "      <td>0.765688</td>\n",
       "      <td>0.870322</td>\n",
       "      <td>1.000000</td>\n",
       "    </tr>\n",
       "  </tbody>\n",
       "</table>\n",
       "</div>"
      ],
      "text/plain": [
       "          nphotons   sigma_x   sigma_y   sigma_z    offset       amp      chi2\n",
       "nphotons  1.000000 -0.675072 -0.654934 -0.659092  0.677235  0.987815  0.899265\n",
       "sigma_x  -0.675072  1.000000  0.841006  0.949682 -0.386932 -0.667188 -0.571736\n",
       "sigma_y  -0.654934  0.841006  1.000000  0.904465 -0.401427 -0.655001 -0.579353\n",
       "sigma_z  -0.659092  0.949682  0.904465  1.000000 -0.348163 -0.660407 -0.548419\n",
       "offset    0.677235 -0.386932 -0.401427 -0.348163  1.000000  0.665127  0.765688\n",
       "amp       0.987815 -0.667188 -0.655001 -0.660407  0.665127  1.000000  0.870322\n",
       "chi2      0.899265 -0.571736 -0.579353 -0.548419  0.765688  0.870322  1.000000"
      ]
     },
     "execution_count": 144,
     "metadata": {},
     "output_type": "execute_result"
    }
   ],
   "source": [
    "X.corr()"
   ]
  },
  {
   "cell_type": "markdown",
   "metadata": {},
   "source": [
    "Counts of good vs. bad"
   ]
  },
  {
   "cell_type": "code",
   "execution_count": 145,
   "metadata": {},
   "outputs": [
    {
     "data": {
      "text/plain": [
       "1    300000\n",
       "0    300000\n",
       "Name: good, dtype: int64"
      ]
     },
     "execution_count": 145,
     "metadata": {},
     "output_type": "execute_result"
    }
   ],
   "source": [
    "y.value_counts()"
   ]
  },
  {
   "cell_type": "markdown",
   "metadata": {},
   "source": [
    "Check no missing values"
   ]
  },
  {
   "cell_type": "code",
   "execution_count": 146,
   "metadata": {},
   "outputs": [],
   "source": [
    "assert X.isnull().values.ravel().sum() == 0"
   ]
  },
  {
   "cell_type": "markdown",
   "metadata": {},
   "source": [
    "### Visualize"
   ]
  },
  {
   "cell_type": "code",
   "execution_count": 170,
   "metadata": {},
   "outputs": [
    {
     "name": "stdout",
     "output_type": "stream",
     "text": [
      "Wall time: 17min 17s\n"
     ]
    }
   ],
   "source": [
    "%%time\n",
    "\n",
    "n_components = 3\n",
    "tsne_sample_size = 5000\n",
    "xx = X.head(tsne_sample_size)\n",
    "# shouldn't this also be y.head(tsne_sample_size)???\n",
    "yy = y[:tsne_sample_size]\n",
    "tsne = manifold.TSNE(n_components=n_components, init='pca', random_state=0,)\n",
    "zz = tsne.fit_transform(xx)"
   ]
  },
  {
   "cell_type": "code",
   "execution_count": 148,
   "metadata": {},
   "outputs": [
    {
     "data": {
      "image/png": "[encoded data removed]",
      "text/plain": [
       "<Figure size 432x288 with 1 Axes>"
      ]
     },
     "metadata": {},
     "output_type": "display_data"
    }
   ],
   "source": [
    "fig, ax = plt.subplots()\n",
    "ax.scatter(zz[yy == 1, 0], zz[yy == 1, 1], s=2, c='b', alpha=0.5, label='good')\n",
    "ax.scatter(zz[yy == 0, 0], zz[yy == 0, 1], s=2, c='r', alpha=0.5, label='bad')\n",
    "ax.xaxis.set_major_formatter(NullFormatter())\n",
    "ax.yaxis.set_major_formatter(NullFormatter()) \n",
    "plt.legend()\n",
    "plt.show()"
   ]
  },
  {
   "cell_type": "markdown",
   "metadata": {},
   "source": [
    "### Models"
   ]
  },
  {
   "cell_type": "markdown",
   "metadata": {},
   "source": [
    "Train/test split"
   ]
  },
  {
   "cell_type": "code",
   "execution_count": 149,
   "metadata": {},
   "outputs": [],
   "source": [
    "from sklearn.model_selection import train_test_split\n",
    "\n",
    "X_train, X_test, y_train, y_test = train_test_split(X, y, test_size=0.2, random_state=random_seed)"
   ]
  },
  {
   "cell_type": "code",
   "execution_count": 150,
   "metadata": {},
   "outputs": [
    {
     "data": {
      "text/plain": [
       "((480000, 7), (480000,))"
      ]
     },
     "execution_count": 150,
     "metadata": {},
     "output_type": "execute_result"
    }
   ],
   "source": [
    "X_train.shape, y_train.shape"
   ]
  },
  {
   "cell_type": "code",
   "execution_count": 151,
   "metadata": {},
   "outputs": [
    {
     "data": {
      "text/plain": [
       "((120000, 7), (120000,))"
      ]
     },
     "execution_count": 151,
     "metadata": {},
     "output_type": "execute_result"
    }
   ],
   "source": [
    "X_test.shape, y_test.shape"
   ]
  },
  {
   "cell_type": "code",
   "execution_count": 152,
   "metadata": {},
   "outputs": [],
   "source": [
    "from sklearn.metrics import *\n",
    "from sklearn.metrics.classification import *\n",
    "\n",
    "def evaluate_preds(y_hat):\n",
    "    return pd.Series({\n",
    "        'precision': precision_score(y_test, y_hat), # true positives\n",
    "        'recall': recall_score(y_test, y_hat), # of all good ones\n",
    "        'f1': f1_score(y_test, y_hat),\n",
    "        'accuracy': accuracy_score(y_test, y_hat),\n",
    "        'roc_auc': roc_auc_score(y_test, y_hat)\n",
    "    })\n",
    "\n",
    "def evaluate(clf):\n",
    "    y_hat = %time clf.predict(X_test)\n",
    "    return evaluate_preds(y_hat)\n",
    "\n",
    "def feature_importances(clf):\n",
    "    pd.Series(dict(zip(X.columns, clf.feature_importances_))).sort_index().plot.bar()\n",
    "    plt.show()"
   ]
  },
  {
   "cell_type": "markdown",
   "metadata": {},
   "source": [
    "#### K Nearest Neighbors"
   ]
  },
  {
   "cell_type": "code",
   "execution_count": 153,
   "metadata": {},
   "outputs": [
    {
     "name": "stdout",
     "output_type": "stream",
     "text": [
      "Wall time: 1.93 s\n"
     ]
    }
   ],
   "source": [
    "%%time\n",
    "from sklearn.neighbors import KNeighborsClassifier\n",
    "\n",
    "knn = KNeighborsClassifier(n_neighbors=5)\n",
    "knn.fit(X_train, y_train)"
   ]
  },
  {
   "cell_type": "code",
   "execution_count": 154,
   "metadata": {},
   "outputs": [
    {
     "name": "stdout",
     "output_type": "stream",
     "text": [
      "Wall time: 3.41 s\n"
     ]
    },
    {
     "data": {
      "text/plain": [
       "accuracy     0.983875\n",
       "f1           0.983929\n",
       "precision    0.979414\n",
       "recall       0.988485\n",
       "roc_auc      0.983881\n",
       "dtype: float64"
      ]
     },
     "execution_count": 154,
     "metadata": {},
     "output_type": "execute_result"
    }
   ],
   "source": [
    "evaluate(knn)"
   ]
  },
  {
   "cell_type": "code",
   "execution_count": 155,
   "metadata": {},
   "outputs": [
    {
     "name": "stdout",
     "output_type": "stream",
     "text": [
      "Wall time: 5.59 s\n",
      "Wall time: 10.1 s\n"
     ]
    }
   ],
   "source": [
    "%time knn_bad = knn.predict(bad[feature_cols])\n",
    "%time knn_good = knn.predict(good[feature_cols])"
   ]
  },
  {
   "cell_type": "markdown",
   "metadata": {},
   "source": [
    "#### Random forest"
   ]
  },
  {
   "cell_type": "code",
   "execution_count": 180,
   "metadata": {},
   "outputs": [
    {
     "name": "stdout",
     "output_type": "stream",
     "text": [
      "Wall time: 3.47 s\n"
     ]
    }
   ],
   "source": [
    "%%time\n",
    "from sklearn.ensemble import RandomForestClassifier\n",
    "\n",
    "rf = RandomForestClassifier(n_jobs=-1)\n",
    "rf.fit(X_train, y_train)"
   ]
  },
  {
   "cell_type": "code",
   "execution_count": 181,
   "metadata": {},
   "outputs": [
    {
     "name": "stdout",
     "output_type": "stream",
     "text": [
      "Wall time: 3.41 s\n"
     ]
    },
    {
     "data": {
      "text/plain": [
       "array([0, 0, 1, ..., 1, 1, 1], dtype=int64)"
      ]
     },
     "execution_count": 181,
     "metadata": {},
     "output_type": "execute_result"
    }
   ],
   "source": [
    "%time rf.predict(mixed_data[feature_cols]);"
   ]
  },
  {
   "cell_type": "code",
   "execution_count": 182,
   "metadata": {},
   "outputs": [
    {
     "name": "stdout",
     "output_type": "stream",
     "text": [
      "<class 'pandas.core.frame.DataFrame'>\n",
      "Int64Index: 6177320 entries, 3 to 9816139\n",
      "Data columns (total 11 columns):\n",
      "frame       int64\n",
      "x0          float64\n",
      "y0          float64\n",
      "nphotons    float64\n",
      "sigma_x     float64\n",
      "sigma_y     float64\n",
      "sigma_z     float64\n",
      "z0          float64\n",
      "offset      float64\n",
      "amp         float64\n",
      "chi2        float64\n",
      "dtypes: float64(10), int64(1)\n",
      "memory usage: 565.6 MB\n"
     ]
    }
   ],
   "source": [
    "mixed_data.info()"
   ]
  },
  {
   "cell_type": "code",
   "execution_count": 157,
   "metadata": {},
   "outputs": [
    {
     "name": "stdout",
     "output_type": "stream",
     "text": [
      "Wall time: 211 ms\n"
     ]
    },
    {
     "data": {
      "text/plain": [
       "accuracy     0.986708\n",
       "f1           0.986744\n",
       "precision    0.982880\n",
       "recall       0.990638\n",
       "roc_auc      0.986713\n",
       "dtype: float64"
      ]
     },
     "execution_count": 157,
     "metadata": {},
     "output_type": "execute_result"
    }
   ],
   "source": [
    "evaluate(rf)"
   ]
  },
  {
   "cell_type": "code",
   "execution_count": 158,
   "metadata": {},
   "outputs": [
    {
     "data": {
      "image/png": "[encoded data removed]",
      "text/plain": [
       "<Figure size 432x288 with 1 Axes>"
      ]
     },
     "metadata": {},
     "output_type": "display_data"
    }
   ],
   "source": [
    "feature_importances(rf)"
   ]
  },
  {
   "cell_type": "markdown",
   "metadata": {},
   "source": [
    "### Naive Bayes"
   ]
  },
  {
   "cell_type": "code",
   "execution_count": 159,
   "metadata": {},
   "outputs": [
    {
     "name": "stdout",
     "output_type": "stream",
     "text": [
      "Wall time: 184 ms\n"
     ]
    }
   ],
   "source": [
    "%%time\n",
    "from sklearn.naive_bayes import GaussianNB\n",
    "\n",
    "nb = GaussianNB()\n",
    "nb.fit(X_train, y_train)"
   ]
  },
  {
   "cell_type": "code",
   "execution_count": 160,
   "metadata": {},
   "outputs": [
    {
     "name": "stdout",
     "output_type": "stream",
     "text": [
      "Wall time: 53 ms\n"
     ]
    },
    {
     "data": {
      "text/plain": [
       "accuracy     0.958992\n",
       "f1           0.959508\n",
       "precision    0.946402\n",
       "recall       0.972982\n",
       "roc_auc      0.959009\n",
       "dtype: float64"
      ]
     },
     "execution_count": 160,
     "metadata": {},
     "output_type": "execute_result"
    }
   ],
   "source": [
    "evaluate(nb)"
   ]
  },
  {
   "cell_type": "markdown",
   "metadata": {},
   "source": [
    "### XGBoost"
   ]
  },
  {
   "cell_type": "code",
   "execution_count": 161,
   "metadata": {},
   "outputs": [
    {
     "name": "stdout",
     "output_type": "stream",
     "text": [
      "Wall time: 26.3 s\n"
     ]
    }
   ],
   "source": [
    "%%time\n",
    "from xgboost import XGBClassifier\n",
    "\n",
    "xgb = XGBClassifier(max_depth=5, n_estimators=100, nthread=16)\n",
    "xgb.fit(X_train, y_train)"
   ]
  },
  {
   "cell_type": "code",
   "execution_count": 162,
   "metadata": {},
   "outputs": [
    {
     "name": "stderr",
     "output_type": "stream",
     "text": [
      "C:\\Users\\hoffmand\\AppData\\Local\\Continuum\\Anaconda3\\lib\\site-packages\\sklearn\\preprocessing\\label.py:151: DeprecationWarning: The truth value of an empty array is ambiguous. Returning False, but in future this will result in an error. Use `array.size > 0` to check that an array is not empty.\n",
      "  if diff:\n"
     ]
    },
    {
     "name": "stdout",
     "output_type": "stream",
     "text": [
      "Wall time: 410 ms\n"
     ]
    },
    {
     "data": {
      "text/plain": [
       "accuracy     0.986758\n",
       "f1           0.986822\n",
       "precision    0.980891\n",
       "recall       0.992824\n",
       "roc_auc      0.986766\n",
       "dtype: float64"
      ]
     },
     "execution_count": 162,
     "metadata": {},
     "output_type": "execute_result"
    }
   ],
   "source": [
    "evaluate(xgb)"
   ]
  },
  {
   "cell_type": "code",
   "execution_count": 163,
   "metadata": {},
   "outputs": [
    {
     "data": {
      "image/png": "[encoded data removed]",
      "text/plain": [
       "<Figure size 432x288 with 1 Axes>"
      ]
     },
     "metadata": {},
     "output_type": "display_data"
    }
   ],
   "source": [
    "feature_importances(xgb)"
   ]
  },
  {
   "cell_type": "markdown",
   "metadata": {},
   "source": [
    "#### Logistic regression\n",
    "\n",
    "(This does amazingly well for a fast-to-train linear model.)"
   ]
  },
  {
   "cell_type": "code",
   "execution_count": 164,
   "metadata": {},
   "outputs": [
    {
     "name": "stdout",
     "output_type": "stream",
     "text": [
      "Wall time: 13.3 s\n"
     ]
    }
   ],
   "source": [
    "%%time\n",
    "from sklearn.linear_model import LogisticRegressionCV\n",
    "\n",
    "lr = LogisticRegressionCV(n_jobs=16)\n",
    "lr.fit(X_train, y_train)"
   ]
  },
  {
   "cell_type": "code",
   "execution_count": 165,
   "metadata": {},
   "outputs": [
    {
     "name": "stdout",
     "output_type": "stream",
     "text": [
      "Wall time: 4 ms\n"
     ]
    },
    {
     "data": {
      "text/plain": [
       "accuracy     0.972925\n",
       "f1           0.973154\n",
       "precision    0.963781\n",
       "recall       0.982711\n",
       "roc_auc      0.972937\n",
       "dtype: float64"
      ]
     },
     "execution_count": 165,
     "metadata": {},
     "output_type": "execute_result"
    }
   ],
   "source": [
    "evaluate(lr)"
   ]
  },
  {
   "cell_type": "markdown",
   "metadata": {},
   "source": [
    "#### Big guns: TPOT"
   ]
  },
  {
   "cell_type": "code",
   "execution_count": 28,
   "metadata": {},
   "outputs": [
    {
     "name": "stderr",
     "output_type": "stream",
     "text": [
      "                                                                                                                       \r"
     ]
    },
    {
     "name": "stdout",
     "output_type": "stream",
     "text": [
      "\n"
     ]
    },
    {
     "name": "stderr",
     "output_type": "stream",
     "text": [
      "                                                                                                                       \r"
     ]
    },
    {
     "name": "stdout",
     "output_type": "stream",
     "text": [
      "306.49047171666666 minutes have elapsed. TPOT will close down.\n",
      "TPOT closed prematurely. Will use the current best pipeline.\n"
     ]
    },
    {
     "name": "stderr",
     "output_type": "stream",
     "text": [
      "                                                                                                                       \r"
     ]
    },
    {
     "name": "stdout",
     "output_type": "stream",
     "text": [
      "\n",
      "Best pipeline: ExtraTreesClassifier(ZeroCount(input_matrix), bootstrap=False, criterion=entropy, max_features=0.15000000000000002, min_samples_leaf=1, min_samples_split=19, n_estimators=100)\n"
     ]
    },
    {
     "data": {
      "text/plain": [
       "TPOTClassifier(config_dict={'sklearn.naive_bayes.GaussianNB': {}, 'sklearn.naive_bayes.BernoulliNB': {'alpha': [0.001, 0.01, 0.1, 1.0, 10.0, 100.0], 'fit_prior': [True, False]}, 'sklearn.naive_bayes.MultinomialNB': {'alpha': [0.001, 0.01, 0.1, 1.0, 10.0, 100.0], 'fit_prior': [True, False]}, 'sklearn.tree.DecisionT....3 , 0.35, 0.4 , 0.45, 0.5 , 0.55,\n",
       "       0.6 , 0.65, 0.7 , 0.75, 0.8 , 0.85, 0.9 , 0.95, 1.  ])}}}},\n",
       "        crossover_rate=0.1, cv=5, disable_update_check=False,\n",
       "        early_stop=None, generations=1000000, max_eval_time_mins=5,\n",
       "        max_time_mins=150, memory=None, mutation_rate=0.9, n_jobs=24,\n",
       "        offspring_size=50, periodic_checkpoint_folder=None,\n",
       "        population_size=50, random_state=None, scoring=None, subsample=1.0,\n",
       "        verbosity=2, warm_start=False)"
      ]
     },
     "execution_count": 28,
     "metadata": {},
     "output_type": "execute_result"
    }
   ],
   "source": [
    "from tpot import TPOTClassifier\n",
    "\n",
    "tp = TPOTClassifier(generations=5, max_time_mins=150, population_size=50, n_jobs=24, verbosity=2)\n",
    "tp.fit(X_train, y_train)"
   ]
  },
  {
   "cell_type": "markdown",
   "metadata": {},
   "source": [
    "Turns out TPOT ended up with just a XGBoost classifier with a Robust Scaler for the inputs before they go in."
   ]
  },
  {
   "cell_type": "code",
   "execution_count": 29,
   "metadata": {},
   "outputs": [
    {
     "data": {
      "text/plain": [
       "True"
      ]
     },
     "execution_count": 29,
     "metadata": {},
     "output_type": "execute_result"
    }
   ],
   "source": [
    "tp.export('tpot_pipeline_dph.py')"
   ]
  },
  {
   "cell_type": "code",
   "execution_count": null,
   "metadata": {},
   "outputs": [],
   "source": [
    "# %load tpot_pipeline_dph.py\n",
    "import numpy as np\n",
    "import pandas as pd\n",
    "from sklearn.ensemble import ExtraTreesClassifier\n",
    "from sklearn.model_selection import train_test_split\n",
    "from sklearn.pipeline import make_pipeline\n",
    "from tpot.builtins import ZeroCount\n",
    "\n",
    "# NOTE: Make sure that the class is labeled 'target' in the data file\n",
    "tpot_data = pd.read_csv('PATH/TO/DATA/FILE', sep='COLUMN_SEPARATOR', dtype=np.float64)\n",
    "features = tpot_data.drop('target', axis=1).values\n",
    "training_features, testing_features, training_target, testing_target = \\\n",
    "            train_test_split(features, tpot_data['target'].values, random_state=42)\n",
    "\n",
    "# Score on the training set was:0.9860291666666667\n",
    "exported_pipeline = make_pipeline(\n",
    "    ZeroCount(),\n",
    "    ExtraTreesClassifier(bootstrap=False, criterion=\"entropy\", max_features=0.15000000000000002, min_samples_leaf=1, min_samples_split=19, n_estimators=100)\n",
    ")\n",
    "\n",
    "exported_pipeline.fit(training_features, training_target)\n",
    "results = exported_pipeline.predict(testing_features)\n"
   ]
  },
  {
   "cell_type": "code",
   "execution_count": 30,
   "metadata": {},
   "outputs": [
    {
     "name": "stdout",
     "output_type": "stream",
     "text": [
      "Wall time: 2.71 s\n"
     ]
    },
    {
     "data": {
      "text/plain": [
       "accuracy     0.986508\n",
       "f1           0.986558\n",
       "precision    0.979201\n",
       "recall       0.994027\n",
       "roc_auc      0.986537\n",
       "dtype: float64"
      ]
     },
     "execution_count": 30,
     "metadata": {},
     "output_type": "execute_result"
    }
   ],
   "source": [
    "evaluate(tp)"
   ]
  },
  {
   "cell_type": "code",
   "execution_count": 31,
   "metadata": {},
   "outputs": [
    {
     "data": {
      "image/png": "[encoded data removed]",
      "text/plain": [
       "<Figure size 432x288 with 1 Axes>"
      ]
     },
     "metadata": {},
     "output_type": "display_data"
    }
   ],
   "source": [
    "feature_importances(tp.fitted_pipeline_.steps[-1][1])"
   ]
  },
  {
   "cell_type": "markdown",
   "metadata": {},
   "source": [
    "<hr>"
   ]
  },
  {
   "cell_type": "markdown",
   "metadata": {},
   "source": [
    "## Voting classifier (ensemble of above)"
   ]
  },
  {
   "cell_type": "code",
   "execution_count": 32,
   "metadata": {},
   "outputs": [],
   "source": [
    "from sklearn.ensemble import VotingClassifier\n",
    "\n",
    "estimators = [\n",
    "    ('rf', rf),\n",
    "    ('lr', lr),\n",
    "    ('knn', knn),\n",
    "    ('nb', nb),\n",
    "    ('xgb', tp),\n",
    "]\n",
    "\n",
    "predictions = (pd.DataFrame({name: model.predict(X_test) for name, model in estimators})\n",
    "               .assign(vote_ratio=lambda x: x.sum(axis=1) / len(estimators))\n",
    "               .assign(y_hat=lambda x: (x.vote_ratio > 0.5).astype(np.int)))"
   ]
  },
  {
   "cell_type": "code",
   "execution_count": 33,
   "metadata": {},
   "outputs": [
    {
     "data": {
      "text/html": [
       "<div>\n",
       "<style scoped>\n",
       "    .dataframe tbody tr th:only-of-type {\n",
       "        vertical-align: middle;\n",
       "    }\n",
       "\n",
       "    .dataframe tbody tr th {\n",
       "        vertical-align: top;\n",
       "    }\n",
       "\n",
       "    .dataframe thead th {\n",
       "        text-align: right;\n",
       "    }\n",
       "</style>\n",
       "<table border=\"1\" class=\"dataframe\">\n",
       "  <thead>\n",
       "    <tr style=\"text-align: right;\">\n",
       "      <th></th>\n",
       "      <th>knn</th>\n",
       "      <th>lr</th>\n",
       "      <th>nb</th>\n",
       "      <th>rf</th>\n",
       "      <th>xgb</th>\n",
       "      <th>vote_ratio</th>\n",
       "      <th>y_hat</th>\n",
       "    </tr>\n",
       "  </thead>\n",
       "  <tbody>\n",
       "    <tr>\n",
       "      <th>0</th>\n",
       "      <td>1</td>\n",
       "      <td>1</td>\n",
       "      <td>1</td>\n",
       "      <td>1</td>\n",
       "      <td>1</td>\n",
       "      <td>1.0</td>\n",
       "      <td>1</td>\n",
       "    </tr>\n",
       "    <tr>\n",
       "      <th>1</th>\n",
       "      <td>0</td>\n",
       "      <td>0</td>\n",
       "      <td>0</td>\n",
       "      <td>0</td>\n",
       "      <td>0</td>\n",
       "      <td>0.0</td>\n",
       "      <td>0</td>\n",
       "    </tr>\n",
       "    <tr>\n",
       "      <th>2</th>\n",
       "      <td>1</td>\n",
       "      <td>1</td>\n",
       "      <td>1</td>\n",
       "      <td>1</td>\n",
       "      <td>1</td>\n",
       "      <td>1.0</td>\n",
       "      <td>1</td>\n",
       "    </tr>\n",
       "    <tr>\n",
       "      <th>3</th>\n",
       "      <td>1</td>\n",
       "      <td>1</td>\n",
       "      <td>1</td>\n",
       "      <td>1</td>\n",
       "      <td>1</td>\n",
       "      <td>1.0</td>\n",
       "      <td>1</td>\n",
       "    </tr>\n",
       "    <tr>\n",
       "      <th>4</th>\n",
       "      <td>1</td>\n",
       "      <td>1</td>\n",
       "      <td>1</td>\n",
       "      <td>1</td>\n",
       "      <td>1</td>\n",
       "      <td>1.0</td>\n",
       "      <td>1</td>\n",
       "    </tr>\n",
       "    <tr>\n",
       "      <th>5</th>\n",
       "      <td>1</td>\n",
       "      <td>1</td>\n",
       "      <td>1</td>\n",
       "      <td>1</td>\n",
       "      <td>1</td>\n",
       "      <td>1.0</td>\n",
       "      <td>1</td>\n",
       "    </tr>\n",
       "    <tr>\n",
       "      <th>6</th>\n",
       "      <td>0</td>\n",
       "      <td>0</td>\n",
       "      <td>0</td>\n",
       "      <td>0</td>\n",
       "      <td>0</td>\n",
       "      <td>0.0</td>\n",
       "      <td>0</td>\n",
       "    </tr>\n",
       "    <tr>\n",
       "      <th>7</th>\n",
       "      <td>1</td>\n",
       "      <td>1</td>\n",
       "      <td>1</td>\n",
       "      <td>1</td>\n",
       "      <td>1</td>\n",
       "      <td>1.0</td>\n",
       "      <td>1</td>\n",
       "    </tr>\n",
       "    <tr>\n",
       "      <th>8</th>\n",
       "      <td>0</td>\n",
       "      <td>0</td>\n",
       "      <td>0</td>\n",
       "      <td>0</td>\n",
       "      <td>0</td>\n",
       "      <td>0.0</td>\n",
       "      <td>0</td>\n",
       "    </tr>\n",
       "    <tr>\n",
       "      <th>9</th>\n",
       "      <td>1</td>\n",
       "      <td>1</td>\n",
       "      <td>1</td>\n",
       "      <td>1</td>\n",
       "      <td>1</td>\n",
       "      <td>1.0</td>\n",
       "      <td>1</td>\n",
       "    </tr>\n",
       "  </tbody>\n",
       "</table>\n",
       "</div>"
      ],
      "text/plain": [
       "   knn  lr  nb  rf  xgb  vote_ratio  y_hat\n",
       "0    1   1   1   1    1         1.0      1\n",
       "1    0   0   0   0    0         0.0      0\n",
       "2    1   1   1   1    1         1.0      1\n",
       "3    1   1   1   1    1         1.0      1\n",
       "4    1   1   1   1    1         1.0      1\n",
       "5    1   1   1   1    1         1.0      1\n",
       "6    0   0   0   0    0         0.0      0\n",
       "7    1   1   1   1    1         1.0      1\n",
       "8    0   0   0   0    0         0.0      0\n",
       "9    1   1   1   1    1         1.0      1"
      ]
     },
     "execution_count": 33,
     "metadata": {},
     "output_type": "execute_result"
    }
   ],
   "source": [
    "predictions.head(10)"
   ]
  },
  {
   "cell_type": "code",
   "execution_count": 92,
   "metadata": {},
   "outputs": [
    {
     "data": {
      "text/plain": [
       "<matplotlib.axes._subplots.AxesSubplot at 0x2328684f7b8>"
      ]
     },
     "execution_count": 92,
     "metadata": {},
     "output_type": "execute_result"
    },
    {
     "data": {
      "image/png": "[encoded data removed]",
      "text/plain": [
       "<Figure size 432x288 with 1 Axes>"
      ]
     },
     "metadata": {},
     "output_type": "display_data"
    }
   ],
   "source": [
    "predictions.vote_ratio.plot.hist()"
   ]
  },
  {
   "cell_type": "code",
   "execution_count": 37,
   "metadata": {},
   "outputs": [
    {
     "data": {
      "text/plain": [
       "accuracy     0.985042\n",
       "f1           0.985088\n",
       "precision    0.978349\n",
       "recall       0.991919\n",
       "roc_auc      0.985068\n",
       "dtype: float64"
      ]
     },
     "execution_count": 37,
     "metadata": {},
     "output_type": "execute_result"
    }
   ],
   "source": [
    "evaluate_preds(predictions.y_hat)"
   ]
  },
  {
   "cell_type": "code",
   "execution_count": null,
   "metadata": {},
   "outputs": [],
   "source": []
  }
 ],
 "metadata": {
  "kernelspec": {
   "display_name": "Python 3",
   "language": "python",
   "name": "python3"
  },
  "language_info": {
   "codemirror_mode": {
    "name": "ipython",
    "version": 3
   },
   "file_extension": ".py",
   "mimetype": "text/x-python",
   "name": "python",
   "nbconvert_exporter": "python",
   "pygments_lexer": "ipython3",
   "version": "3.6.4"
  }
 },
 "nbformat": 4,
 "nbformat_minor": 2
}
