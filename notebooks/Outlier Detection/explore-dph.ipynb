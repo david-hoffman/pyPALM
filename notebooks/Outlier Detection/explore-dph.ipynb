{
 "cells": [
  {
   "cell_type": "code",
   "execution_count": 1,
   "metadata": {},
   "outputs": [
    {
     "name": "stderr",
     "output_type": "stream",
     "text": [
      "C:\\Users\\hoffmand\\AppData\\Local\\Continuum\\Anaconda3\\lib\\site-packages\\h5py\\__init__.py:36: FutureWarning: Conversion of the second argument of issubdtype from `float` to `np.floating` is deprecated. In future, it will be treated as `np.float64 == np.dtype(float).type`.\n",
      "  from ._conv import register_converters as _register_converters\n"
     ]
    }
   ],
   "source": [
    "%matplotlib inline\n",
    "import h5py\n",
    "import pandas as pd\n",
    "from sklearn import manifold\n",
    "\n",
    "from matplotlib import pyplot as plt\n",
    "from matplotlib.ticker import NullFormatter\n",
    "import seaborn as sns\n",
    "sns.set()\n",
    "\n",
    "random_seed = 42"
   ]
  },
  {
   "cell_type": "code",
   "execution_count": 2,
   "metadata": {},
   "outputs": [
    {
     "name": "stdout",
     "output_type": "stream",
     "text": [
      "CPython 3.6.4\n",
      "IPython 6.2.1\n",
      "\n",
      "numpy 1.14.2\n",
      "pandas 0.22.0\n",
      "xgboost 0.7\n",
      "tpot 0.9.2\n",
      "\n",
      "compiler   : MSC v.1900 64 bit (AMD64)\n",
      "system     : Windows\n",
      "release    : 10\n",
      "machine    : AMD64\n",
      "processor  : Intel64 Family 6 Model 63 Stepping 2, GenuineIntel\n",
      "CPU cores  : 48\n",
      "interpreter: 64bit\n",
      "Git hash   : 5da2a53dd14d4c2c411e0586f87182e4240934a6\n"
     ]
    }
   ],
   "source": [
    "%load_ext watermark\n",
    "%watermark -v -m -p numpy,pandas,xgboost,tpot -g"
   ]
  },
  {
   "cell_type": "code",
   "execution_count": 3,
   "metadata": {},
   "outputs": [],
   "source": [
    "bad = (pd.read_hdf('ISMS_PALM_data_dump.h5', 'fid_data')\n",
    "       .assign(good=0)\n",
    "       .sample(n=300000, random_state=random_seed))\n",
    "       \n",
    "good = (pd.read_hdf('ISMS_PALM_data_dump.h5', 'good_data')\n",
    "        .assign(good=1)\n",
    "        .sample(n=300000, random_state=random_seed))\n",
    "\n",
    "df = pd.concat([bad, good]).sample(frac=1.0)  # put them together and then shuffle\n",
    "\n",
    "feature_cols = ['nphotons', 'sigma_x', 'sigma_y', 'sigma_z', 'offset', 'amp', 'chi2']\n",
    "X = df.loc[:, feature_cols]\n",
    "y = df.good"
   ]
  },
  {
   "cell_type": "code",
   "execution_count": 4,
   "metadata": {},
   "outputs": [
    {
     "data": {
      "text/html": [
       "<div>\n",
       "<style scoped>\n",
       "    .dataframe tbody tr th:only-of-type {\n",
       "        vertical-align: middle;\n",
       "    }\n",
       "\n",
       "    .dataframe tbody tr th {\n",
       "        vertical-align: top;\n",
       "    }\n",
       "\n",
       "    .dataframe thead th {\n",
       "        text-align: right;\n",
       "    }\n",
       "</style>\n",
       "<table border=\"1\" class=\"dataframe\">\n",
       "  <thead>\n",
       "    <tr style=\"text-align: right;\">\n",
       "      <th></th>\n",
       "      <th>nphotons</th>\n",
       "      <th>sigma_x</th>\n",
       "      <th>sigma_y</th>\n",
       "      <th>sigma_z</th>\n",
       "      <th>offset</th>\n",
       "      <th>amp</th>\n",
       "      <th>chi2</th>\n",
       "    </tr>\n",
       "  </thead>\n",
       "  <tbody>\n",
       "    <tr>\n",
       "      <th>10171664</th>\n",
       "      <td>599.0</td>\n",
       "      <td>0.084915</td>\n",
       "      <td>0.116051</td>\n",
       "      <td>77.363274</td>\n",
       "      <td>32.910500</td>\n",
       "      <td>61.489372</td>\n",
       "      <td>160.547760</td>\n",
       "    </tr>\n",
       "    <tr>\n",
       "      <th>2282420</th>\n",
       "      <td>4230.0</td>\n",
       "      <td>0.036085</td>\n",
       "      <td>0.026316</td>\n",
       "      <td>31.486397</td>\n",
       "      <td>62.446556</td>\n",
       "      <td>363.757782</td>\n",
       "      <td>1283.379639</td>\n",
       "    </tr>\n",
       "    <tr>\n",
       "      <th>5895232</th>\n",
       "      <td>762.0</td>\n",
       "      <td>0.085784</td>\n",
       "      <td>0.073886</td>\n",
       "      <td>67.914406</td>\n",
       "      <td>33.978451</td>\n",
       "      <td>79.084106</td>\n",
       "      <td>152.731842</td>\n",
       "    </tr>\n",
       "    <tr>\n",
       "      <th>13677383</th>\n",
       "      <td>10122.0</td>\n",
       "      <td>0.012575</td>\n",
       "      <td>0.016207</td>\n",
       "      <td>10.149652</td>\n",
       "      <td>49.672535</td>\n",
       "      <td>1068.892944</td>\n",
       "      <td>818.619202</td>\n",
       "    </tr>\n",
       "    <tr>\n",
       "      <th>8607277</th>\n",
       "      <td>626.0</td>\n",
       "      <td>0.076350</td>\n",
       "      <td>0.117744</td>\n",
       "      <td>77.186867</td>\n",
       "      <td>30.704117</td>\n",
       "      <td>61.740345</td>\n",
       "      <td>198.985779</td>\n",
       "    </tr>\n",
       "    <tr>\n",
       "      <th>13103212</th>\n",
       "      <td>706.0</td>\n",
       "      <td>0.080225</td>\n",
       "      <td>0.082804</td>\n",
       "      <td>65.455002</td>\n",
       "      <td>33.032013</td>\n",
       "      <td>76.149361</td>\n",
       "      <td>228.181595</td>\n",
       "    </tr>\n",
       "    <tr>\n",
       "      <th>11867560</th>\n",
       "      <td>578.0</td>\n",
       "      <td>0.080500</td>\n",
       "      <td>0.124981</td>\n",
       "      <td>79.733849</td>\n",
       "      <td>27.434507</td>\n",
       "      <td>55.851589</td>\n",
       "      <td>234.121964</td>\n",
       "    </tr>\n",
       "    <tr>\n",
       "      <th>12767266</th>\n",
       "      <td>550.0</td>\n",
       "      <td>0.094108</td>\n",
       "      <td>0.099086</td>\n",
       "      <td>77.454643</td>\n",
       "      <td>28.296879</td>\n",
       "      <td>59.577602</td>\n",
       "      <td>193.280136</td>\n",
       "    </tr>\n",
       "    <tr>\n",
       "      <th>10191171</th>\n",
       "      <td>7948.0</td>\n",
       "      <td>0.014178</td>\n",
       "      <td>0.026703</td>\n",
       "      <td>17.339472</td>\n",
       "      <td>42.142021</td>\n",
       "      <td>657.659546</td>\n",
       "      <td>758.617981</td>\n",
       "    </tr>\n",
       "    <tr>\n",
       "      <th>6372381</th>\n",
       "      <td>12671.0</td>\n",
       "      <td>0.011474</td>\n",
       "      <td>0.013651</td>\n",
       "      <td>8.856322</td>\n",
       "      <td>55.088314</td>\n",
       "      <td>1360.998535</td>\n",
       "      <td>939.292847</td>\n",
       "    </tr>\n",
       "  </tbody>\n",
       "</table>\n",
       "</div>"
      ],
      "text/plain": [
       "          nphotons   sigma_x   sigma_y    sigma_z     offset          amp  \\\n",
       "10171664     599.0  0.084915  0.116051  77.363274  32.910500    61.489372   \n",
       "2282420     4230.0  0.036085  0.026316  31.486397  62.446556   363.757782   \n",
       "5895232      762.0  0.085784  0.073886  67.914406  33.978451    79.084106   \n",
       "13677383   10122.0  0.012575  0.016207  10.149652  49.672535  1068.892944   \n",
       "8607277      626.0  0.076350  0.117744  77.186867  30.704117    61.740345   \n",
       "13103212     706.0  0.080225  0.082804  65.455002  33.032013    76.149361   \n",
       "11867560     578.0  0.080500  0.124981  79.733849  27.434507    55.851589   \n",
       "12767266     550.0  0.094108  0.099086  77.454643  28.296879    59.577602   \n",
       "10191171    7948.0  0.014178  0.026703  17.339472  42.142021   657.659546   \n",
       "6372381    12671.0  0.011474  0.013651   8.856322  55.088314  1360.998535   \n",
       "\n",
       "                 chi2  \n",
       "10171664   160.547760  \n",
       "2282420   1283.379639  \n",
       "5895232    152.731842  \n",
       "13677383   818.619202  \n",
       "8607277    198.985779  \n",
       "13103212   228.181595  \n",
       "11867560   234.121964  \n",
       "12767266   193.280136  \n",
       "10191171   758.617981  \n",
       "6372381    939.292847  "
      ]
     },
     "execution_count": 4,
     "metadata": {},
     "output_type": "execute_result"
    }
   ],
   "source": [
    "X.head(10)"
   ]
  },
  {
   "cell_type": "markdown",
   "metadata": {},
   "source": [
    "Summary stats"
   ]
  },
  {
   "cell_type": "code",
   "execution_count": 5,
   "metadata": {},
   "outputs": [
    {
     "data": {
      "text/html": [
       "<div>\n",
       "<style scoped>\n",
       "    .dataframe tbody tr th:only-of-type {\n",
       "        vertical-align: middle;\n",
       "    }\n",
       "\n",
       "    .dataframe tbody tr th {\n",
       "        vertical-align: top;\n",
       "    }\n",
       "\n",
       "    .dataframe thead th {\n",
       "        text-align: right;\n",
       "    }\n",
       "</style>\n",
       "<table border=\"1\" class=\"dataframe\">\n",
       "  <thead>\n",
       "    <tr style=\"text-align: right;\">\n",
       "      <th></th>\n",
       "      <th>nphotons</th>\n",
       "      <th>sigma_x</th>\n",
       "      <th>sigma_y</th>\n",
       "      <th>sigma_z</th>\n",
       "      <th>offset</th>\n",
       "      <th>amp</th>\n",
       "      <th>chi2</th>\n",
       "    </tr>\n",
       "  </thead>\n",
       "  <tbody>\n",
       "    <tr>\n",
       "      <th>count</th>\n",
       "      <td>600000.000000</td>\n",
       "      <td>600000.000000</td>\n",
       "      <td>600000.000000</td>\n",
       "      <td>600000.000000</td>\n",
       "      <td>600000.000000</td>\n",
       "      <td>600000.000000</td>\n",
       "      <td>600000.000000</td>\n",
       "    </tr>\n",
       "    <tr>\n",
       "      <th>mean</th>\n",
       "      <td>5230.885438</td>\n",
       "      <td>0.054990</td>\n",
       "      <td>0.065291</td>\n",
       "      <td>51.791564</td>\n",
       "      <td>46.584478</td>\n",
       "      <td>502.148625</td>\n",
       "      <td>566.552945</td>\n",
       "    </tr>\n",
       "    <tr>\n",
       "      <th>std</th>\n",
       "      <td>7676.040465</td>\n",
       "      <td>0.036977</td>\n",
       "      <td>0.043759</td>\n",
       "      <td>35.367183</td>\n",
       "      <td>19.822368</td>\n",
       "      <td>743.828376</td>\n",
       "      <td>596.173199</td>\n",
       "    </tr>\n",
       "    <tr>\n",
       "      <th>min</th>\n",
       "      <td>500.000000</td>\n",
       "      <td>0.003493</td>\n",
       "      <td>0.003852</td>\n",
       "      <td>2.955715</td>\n",
       "      <td>0.006650</td>\n",
       "      <td>50.000080</td>\n",
       "      <td>83.454880</td>\n",
       "    </tr>\n",
       "    <tr>\n",
       "      <th>25%</th>\n",
       "      <td>664.000000</td>\n",
       "      <td>0.014367</td>\n",
       "      <td>0.019590</td>\n",
       "      <td>13.248857</td>\n",
       "      <td>31.906822</td>\n",
       "      <td>65.480406</td>\n",
       "      <td>203.879444</td>\n",
       "    </tr>\n",
       "    <tr>\n",
       "      <th>50%</th>\n",
       "      <td>1125.000000</td>\n",
       "      <td>0.060857</td>\n",
       "      <td>0.066356</td>\n",
       "      <td>55.316990</td>\n",
       "      <td>43.821569</td>\n",
       "      <td>110.677330</td>\n",
       "      <td>356.539169</td>\n",
       "    </tr>\n",
       "    <tr>\n",
       "      <th>75%</th>\n",
       "      <td>8833.000000</td>\n",
       "      <td>0.083618</td>\n",
       "      <td>0.099500</td>\n",
       "      <td>78.232935</td>\n",
       "      <td>53.791242</td>\n",
       "      <td>852.451401</td>\n",
       "      <td>743.720383</td>\n",
       "    </tr>\n",
       "    <tr>\n",
       "      <th>max</th>\n",
       "      <td>114269.000000</td>\n",
       "      <td>0.249763</td>\n",
       "      <td>0.248705</td>\n",
       "      <td>246.504898</td>\n",
       "      <td>511.695892</td>\n",
       "      <td>12033.718750</td>\n",
       "      <td>10297.985352</td>\n",
       "    </tr>\n",
       "  </tbody>\n",
       "</table>\n",
       "</div>"
      ],
      "text/plain": [
       "            nphotons        sigma_x        sigma_y        sigma_z  \\\n",
       "count  600000.000000  600000.000000  600000.000000  600000.000000   \n",
       "mean     5230.885438       0.054990       0.065291      51.791564   \n",
       "std      7676.040465       0.036977       0.043759      35.367183   \n",
       "min       500.000000       0.003493       0.003852       2.955715   \n",
       "25%       664.000000       0.014367       0.019590      13.248857   \n",
       "50%      1125.000000       0.060857       0.066356      55.316990   \n",
       "75%      8833.000000       0.083618       0.099500      78.232935   \n",
       "max    114269.000000       0.249763       0.248705     246.504898   \n",
       "\n",
       "              offset            amp           chi2  \n",
       "count  600000.000000  600000.000000  600000.000000  \n",
       "mean       46.584478     502.148625     566.552945  \n",
       "std        19.822368     743.828376     596.173199  \n",
       "min         0.006650      50.000080      83.454880  \n",
       "25%        31.906822      65.480406     203.879444  \n",
       "50%        43.821569     110.677330     356.539169  \n",
       "75%        53.791242     852.451401     743.720383  \n",
       "max       511.695892   12033.718750   10297.985352  "
      ]
     },
     "execution_count": 5,
     "metadata": {},
     "output_type": "execute_result"
    }
   ],
   "source": [
    "X.describe()"
   ]
  },
  {
   "cell_type": "markdown",
   "metadata": {},
   "source": [
    "Correlation"
   ]
  },
  {
   "cell_type": "code",
   "execution_count": 6,
   "metadata": {},
   "outputs": [
    {
     "data": {
      "text/html": [
       "<div>\n",
       "<style scoped>\n",
       "    .dataframe tbody tr th:only-of-type {\n",
       "        vertical-align: middle;\n",
       "    }\n",
       "\n",
       "    .dataframe tbody tr th {\n",
       "        vertical-align: top;\n",
       "    }\n",
       "\n",
       "    .dataframe thead th {\n",
       "        text-align: right;\n",
       "    }\n",
       "</style>\n",
       "<table border=\"1\" class=\"dataframe\">\n",
       "  <thead>\n",
       "    <tr style=\"text-align: right;\">\n",
       "      <th></th>\n",
       "      <th>nphotons</th>\n",
       "      <th>sigma_x</th>\n",
       "      <th>sigma_y</th>\n",
       "      <th>sigma_z</th>\n",
       "      <th>offset</th>\n",
       "      <th>amp</th>\n",
       "      <th>chi2</th>\n",
       "    </tr>\n",
       "  </thead>\n",
       "  <tbody>\n",
       "    <tr>\n",
       "      <th>nphotons</th>\n",
       "      <td>1.000000</td>\n",
       "      <td>-0.675072</td>\n",
       "      <td>-0.654934</td>\n",
       "      <td>-0.659092</td>\n",
       "      <td>0.677235</td>\n",
       "      <td>0.987815</td>\n",
       "      <td>0.899265</td>\n",
       "    </tr>\n",
       "    <tr>\n",
       "      <th>sigma_x</th>\n",
       "      <td>-0.675072</td>\n",
       "      <td>1.000000</td>\n",
       "      <td>0.841006</td>\n",
       "      <td>0.949682</td>\n",
       "      <td>-0.386932</td>\n",
       "      <td>-0.667188</td>\n",
       "      <td>-0.571736</td>\n",
       "    </tr>\n",
       "    <tr>\n",
       "      <th>sigma_y</th>\n",
       "      <td>-0.654934</td>\n",
       "      <td>0.841006</td>\n",
       "      <td>1.000000</td>\n",
       "      <td>0.904465</td>\n",
       "      <td>-0.401427</td>\n",
       "      <td>-0.655001</td>\n",
       "      <td>-0.579353</td>\n",
       "    </tr>\n",
       "    <tr>\n",
       "      <th>sigma_z</th>\n",
       "      <td>-0.659092</td>\n",
       "      <td>0.949682</td>\n",
       "      <td>0.904465</td>\n",
       "      <td>1.000000</td>\n",
       "      <td>-0.348163</td>\n",
       "      <td>-0.660407</td>\n",
       "      <td>-0.548419</td>\n",
       "    </tr>\n",
       "    <tr>\n",
       "      <th>offset</th>\n",
       "      <td>0.677235</td>\n",
       "      <td>-0.386932</td>\n",
       "      <td>-0.401427</td>\n",
       "      <td>-0.348163</td>\n",
       "      <td>1.000000</td>\n",
       "      <td>0.665127</td>\n",
       "      <td>0.765688</td>\n",
       "    </tr>\n",
       "    <tr>\n",
       "      <th>amp</th>\n",
       "      <td>0.987815</td>\n",
       "      <td>-0.667188</td>\n",
       "      <td>-0.655001</td>\n",
       "      <td>-0.660407</td>\n",
       "      <td>0.665127</td>\n",
       "      <td>1.000000</td>\n",
       "      <td>0.870322</td>\n",
       "    </tr>\n",
       "    <tr>\n",
       "      <th>chi2</th>\n",
       "      <td>0.899265</td>\n",
       "      <td>-0.571736</td>\n",
       "      <td>-0.579353</td>\n",
       "      <td>-0.548419</td>\n",
       "      <td>0.765688</td>\n",
       "      <td>0.870322</td>\n",
       "      <td>1.000000</td>\n",
       "    </tr>\n",
       "  </tbody>\n",
       "</table>\n",
       "</div>"
      ],
      "text/plain": [
       "          nphotons   sigma_x   sigma_y   sigma_z    offset       amp      chi2\n",
       "nphotons  1.000000 -0.675072 -0.654934 -0.659092  0.677235  0.987815  0.899265\n",
       "sigma_x  -0.675072  1.000000  0.841006  0.949682 -0.386932 -0.667188 -0.571736\n",
       "sigma_y  -0.654934  0.841006  1.000000  0.904465 -0.401427 -0.655001 -0.579353\n",
       "sigma_z  -0.659092  0.949682  0.904465  1.000000 -0.348163 -0.660407 -0.548419\n",
       "offset    0.677235 -0.386932 -0.401427 -0.348163  1.000000  0.665127  0.765688\n",
       "amp       0.987815 -0.667188 -0.655001 -0.660407  0.665127  1.000000  0.870322\n",
       "chi2      0.899265 -0.571736 -0.579353 -0.548419  0.765688  0.870322  1.000000"
      ]
     },
     "execution_count": 6,
     "metadata": {},
     "output_type": "execute_result"
    }
   ],
   "source": [
    "X.corr()"
   ]
  },
  {
   "cell_type": "markdown",
   "metadata": {},
   "source": [
    "Counts of good vs. bad"
   ]
  },
  {
   "cell_type": "code",
   "execution_count": 7,
   "metadata": {},
   "outputs": [
    {
     "data": {
      "text/plain": [
       "1    300000\n",
       "0    300000\n",
       "Name: good, dtype: int64"
      ]
     },
     "execution_count": 7,
     "metadata": {},
     "output_type": "execute_result"
    }
   ],
   "source": [
    "y.value_counts()"
   ]
  },
  {
   "cell_type": "markdown",
   "metadata": {},
   "source": [
    "Check no missing values"
   ]
  },
  {
   "cell_type": "code",
   "execution_count": 8,
   "metadata": {},
   "outputs": [],
   "source": [
    "assert X.isnull().values.ravel().sum() == 0"
   ]
  },
  {
   "cell_type": "markdown",
   "metadata": {},
   "source": [
    "### Visualize"
   ]
  },
  {
   "cell_type": "code",
   "execution_count": 9,
   "metadata": {},
   "outputs": [
    {
     "name": "stdout",
     "output_type": "stream",
     "text": [
      "Wall time: 9min 32s\n"
     ]
    }
   ],
   "source": [
    "%%time\n",
    "\n",
    "n_components = 2\n",
    "tsne_sample_size = 5000\n",
    "xx = X.head(tsne_sample_size)\n",
    "# shouldn't this also be y.head(tsne_sample_size)???\n",
    "yy = y[:tsne_sample_size]\n",
    "tsne = manifold.TSNE(n_components=n_components, init='pca', random_state=0,)\n",
    "zz = tsne.fit_transform(xx)"
   ]
  },
  {
   "cell_type": "code",
   "execution_count": 10,
   "metadata": {},
   "outputs": [
    {
     "data": {
      "image/png": "[encoded data removed]",
      "text/plain": [
       "<Figure size 432x288 with 1 Axes>"
      ]
     },
     "metadata": {},
     "output_type": "display_data"
    }
   ],
   "source": [
    "fig, ax = plt.subplots()\n",
    "ax.scatter(zz[yy == 1, 0], zz[yy == 1, 1], s=2, c='b', alpha=0.5, label='good')\n",
    "ax.scatter(zz[yy == 0, 0], zz[yy == 0, 1], s=2, c='r', alpha=0.5, label='bad')\n",
    "ax.xaxis.set_major_formatter(NullFormatter())\n",
    "ax.yaxis.set_major_formatter(NullFormatter()) \n",
    "plt.legend()\n",
    "plt.show()"
   ]
  },
  {
   "cell_type": "markdown",
   "metadata": {},
   "source": [
    "### Models"
   ]
  },
  {
   "cell_type": "markdown",
   "metadata": {},
   "source": [
    "Train/test split"
   ]
  },
  {
   "cell_type": "code",
   "execution_count": 11,
   "metadata": {},
   "outputs": [],
   "source": [
    "from sklearn.model_selection import train_test_split\n",
    "\n",
    "X_train, X_test, y_train, y_test = train_test_split(X, y, test_size=0.2, random_state=random_seed)"
   ]
  },
  {
   "cell_type": "code",
   "execution_count": 12,
   "metadata": {},
   "outputs": [
    {
     "data": {
      "text/plain": [
       "((480000, 7), (480000,))"
      ]
     },
     "execution_count": 12,
     "metadata": {},
     "output_type": "execute_result"
    }
   ],
   "source": [
    "X_train.shape, y_train.shape"
   ]
  },
  {
   "cell_type": "code",
   "execution_count": 13,
   "metadata": {},
   "outputs": [
    {
     "data": {
      "text/plain": [
       "((120000, 7), (120000,))"
      ]
     },
     "execution_count": 13,
     "metadata": {},
     "output_type": "execute_result"
    }
   ],
   "source": [
    "X_test.shape, y_test.shape"
   ]
  },
  {
   "cell_type": "code",
   "execution_count": 14,
   "metadata": {},
   "outputs": [],
   "source": [
    "from sklearn.metrics import *\n",
    "from sklearn.metrics.classification import *\n",
    "\n",
    "def evaluate_preds(y_hat):\n",
    "    return pd.Series({\n",
    "        'precision': precision_score(y_test, y_hat),\n",
    "        'recall': recall_score(y_test, y_hat),\n",
    "        'f1': f1_score(y_test, y_hat),\n",
    "        'accuracy': accuracy_score(y_test, y_hat),\n",
    "        'roc_auc': roc_auc_score(y_test, y_hat)\n",
    "    })\n",
    "\n",
    "def evaluate(clf):\n",
    "    y_hat = %time clf.predict(X_test)\n",
    "    return evaluate_preds(y_hat)\n",
    "\n",
    "def feature_importances(clf):\n",
    "    pd.Series(dict(zip(X.columns, clf.feature_importances_))).sort_index().plot.bar()\n",
    "    plt.show()"
   ]
  },
  {
   "cell_type": "markdown",
   "metadata": {},
   "source": [
    "#### K Nearest Neighbors"
   ]
  },
  {
   "cell_type": "code",
   "execution_count": 15,
   "metadata": {},
   "outputs": [
    {
     "name": "stdout",
     "output_type": "stream",
     "text": [
      "Wall time: 3.92 s\n"
     ]
    }
   ],
   "source": [
    "%%time\n",
    "from sklearn.neighbors import KNeighborsClassifier\n",
    "\n",
    "knn = KNeighborsClassifier(n_neighbors=5)\n",
    "knn.fit(X_train, y_train)"
   ]
  },
  {
   "cell_type": "code",
   "execution_count": 16,
   "metadata": {},
   "outputs": [
    {
     "name": "stdout",
     "output_type": "stream",
     "text": [
      "Wall time: 6.31 s\n"
     ]
    },
    {
     "data": {
      "text/plain": [
       "accuracy     0.983700\n",
       "f1           0.983695\n",
       "precision    0.980231\n",
       "recall       0.987184\n",
       "roc_auc      0.983713\n",
       "dtype: float64"
      ]
     },
     "execution_count": 16,
     "metadata": {},
     "output_type": "execute_result"
    }
   ],
   "source": [
    "evaluate(knn)"
   ]
  },
  {
   "cell_type": "code",
   "execution_count": 17,
   "metadata": {},
   "outputs": [
    {
     "name": "stdout",
     "output_type": "stream",
     "text": [
      "Wall time: 15.5 s\n",
      "Wall time: 26.2 s\n"
     ]
    }
   ],
   "source": [
    "%time knn_bad = knn.predict(bad[feature_cols])\n",
    "%time knn_good = knn.predict(good[feature_cols])"
   ]
  },
  {
   "cell_type": "markdown",
   "metadata": {},
   "source": [
    "#### Random forest"
   ]
  },
  {
   "cell_type": "code",
   "execution_count": 18,
   "metadata": {},
   "outputs": [
    {
     "name": "stdout",
     "output_type": "stream",
     "text": [
      "Wall time: 36.5 s\n"
     ]
    }
   ],
   "source": [
    "%%time\n",
    "from sklearn.ensemble import RandomForestClassifier\n",
    "\n",
    "rf = RandomForestClassifier()\n",
    "rf.fit(X_train, y_train)"
   ]
  },
  {
   "cell_type": "code",
   "execution_count": 19,
   "metadata": {},
   "outputs": [
    {
     "name": "stdout",
     "output_type": "stream",
     "text": [
      "Wall time: 379 ms\n"
     ]
    },
    {
     "data": {
      "text/plain": [
       "accuracy     0.986433\n",
       "f1           0.986422\n",
       "precision    0.983501\n",
       "recall       0.989359\n",
       "roc_auc      0.986445\n",
       "dtype: float64"
      ]
     },
     "execution_count": 19,
     "metadata": {},
     "output_type": "execute_result"
    }
   ],
   "source": [
    "evaluate(rf)"
   ]
  },
  {
   "cell_type": "code",
   "execution_count": 20,
   "metadata": {},
   "outputs": [
    {
     "data": {
      "image/png": "[encoded data removed]",
      "text/plain": [
       "<Figure size 432x288 with 1 Axes>"
      ]
     },
     "metadata": {},
     "output_type": "display_data"
    }
   ],
   "source": [
    "feature_importances(rf)"
   ]
  },
  {
   "cell_type": "markdown",
   "metadata": {},
   "source": [
    "### Naive Bayes"
   ]
  },
  {
   "cell_type": "code",
   "execution_count": 21,
   "metadata": {},
   "outputs": [
    {
     "name": "stdout",
     "output_type": "stream",
     "text": [
      "Wall time: 399 ms\n"
     ]
    }
   ],
   "source": [
    "%%time\n",
    "from sklearn.naive_bayes import GaussianNB\n",
    "\n",
    "nb = GaussianNB()\n",
    "nb.fit(X_train, y_train)"
   ]
  },
  {
   "cell_type": "code",
   "execution_count": 22,
   "metadata": {},
   "outputs": [
    {
     "name": "stdout",
     "output_type": "stream",
     "text": [
      "Wall time: 89 ms\n"
     ]
    },
    {
     "data": {
      "text/plain": [
       "accuracy     0.959492\n",
       "f1           0.959944\n",
       "precision    0.945798\n",
       "recall       0.974519\n",
       "roc_auc      0.959549\n",
       "dtype: float64"
      ]
     },
     "execution_count": 22,
     "metadata": {},
     "output_type": "execute_result"
    }
   ],
   "source": [
    "evaluate(nb)"
   ]
  },
  {
   "cell_type": "markdown",
   "metadata": {},
   "source": [
    "### XGBoost"
   ]
  },
  {
   "cell_type": "code",
   "execution_count": 23,
   "metadata": {},
   "outputs": [
    {
     "name": "stdout",
     "output_type": "stream",
     "text": [
      "Wall time: 29.7 s\n"
     ]
    }
   ],
   "source": [
    "%%time\n",
    "from xgboost import XGBClassifier\n",
    "\n",
    "xgb = XGBClassifier(max_depth=5, n_estimators=100, nthread=16)\n",
    "xgb.fit(X_train, y_train)"
   ]
  },
  {
   "cell_type": "code",
   "execution_count": 24,
   "metadata": {},
   "outputs": [
    {
     "name": "stderr",
     "output_type": "stream",
     "text": [
      "C:\\Users\\hoffmand\\AppData\\Local\\Continuum\\Anaconda3\\lib\\site-packages\\sklearn\\preprocessing\\label.py:151: DeprecationWarning: The truth value of an empty array is ambiguous. Returning False, but in future this will result in an error. Use `array.size > 0` to check that an array is not empty.\n",
      "  if diff:\n"
     ]
    },
    {
     "name": "stdout",
     "output_type": "stream",
     "text": [
      "Wall time: 649 ms\n"
     ]
    },
    {
     "data": {
      "text/plain": [
       "accuracy     0.986392\n",
       "f1           0.986412\n",
       "precision    0.981195\n",
       "recall       0.991685\n",
       "roc_auc      0.986412\n",
       "dtype: float64"
      ]
     },
     "execution_count": 24,
     "metadata": {},
     "output_type": "execute_result"
    }
   ],
   "source": [
    "evaluate(xgb)"
   ]
  },
  {
   "cell_type": "code",
   "execution_count": 25,
   "metadata": {},
   "outputs": [
    {
     "data": {
      "image/png": "[encoded data removed]",
      "text/plain": [
       "<Figure size 432x288 with 1 Axes>"
      ]
     },
     "metadata": {},
     "output_type": "display_data"
    }
   ],
   "source": [
    "feature_importances(xgb)"
   ]
  },
  {
   "cell_type": "markdown",
   "metadata": {},
   "source": [
    "#### Logistic regression\n",
    "\n",
    "(This does amazingly well for a fast-to-train linear model.)"
   ]
  },
  {
   "cell_type": "code",
   "execution_count": 26,
   "metadata": {},
   "outputs": [
    {
     "name": "stdout",
     "output_type": "stream",
     "text": [
      "Wall time: 15.1 s\n"
     ]
    }
   ],
   "source": [
    "%%time\n",
    "from sklearn.linear_model import LogisticRegressionCV\n",
    "\n",
    "lr = LogisticRegressionCV(n_jobs=16)\n",
    "lr.fit(X_train, y_train)"
   ]
  },
  {
   "cell_type": "code",
   "execution_count": 27,
   "metadata": {},
   "outputs": [
    {
     "name": "stdout",
     "output_type": "stream",
     "text": [
      "Wall time: 6 ms\n"
     ]
    },
    {
     "data": {
      "text/plain": [
       "accuracy     0.973175\n",
       "f1           0.973318\n",
       "precision    0.964500\n",
       "recall       0.982299\n",
       "roc_auc      0.973210\n",
       "dtype: float64"
      ]
     },
     "execution_count": 27,
     "metadata": {},
     "output_type": "execute_result"
    }
   ],
   "source": [
    "evaluate(lr)"
   ]
  },
  {
   "cell_type": "markdown",
   "metadata": {},
   "source": [
    "#### Big guns: TPOT"
   ]
  },
  {
   "cell_type": "code",
   "execution_count": 28,
   "metadata": {},
   "outputs": [
    {
     "name": "stderr",
     "output_type": "stream",
     "text": [
      "                                                                                                                       \r"
     ]
    },
    {
     "name": "stdout",
     "output_type": "stream",
     "text": [
      "\n"
     ]
    },
    {
     "name": "stderr",
     "output_type": "stream",
     "text": [
      "                                                                                                                       \r"
     ]
    },
    {
     "name": "stdout",
     "output_type": "stream",
     "text": [
      "306.49047171666666 minutes have elapsed. TPOT will close down.\n",
      "TPOT closed prematurely. Will use the current best pipeline.\n"
     ]
    },
    {
     "name": "stderr",
     "output_type": "stream",
     "text": [
      "                                                                                                                       \r"
     ]
    },
    {
     "name": "stdout",
     "output_type": "stream",
     "text": [
      "\n",
      "Best pipeline: ExtraTreesClassifier(ZeroCount(input_matrix), bootstrap=False, criterion=entropy, max_features=0.15000000000000002, min_samples_leaf=1, min_samples_split=19, n_estimators=100)\n"
     ]
    },
    {
     "data": {
      "text/plain": [
       "TPOTClassifier(config_dict={'sklearn.naive_bayes.GaussianNB': {}, 'sklearn.naive_bayes.BernoulliNB': {'alpha': [0.001, 0.01, 0.1, 1.0, 10.0, 100.0], 'fit_prior': [True, False]}, 'sklearn.naive_bayes.MultinomialNB': {'alpha': [0.001, 0.01, 0.1, 1.0, 10.0, 100.0], 'fit_prior': [True, False]}, 'sklearn.tree.DecisionT....3 , 0.35, 0.4 , 0.45, 0.5 , 0.55,\n",
       "       0.6 , 0.65, 0.7 , 0.75, 0.8 , 0.85, 0.9 , 0.95, 1.  ])}}}},\n",
       "        crossover_rate=0.1, cv=5, disable_update_check=False,\n",
       "        early_stop=None, generations=1000000, max_eval_time_mins=5,\n",
       "        max_time_mins=150, memory=None, mutation_rate=0.9, n_jobs=24,\n",
       "        offspring_size=50, periodic_checkpoint_folder=None,\n",
       "        population_size=50, random_state=None, scoring=None, subsample=1.0,\n",
       "        verbosity=2, warm_start=False)"
      ]
     },
     "execution_count": 28,
     "metadata": {},
     "output_type": "execute_result"
    }
   ],
   "source": [
    "from tpot import TPOTClassifier\n",
    "\n",
    "tp = TPOTClassifier(generations=5, max_time_mins=150, population_size=50, n_jobs=24, verbosity=2)\n",
    "tp.fit(X_train, y_train)"
   ]
  },
  {
   "cell_type": "markdown",
   "metadata": {},
   "source": [
    "Turns out TPOT ended up with just a XGBoost classifier with a Robust Scaler for the inputs before they go in."
   ]
  },
  {
   "cell_type": "code",
   "execution_count": 29,
   "metadata": {},
   "outputs": [
    {
     "data": {
      "text/plain": [
       "True"
      ]
     },
     "execution_count": 29,
     "metadata": {},
     "output_type": "execute_result"
    }
   ],
   "source": [
    "tp.export('tpot_pipeline_dph.py')"
   ]
  },
  {
   "cell_type": "code",
   "execution_count": null,
   "metadata": {},
   "outputs": [],
   "source": [
    "# %load tpot_pipeline_dph.py\n",
    "import numpy as np\n",
    "import pandas as pd\n",
    "from sklearn.ensemble import ExtraTreesClassifier\n",
    "from sklearn.model_selection import train_test_split\n",
    "from sklearn.pipeline import make_pipeline\n",
    "from tpot.builtins import ZeroCount\n",
    "\n",
    "# NOTE: Make sure that the class is labeled 'target' in the data file\n",
    "tpot_data = pd.read_csv('PATH/TO/DATA/FILE', sep='COLUMN_SEPARATOR', dtype=np.float64)\n",
    "features = tpot_data.drop('target', axis=1).values\n",
    "training_features, testing_features, training_target, testing_target = \\\n",
    "            train_test_split(features, tpot_data['target'].values, random_state=42)\n",
    "\n",
    "# Score on the training set was:0.9860291666666667\n",
    "exported_pipeline = make_pipeline(\n",
    "    ZeroCount(),\n",
    "    ExtraTreesClassifier(bootstrap=False, criterion=\"entropy\", max_features=0.15000000000000002, min_samples_leaf=1, min_samples_split=19, n_estimators=100)\n",
    ")\n",
    "\n",
    "exported_pipeline.fit(training_features, training_target)\n",
    "results = exported_pipeline.predict(testing_features)\n"
   ]
  },
  {
   "cell_type": "code",
   "execution_count": 30,
   "metadata": {},
   "outputs": [
    {
     "name": "stdout",
     "output_type": "stream",
     "text": [
      "Wall time: 2.71 s\n"
     ]
    },
    {
     "data": {
      "text/plain": [
       "accuracy     0.986508\n",
       "f1           0.986558\n",
       "precision    0.979201\n",
       "recall       0.994027\n",
       "roc_auc      0.986537\n",
       "dtype: float64"
      ]
     },
     "execution_count": 30,
     "metadata": {},
     "output_type": "execute_result"
    }
   ],
   "source": [
    "evaluate(tp)"
   ]
  },
  {
   "cell_type": "code",
   "execution_count": 31,
   "metadata": {},
   "outputs": [
    {
     "data": {
      "image/png": "[encoded data removed]",
      "text/plain": [
       "<Figure size 432x288 with 1 Axes>"
      ]
     },
     "metadata": {},
     "output_type": "display_data"
    }
   ],
   "source": [
    "feature_importances(tp.fitted_pipeline_.steps[-1][1])"
   ]
  },
  {
   "cell_type": "markdown",
   "metadata": {},
   "source": [
    "<hr>"
   ]
  },
  {
   "cell_type": "markdown",
   "metadata": {},
   "source": [
    "## Voting classifier (ensemble of above)"
   ]
  },
  {
   "cell_type": "code",
   "execution_count": 32,
   "metadata": {},
   "outputs": [],
   "source": [
    "from sklearn.ensemble import VotingClassifier\n",
    "\n",
    "estimators = [\n",
    "    ('rf', rf),\n",
    "    ('lr', lr),\n",
    "    ('knn', knn),\n",
    "    ('nb', nb),\n",
    "    ('xgb', tp),\n",
    "]\n",
    "\n",
    "predictions = (pd.DataFrame({name: model.predict(X_test) for name, model in estimators})\n",
    "               .assign(vote_ratio=lambda x: x.sum(axis=1) / len(estimators))\n",
    "               .assign(y_hat=lambda x: (x.vote_ratio > 0.5).astype(np.int)))"
   ]
  },
  {
   "cell_type": "code",
   "execution_count": 33,
   "metadata": {},
   "outputs": [
    {
     "data": {
      "text/html": [
       "<div>\n",
       "<style scoped>\n",
       "    .dataframe tbody tr th:only-of-type {\n",
       "        vertical-align: middle;\n",
       "    }\n",
       "\n",
       "    .dataframe tbody tr th {\n",
       "        vertical-align: top;\n",
       "    }\n",
       "\n",
       "    .dataframe thead th {\n",
       "        text-align: right;\n",
       "    }\n",
       "</style>\n",
       "<table border=\"1\" class=\"dataframe\">\n",
       "  <thead>\n",
       "    <tr style=\"text-align: right;\">\n",
       "      <th></th>\n",
       "      <th>knn</th>\n",
       "      <th>lr</th>\n",
       "      <th>nb</th>\n",
       "      <th>rf</th>\n",
       "      <th>xgb</th>\n",
       "      <th>vote_ratio</th>\n",
       "      <th>y_hat</th>\n",
       "    </tr>\n",
       "  </thead>\n",
       "  <tbody>\n",
       "    <tr>\n",
       "      <th>0</th>\n",
       "      <td>1</td>\n",
       "      <td>1</td>\n",
       "      <td>1</td>\n",
       "      <td>1</td>\n",
       "      <td>1</td>\n",
       "      <td>1.0</td>\n",
       "      <td>1</td>\n",
       "    </tr>\n",
       "    <tr>\n",
       "      <th>1</th>\n",
       "      <td>0</td>\n",
       "      <td>0</td>\n",
       "      <td>0</td>\n",
       "      <td>0</td>\n",
       "      <td>0</td>\n",
       "      <td>0.0</td>\n",
       "      <td>0</td>\n",
       "    </tr>\n",
       "    <tr>\n",
       "      <th>2</th>\n",
       "      <td>1</td>\n",
       "      <td>1</td>\n",
       "      <td>1</td>\n",
       "      <td>1</td>\n",
       "      <td>1</td>\n",
       "      <td>1.0</td>\n",
       "      <td>1</td>\n",
       "    </tr>\n",
       "    <tr>\n",
       "      <th>3</th>\n",
       "      <td>1</td>\n",
       "      <td>1</td>\n",
       "      <td>1</td>\n",
       "      <td>1</td>\n",
       "      <td>1</td>\n",
       "      <td>1.0</td>\n",
       "      <td>1</td>\n",
       "    </tr>\n",
       "    <tr>\n",
       "      <th>4</th>\n",
       "      <td>1</td>\n",
       "      <td>1</td>\n",
       "      <td>1</td>\n",
       "      <td>1</td>\n",
       "      <td>1</td>\n",
       "      <td>1.0</td>\n",
       "      <td>1</td>\n",
       "    </tr>\n",
       "    <tr>\n",
       "      <th>5</th>\n",
       "      <td>1</td>\n",
       "      <td>1</td>\n",
       "      <td>1</td>\n",
       "      <td>1</td>\n",
       "      <td>1</td>\n",
       "      <td>1.0</td>\n",
       "      <td>1</td>\n",
       "    </tr>\n",
       "    <tr>\n",
       "      <th>6</th>\n",
       "      <td>0</td>\n",
       "      <td>0</td>\n",
       "      <td>0</td>\n",
       "      <td>0</td>\n",
       "      <td>0</td>\n",
       "      <td>0.0</td>\n",
       "      <td>0</td>\n",
       "    </tr>\n",
       "    <tr>\n",
       "      <th>7</th>\n",
       "      <td>1</td>\n",
       "      <td>1</td>\n",
       "      <td>1</td>\n",
       "      <td>1</td>\n",
       "      <td>1</td>\n",
       "      <td>1.0</td>\n",
       "      <td>1</td>\n",
       "    </tr>\n",
       "    <tr>\n",
       "      <th>8</th>\n",
       "      <td>0</td>\n",
       "      <td>0</td>\n",
       "      <td>0</td>\n",
       "      <td>0</td>\n",
       "      <td>0</td>\n",
       "      <td>0.0</td>\n",
       "      <td>0</td>\n",
       "    </tr>\n",
       "    <tr>\n",
       "      <th>9</th>\n",
       "      <td>1</td>\n",
       "      <td>1</td>\n",
       "      <td>1</td>\n",
       "      <td>1</td>\n",
       "      <td>1</td>\n",
       "      <td>1.0</td>\n",
       "      <td>1</td>\n",
       "    </tr>\n",
       "  </tbody>\n",
       "</table>\n",
       "</div>"
      ],
      "text/plain": [
       "   knn  lr  nb  rf  xgb  vote_ratio  y_hat\n",
       "0    1   1   1   1    1         1.0      1\n",
       "1    0   0   0   0    0         0.0      0\n",
       "2    1   1   1   1    1         1.0      1\n",
       "3    1   1   1   1    1         1.0      1\n",
       "4    1   1   1   1    1         1.0      1\n",
       "5    1   1   1   1    1         1.0      1\n",
       "6    0   0   0   0    0         0.0      0\n",
       "7    1   1   1   1    1         1.0      1\n",
       "8    0   0   0   0    0         0.0      0\n",
       "9    1   1   1   1    1         1.0      1"
      ]
     },
     "execution_count": 33,
     "metadata": {},
     "output_type": "execute_result"
    }
   ],
   "source": [
    "predictions.head(10)"
   ]
  },
  {
   "cell_type": "code",
   "execution_count": 34,
   "metadata": {},
   "outputs": [
    {
     "ename": "AttributeError",
     "evalue": "'DataFrame' object has no attribute 'votes'",
     "output_type": "error",
     "traceback": [
      "\u001b[1;31m---------------------------------------------------------------------------\u001b[0m",
      "\u001b[1;31mAttributeError\u001b[0m                            Traceback (most recent call last)",
      "\u001b[1;32m<ipython-input-34-1d38eaf8b1d8>\u001b[0m in \u001b[0;36m<module>\u001b[1;34m()\u001b[0m\n\u001b[1;32m----> 1\u001b[1;33m \u001b[0mpredictions\u001b[0m\u001b[1;33m.\u001b[0m\u001b[0mvotes\u001b[0m\u001b[1;33m.\u001b[0m\u001b[0mplot\u001b[0m\u001b[1;33m.\u001b[0m\u001b[0mhist\u001b[0m\u001b[1;33m(\u001b[0m\u001b[1;33m)\u001b[0m\u001b[1;33m\u001b[0m\u001b[0m\n\u001b[0m",
      "\u001b[1;32m~\\AppData\\Local\\Continuum\\Anaconda3\\lib\\site-packages\\pandas\\core\\generic.py\u001b[0m in \u001b[0;36m__getattr__\u001b[1;34m(self, name)\u001b[0m\n\u001b[0;32m   3612\u001b[0m             \u001b[1;32mif\u001b[0m \u001b[0mname\u001b[0m \u001b[1;32min\u001b[0m \u001b[0mself\u001b[0m\u001b[1;33m.\u001b[0m\u001b[0m_info_axis\u001b[0m\u001b[1;33m:\u001b[0m\u001b[1;33m\u001b[0m\u001b[0m\n\u001b[0;32m   3613\u001b[0m                 \u001b[1;32mreturn\u001b[0m \u001b[0mself\u001b[0m\u001b[1;33m[\u001b[0m\u001b[0mname\u001b[0m\u001b[1;33m]\u001b[0m\u001b[1;33m\u001b[0m\u001b[0m\n\u001b[1;32m-> 3614\u001b[1;33m             \u001b[1;32mreturn\u001b[0m \u001b[0mobject\u001b[0m\u001b[1;33m.\u001b[0m\u001b[0m__getattribute__\u001b[0m\u001b[1;33m(\u001b[0m\u001b[0mself\u001b[0m\u001b[1;33m,\u001b[0m \u001b[0mname\u001b[0m\u001b[1;33m)\u001b[0m\u001b[1;33m\u001b[0m\u001b[0m\n\u001b[0m\u001b[0;32m   3615\u001b[0m \u001b[1;33m\u001b[0m\u001b[0m\n\u001b[0;32m   3616\u001b[0m     \u001b[1;32mdef\u001b[0m \u001b[0m__setattr__\u001b[0m\u001b[1;33m(\u001b[0m\u001b[0mself\u001b[0m\u001b[1;33m,\u001b[0m \u001b[0mname\u001b[0m\u001b[1;33m,\u001b[0m \u001b[0mvalue\u001b[0m\u001b[1;33m)\u001b[0m\u001b[1;33m:\u001b[0m\u001b[1;33m\u001b[0m\u001b[0m\n",
      "\u001b[1;31mAttributeError\u001b[0m: 'DataFrame' object has no attribute 'votes'"
     ]
    }
   ],
   "source": [
    "predictions.votes.plot.hist()"
   ]
  },
  {
   "cell_type": "code",
   "execution_count": 37,
   "metadata": {},
   "outputs": [
    {
     "data": {
      "text/plain": [
       "accuracy     0.985042\n",
       "f1           0.985088\n",
       "precision    0.978349\n",
       "recall       0.991919\n",
       "roc_auc      0.985068\n",
       "dtype: float64"
      ]
     },
     "execution_count": 37,
     "metadata": {},
     "output_type": "execute_result"
    }
   ],
   "source": [
    "evaluate_preds(predictions.y_hat)"
   ]
  },
  {
   "cell_type": "code",
   "execution_count": null,
   "metadata": {},
   "outputs": [],
   "source": []
  }
 ],
 "metadata": {
  "kernelspec": {
   "display_name": "Python 3",
   "language": "python",
   "name": "python3"
  },
  "language_info": {
   "codemirror_mode": {
    "name": "ipython",
    "version": 3
   },
   "file_extension": ".py",
   "mimetype": "text/x-python",
   "name": "python",
   "nbconvert_exporter": "python",
   "pygments_lexer": "ipython3",
   "version": "3.6.4"
  }
 },
 "nbformat": 4,
 "nbformat_minor": 2
}
