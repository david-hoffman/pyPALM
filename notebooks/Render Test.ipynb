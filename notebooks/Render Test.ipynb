{
 "cells": [
  {
   "cell_type": "code",
   "execution_count": 1,
   "metadata": {},
   "outputs": [
    {
     "name": "stdout",
     "output_type": "stream",
     "text": [
      "CPU_COUNT 8\n",
      "2019-07-07T18:56:33-04:00\n",
      "\n",
      "CPython 3.6.8\n",
      "IPython 7.6.0\n",
      "\n",
      "compiler   : GCC 4.2.1 Compatible Clang 4.0.1 (tags/RELEASE_401/final)\n",
      "system     : Darwin\n",
      "release    : 18.6.0\n",
      "machine    : x86_64\n",
      "processor  : i386\n",
      "CPU cores  : 8\n",
      "interpreter: 64bit\n",
      "\n",
      "numpy 1.16.4\n",
      "numba 0.44.1\n"
     ]
    }
   ],
   "source": [
    "import os\n",
    "import time\n",
    "import numpy as np\n",
    "from concurrent.futures import ThreadPoolExecutor, ProcessPoolExecutor, as_completed\n",
    "from numba import njit, jit\n",
    "\n",
    "CPU_COUNT = os.cpu_count()\n",
    "print(\"CPU_COUNT\", CPU_COUNT)\n",
    "\n",
    "%load_ext watermark\n",
    "%watermark\n",
    "print()\n",
    "%watermark -p numpy,numba\n",
    "\n",
    "def PE(pool, func, args):\n",
    "    with pool(max_workers=CPU_COUNT) as exc:\n",
    "        fut = {exc.submit(func, *arg): i for i, arg in enumerate(args)}\n",
    "        for f in as_completed(fut):\n",
    "            f.result()"
   ]
  },
  {
   "cell_type": "code",
   "execution_count": 3,
   "metadata": {},
   "outputs": [
    {
     "name": "stdout",
     "output_type": "stream",
     "text": [
      "2.14 s ± 75.8 ms per loop (mean ± std. dev. of 7 runs, 1 loop each)\n",
      "Linear time:\n",
      "17.9 s ± 463 ms per loop (mean ± std. dev. of 7 runs, 1 loop each)\n",
      "\n",
      "Threads time:\n",
      "5.48 s ± 213 ms per loop (mean ± std. dev. of 7 runs, 1 loop each)\n"
     ]
    }
   ],
   "source": [
    "def render_hist_good(coords, mag):\n",
    "    \"\"\"Assumes coords is a N, 2 array where N is large and the numbers are between 0 and 1\n",
    "    mag is the magnification to apply\n",
    "    \"\"\"\n",
    "    img = np.zeros((mag, mag))\n",
    "    for j in range(10):\n",
    "        for i in range(len(coords)):\n",
    "            y0 = coords[i, 0] * mag\n",
    "            x0 = coords[i, 1] * mag\n",
    "            y1 = int(y0)\n",
    "            x1 = int(x0)\n",
    "            m = 1\n",
    "            img[y1, x1] += m\n",
    "\n",
    "    return img\n",
    "\n",
    "jit_render_hist_good = jit(render_hist_good, nogil=True, nopython=True)\n",
    "\n",
    "args = [(i, 100) for i in np.random.rand(CPU_COUNT, 10000000, 2)]\n",
    "\n",
    "%timeit jit_render_hist_good(*args[0])\n",
    "\n",
    "print(\"Linear time:\")\n",
    "%timeit [jit_render_hist_good(*a) for a in args]\n",
    "\n",
    "print()\n",
    "print(\"Threads time:\")\n",
    "%timeit  PE(ThreadPoolExecutor, jit_render_hist_good, args)"
   ]
  },
  {
   "cell_type": "code",
   "execution_count": 5,
   "metadata": {},
   "outputs": [
    {
     "name": "stdout",
     "output_type": "stream",
     "text": [
      "139 ms ± 3.59 ms per loop (mean ± std. dev. of 7 runs, 1 loop each)\n",
      "Linear time:\n",
      "1.11 s ± 25.7 ms per loop (mean ± std. dev. of 7 runs, 1 loop each)\n",
      "\n",
      "Threads time:\n",
      "1.05 s ± 11.4 ms per loop (mean ± std. dev. of 7 runs, 1 loop each)\n"
     ]
    }
   ],
   "source": [
    "def render_hist_bad(coords, mag):\n",
    "    \"\"\"Assumes coords is a N, 2 array where N is large and the numbers are between 0 and 1\n",
    "    mag is the magnification to apply\n",
    "    \"\"\"\n",
    "    img = np.zeros((mag, mag))\n",
    "    for i in range(len(coords)):\n",
    "        y0, x0 = coords[i] * mag\n",
    "        y1 = int(y0)\n",
    "        x1 = int(x0)\n",
    "        m = 1\n",
    "        img[y1, x1] += m\n",
    "\n",
    "    return img\n",
    "\n",
    "jit_render_hist_bad = jit(render_hist_bad, nogil=True, nopython=True)\n",
    "\n",
    "args = [(np.random.rand(1000000, 2), 100) for i in range(CPU_COUNT)]\n",
    "\n",
    "%timeit jit_render_hist_bad(*args[0])\n",
    "\n",
    "print(\"Linear time:\")\n",
    "%timeit [jit_render_hist_bad(*a) for a in args]\n",
    "\n",
    "print()\n",
    "print(\"Threads time:\")\n",
    "%timeit PE(ThreadPoolExecutor, jit_render_hist_bad, args)\n"
   ]
  },
  {
   "cell_type": "markdown",
   "metadata": {},
   "source": [
    "# Real function"
   ]
  },
  {
   "cell_type": "code",
   "execution_count": 4,
   "metadata": {},
   "outputs": [
    {
     "name": "stdout",
     "output_type": "stream",
     "text": [
      "Single time:\n",
      "1.5 s ± 59.1 ms per loop (mean ± std. dev. of 7 runs, 1 loop each)\n",
      "\n",
      "Linear time:\n",
      "CPU times: user 11.8 s, sys: 36.5 ms, total: 11.9 s\n",
      "Wall time: 11.9 s\n",
      "\n",
      "Threads time:\n",
      "CPU times: user 47.3 s, sys: 59.2 ms, total: 47.4 s\n",
      "Wall time: 6.1 s\n"
     ]
    }
   ],
   "source": [
    "def render(params, mag):\n",
    "    \"\"\"Assumes coords is a N, 2 array where N is large and the numbers are between 0 and 1\n",
    "    mag is the magnification to apply\n",
    "    \"\"\"\n",
    "    \n",
    "    radius = 3\n",
    "    \n",
    "    for i in range(len(params)):\n",
    "        y0 = params[i, 0] * mag\n",
    "        x0 = params[i, 1] * mag\n",
    "        sy = params[i, 2] * mag\n",
    "        sx = params[i, 3] * mag\n",
    "        \n",
    "        # calculate the render window size\n",
    "        wy = int(sy * radius * 2.0)\n",
    "        wx = int(sx * radius * 2.0)\n",
    "        \n",
    "        # calculate the area in the image\n",
    "        ystart = int(np.rint(y0)) - wy // 2\n",
    "        yend = ystart + wy\n",
    "        xstart = int(np.rint(x0)) - wx // 2\n",
    "        xend = xstart + wx\n",
    "        \n",
    "        # adjust coordinates to window coordinates\n",
    "        y1 = y0 - ystart\n",
    "        x1 = x0 - xstart\n",
    "        \n",
    "        y = np.arange(wy)\n",
    "        x = np.arange(wx)\n",
    "        amp = 1 / (2 * np.pi * sy * sx)\n",
    "        gy = np.exp(-((y - y0) / sy) ** 2 / 2)\n",
    "        gx = np.exp(-((x - x0) / sx) ** 2 / 2)\n",
    "        g = amp * np.outer(gy, gx)\n",
    "\n",
    "jit_render = jit(render, nopython=True, nogil=True)\n",
    "\n",
    "args = [(np.random.rand(1000000, 4) * (1, 1, 0.02, 0.02), 100) for i in range(CPU_COUNT)]\n",
    "\n",
    "print(\"Single time:\")\n",
    "# %timeit render(*args[0])\n",
    "%timeit jit_render(*args[0])\n",
    "\n",
    "print()\n",
    "print(\"Linear time:\")\n",
    "%time [jit_render(*a) for a in args]\n",
    "\n",
    "print()\n",
    "print(\"Threads time:\")\n",
    "%time PE(ThreadPoolExecutor, jit_render, args)"
   ]
  },
  {
   "cell_type": "code",
   "execution_count": 11,
   "metadata": {},
   "outputs": [
    {
     "name": "stdout",
     "output_type": "stream",
     "text": [
      "Single time:\n",
      "348 ms ± 9.18 ms per loop (mean ± std. dev. of 7 runs, 1 loop each)\n",
      "\n",
      "Linear time:\n",
      "CPU times: user 2.85 s, sys: 3.94 ms, total: 2.85 s\n",
      "Wall time: 2.86 s\n",
      "\n",
      "Threads time:\n",
      "CPU times: user 8.13 s, sys: 35.2 ms, total: 8.16 s\n",
      "Wall time: 1.11 s\n"
     ]
    }
   ],
   "source": [
    "def render(coords, mag):\n",
    "    \"\"\"Assumes coords is a N, 2 array where N is large and the numbers are between 0 and 1\n",
    "    mag is the magnification to apply\n",
    "    \"\"\"\n",
    "    img = np.zeros((mag, mag))\n",
    "    for i in range(len(coords)):\n",
    "        y0 = coords[i, 0] * mag\n",
    "        x0 = coords[i, 1] * mag\n",
    "        y1 = int(y0)\n",
    "        x1 = int(x0)\n",
    "        m = np.random.randn(10)\n",
    "        img[y1, x1] += m[0]\n",
    "\n",
    "    return img\n",
    "\n",
    "jit_render = jit(render, nopython=True, nogil=True)\n",
    "\n",
    "print(\"Single time:\")\n",
    "# %timeit render(*args[0])\n",
    "%timeit jit_render(*args[0])\n",
    "\n",
    "print()\n",
    "print(\"Linear time:\")\n",
    "%time [jit_render(*a) for a in args]\n",
    "\n",
    "print()\n",
    "print(\"Threads time:\")\n",
    "%time PE(ThreadPoolExecutor, jit_render, args)"
   ]
  },
  {
   "cell_type": "code",
   "execution_count": 113,
   "metadata": {},
   "outputs": [
    {
     "name": "stdout",
     "output_type": "stream",
     "text": [
      "678 ms ± 39.6 ms per loop (mean ± std. dev. of 7 runs, 1 loop each)\n",
      "\n",
      "Threads time:\n",
      "Wall time: 11.2 s\n"
     ]
    }
   ],
   "source": [
    "def render(yx_shape, params, mag, multipliers, diffraction_limit):\n",
    "    \"\"\"Assumes coords is a N, 2 array where N is large and the numbers are between 0 and 1\n",
    "    mag is the magnification to apply\n",
    "    \"\"\"\n",
    "    \n",
    "    radius = 3\n",
    "    \n",
    "    ymax = int(yx_shape[0] * mag)\n",
    "    xmax = int(yx_shape[1] * mag)\n",
    "    img = np.zeros((ymax, xmax))\n",
    "    for i in range(len(params)):\n",
    "        if not np.isfinite(params[i]).all():\n",
    "            # skip nans\n",
    "            continue\n",
    "        y0 = params[i, 0] * mag\n",
    "        x0 = params[i, 1] * mag\n",
    "        sy = params[i, 2] * mag\n",
    "        sx = params[i, 3] * mag\n",
    "        \n",
    "        # adjust parameters if diffraction limit is requested\n",
    "        if diffraction_limit:\n",
    "            sy = max(sy, 0.5)\n",
    "            sx = max(sx, 0.5)\n",
    "        \n",
    "        # calculate the render window size\n",
    "        wy = int(sy * radius * 2.0)\n",
    "        wx = int(sx * radius * 2.0)\n",
    "        \n",
    "        # calculate the area in the image\n",
    "        ystart = int(np.rint(y0)) - wy // 2\n",
    "        yend = ystart + wy\n",
    "        xstart = int(np.rint(x0)) - wx // 2\n",
    "        xend = xstart + wx\n",
    "        \n",
    "        # don't go over the edge\n",
    "        yend = min(yend, ymax)\n",
    "        ystart = max(ystart, 0)\n",
    "        xend = min(xend, xmax)\n",
    "        xstart = max(xstart, 0)\n",
    "        wy = yend - ystart\n",
    "        wx = xend - xstart\n",
    "        if wy == 0 or wx == 0:\n",
    "            continue\n",
    "        \n",
    "        # adjust coordinates to window coordinates\n",
    "        y1 = y0 - ystart\n",
    "        x1 = x0 - xstart\n",
    "        \n",
    "        y = np.arange(wy)#.reshape(-1, 1)\n",
    "        x = np.arange(wx)#.reshape(1, -1)\n",
    "        amp = 1 / (2 * np.pi * sy * sx)\n",
    "        gy = np.exp(-((y - y0) / sy) ** 2 / 2)\n",
    "        gx = np.exp(-((x - x0) / sx) ** 2 / 2)\n",
    "#         # below are all problem lines that lead to a severe slowdown ...\n",
    "#         g = amp * gy * gx\n",
    "#         g = _jit_gauss(wy, wx, y1, x1, sy, sx)\n",
    "        \n",
    "#         # weight if requested\n",
    "#         if len(multipliers):\n",
    "#             g *= multipliers[i]\n",
    "        \n",
    "#         img[ystart:yend, xstart:xend] += g\n",
    "#         img[ystart, xstart] += g[0, 0]\n",
    "#         y2 = int(y0)\n",
    "#         x2 = int(x0)\n",
    "#         for j in range(10000):\n",
    "#             img[y2, x2] += 1\n",
    "    return img\n",
    "\n",
    "jit_render = jit(render, nopython=True, nogil=True)\n",
    "\n",
    "args = [((1, 1), np.random.rand(200000, 4), 100, np.random.rand(100000), True) for i in range(CPU_COUNT)]\n",
    "\n",
    "%timeit jit_render(*args[0])\n",
    "\n",
    "# print(\"Linear time:\")\n",
    "# %time linear_compute = [jit_render(*a) for a in args]\n",
    "\n",
    "delayed_jit_render = dask.delayed(jit_render)\n",
    "# delayed_jit_render = dask.delayed(jit_render)\n",
    "\n",
    "print()\n",
    "print(\"Threads time:\")\n",
    "%time dask_compute_threads = dask.compute(*[delayed_jit_render(*a) for a in args], scheduler=\"threads\")\n"
   ]
  },
  {
   "cell_type": "code",
   "execution_count": 27,
   "metadata": {},
   "outputs": [
    {
     "data": {
      "text/plain": [
       "(10, 50)"
      ]
     },
     "execution_count": 27,
     "metadata": {},
     "output_type": "execute_result"
    }
   ],
   "source": [
    "_jit_gauss(10, 50, 5, 20, 4, 5).shape"
   ]
  },
  {
   "cell_type": "markdown",
   "metadata": {},
   "source": [
    "# Actual func"
   ]
  },
  {
   "cell_type": "code",
   "execution_count": null,
   "metadata": {},
   "outputs": [],
   "source": [
    "from pyPALM.render import _jit_gen_img_sub as render\n",
    "old_render = render\n",
    "from pyPALM.render import _jit_gauss, _gen_img_sub"
   ]
  },
  {
   "cell_type": "code",
   "execution_count": 7,
   "metadata": {},
   "outputs": [
    {
     "name": "stdout",
     "output_type": "stream",
     "text": [
      "3.38 s ± 65.1 ms per loop (mean ± std. dev. of 7 runs, 1 loop each)\n",
      "Linear time:\n",
      "Wall time: 2min 45s\n",
      "\n",
      "Threads time:\n",
      "Wall time: 1min 8s\n"
     ]
    },
    {
     "data": {
      "text/plain": [
       "(800, 800)"
      ]
     },
     "execution_count": 7,
     "metadata": {},
     "output_type": "execute_result"
    }
   ],
   "source": [
    "jit_render = jit(_gen_img_sub, nopython=True, nogil=True)\n",
    "\n",
    "size = 8\n",
    "mag = 100\n",
    "npts = 100000\n",
    "\n",
    "args = [(np.array((size, size)), np.random.rand(npts, 4) * (size, size, 0.25, 0.25), mag, np.random.rand(npts), True) for i in range(CPU_COUNT)]\n",
    "\n",
    "%timeit jit_render(*args[0])\n",
    "\n",
    "print(\"Linear time:\")\n",
    "%time linear_compute = [jit_render(*a) for a in args]\n",
    "\n",
    "delayed_jit_render = dask.delayed(jit_render)\n",
    "\n",
    "print()\n",
    "print(\"Threads time:\")\n",
    "%time dask_compute_threads = dask.compute(*[delayed_jit_render(*a) for a in args], scheduler=\"threads\")\n",
    "\n",
    "# print()\n",
    "# print(\"Processes time:\")\n",
    "# %time dask_compute_threads = dask.compute(*[delayed_jit_render(*a) for a in args], scheduler=\"processes\")\n",
    "dask_compute_threads[0].shape"
   ]
  },
  {
   "cell_type": "code",
   "execution_count": 8,
   "metadata": {},
   "outputs": [
    {
     "name": "stdout",
     "output_type": "stream",
     "text": [
      "150 ms ± 6.07 ms per loop (mean ± std. dev. of 7 runs, 1 loop each)\n",
      "Linear time:\n",
      "Wall time: 8.4 s\n",
      "\n",
      "Threads time:\n",
      "Wall time: 8.68 s\n"
     ]
    },
    {
     "data": {
      "text/plain": [
       "(800, 800)"
      ]
     },
     "execution_count": 8,
     "metadata": {},
     "output_type": "execute_result"
    }
   ],
   "source": [
    "jit_render = jit(_gen_img_sub, nopython=True, nogil=True)\n",
    "\n",
    "size = 800\n",
    "mag = 1\n",
    "npts = 100000\n",
    "\n",
    "args = [(np.array((size, size)), np.random.rand(npts, 4) * (size, size, 0.25, 0.25), mag, np.random.rand(npts), True) for i in range(CPU_COUNT)]\n",
    "\n",
    "%timeit jit_render(*args[0])\n",
    "\n",
    "print(\"Linear time:\")\n",
    "%time linear_compute = [jit_render(*a) for a in args]\n",
    "\n",
    "delayed_jit_render = dask.delayed(jit_render)\n",
    "\n",
    "print()\n",
    "print(\"Threads time:\")\n",
    "%time dask_compute_threads = dask.compute(*[delayed_jit_render(*a) for a in args], scheduler=\"threads\")\n",
    "\n",
    "# print()\n",
    "# print(\"Processes time:\")\n",
    "# %time dask_compute_threads = dask.compute(*[delayed_jit_render(*a) for a in args], scheduler=\"processes\")\n",
    "dask_compute_threads[0].shape"
   ]
  },
  {
   "cell_type": "code",
   "execution_count": 10,
   "metadata": {},
   "outputs": [
    {
     "data": {
      "text/plain": [
       "<matplotlib.image.AxesImage at 0x1149e4630>"
      ]
     },
     "execution_count": 10,
     "metadata": {},
     "output_type": "execute_result"
    },
    {
     "data": {
      "image/png": "[encoded data removed]",
      "text/plain": [
       "<Figure size 288x288 with 1 Axes>"
      ]
     },
     "metadata": {
      "needs_background": "light"
     },
     "output_type": "display_data"
    }
   ],
   "source": [
    "plt.matshow(dask_compute_threads[0], norm=mpl.colors.PowerNorm(0.5), vmax=0.001)"
   ]
  },
  {
   "cell_type": "code",
   "execution_count": 34,
   "metadata": {},
   "outputs": [
    {
     "data": {
      "text/plain": [
       "(8000, 8000)"
      ]
     },
     "execution_count": 34,
     "metadata": {},
     "output_type": "execute_result"
    }
   ],
   "source": [
    "dask_compute_threads[0].shape"
   ]
  },
  {
   "cell_type": "code",
   "execution_count": 17,
   "metadata": {},
   "outputs": [
    {
     "data": {
      "text/plain": [
       "(2, 3)"
      ]
     },
     "execution_count": 17,
     "metadata": {},
     "output_type": "execute_result"
    }
   ],
   "source": [
    "np.random.rand(10, 10)[(slice(2), slice(3))].shape"
   ]
  },
  {
   "cell_type": "code",
   "execution_count": null,
   "metadata": {},
   "outputs": [],
   "source": []
  }
 ],
 "metadata": {
  "kernelspec": {
   "display_name": "Python 3",
   "language": "python",
   "name": "python3"
  },
  "language_info": {
   "codemirror_mode": {
    "name": "ipython",
    "version": 3
   },
   "file_extension": ".py",
   "mimetype": "text/x-python",
   "name": "python",
   "nbconvert_exporter": "python",
   "pygments_lexer": "ipython3",
   "version": "3.7.3"
  }
 },
 "nbformat": 4,
 "nbformat_minor": 2
}
